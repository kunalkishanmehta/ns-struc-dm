{
  "nbformat": 4,
  "nbformat_minor": 0,
  "metadata": {
    "colab": {
      "name": "Constrain_DM_NS_models.ipynb",
      "provenance": [],
      "collapsed_sections": [],
      "authorship_tag": "ABX9TyMO3R2mxe6DowFEmoZI9/eZ"
    },
    "kernelspec": {
      "name": "python3",
      "display_name": "Python 3"
    },
    "language_info": {
      "name": "python"
    }
  },
  "cells": [
    {
      "cell_type": "code",
      "execution_count": 1,
      "metadata": {
        "id": "yAyg_H3bAEnD"
      },
      "outputs": [],
      "source": [
        "### CONSTRAIN_DM_NS_MODELS.IPYNB -- Compare neutron star mass-radius relations with different DM fractions to observed mass-radius measurements"
      ]
    },
    {
      "cell_type": "code",
      "source": [
        "# import packages\n",
        "\n",
        "import numpy as np\n",
        "import matplotlib.pyplot as plt\n",
        "import seaborn as sns\n",
        "from scipy.stats import gaussian_kde\n",
        "from scipy.interpolate import interp1d"
      ],
      "metadata": {
        "id": "a2J40s68AM7a"
      },
      "execution_count": 2,
      "outputs": []
    },
    {
      "cell_type": "code",
      "source": [
        "# download the ns-struc-dm repository\n",
        "\n",
        "! git clone https://github.com/kunalkishanmehta/ns-struc-dm.git"
      ],
      "metadata": {
        "colab": {
          "base_uri": "https://localhost:8080/"
        },
        "id": "eNqjT5cufQ6T",
        "outputId": "b04e5c65-e09b-40f8-b10c-3a52dab92315"
      },
      "execution_count": 3,
      "outputs": [
        {
          "output_type": "stream",
          "name": "stdout",
          "text": [
            "Cloning into 'ns-struc-dm'...\n",
            "remote: Enumerating objects: 220, done.\u001b[K\n",
            "remote: Counting objects: 100% (216/216), done.\u001b[K\n",
            "remote: Compressing objects: 100% (215/215), done.\u001b[K\n",
            "remote: Total 220 (delta 129), reused 15 (delta 1), pack-reused 4\u001b[K\n",
            "Receiving objects: 100% (220/220), 4.95 MiB | 7.34 MiB/s, done.\n",
            "Resolving deltas: 100% (129/129), done.\n"
          ]
        }
      ]
    },
    {
      "cell_type": "code",
      "source": [
        "# load neutron star observations\n",
        "\n",
        "j0030 = np.genfromtxt('ns-struc-dm/etc/Miller_J0030_three-spot.csv',names=True,delimiter=',',dtype=None) # psr j0030 mass and radius\n",
        "j0740 = np.genfromtxt('ns-struc-dm/etc/Miller_J0740_nominal-XMM.csv',names=True,delimiter=',',dtype=None) # psr j0740 mass and radius\n",
        "\n",
        "gw170817 = np.genfromtxt('ns-struc-dm/etc/LVC_GW170817_PhenomPNRT-lo.csv',names=True,delimiter=',',dtype=None) # gw170817 masses and tidal deformabilities\n",
        "gw190425 = np.genfromtxt('ns-struc-dm/etc/LVC_GW190425_PhenomPNRT-hi.csv',names=True,delimiter=',',dtype=None) # gw190425 masses and tidal deformabilities"
      ],
      "metadata": {
        "id": "ZE8Pi8M4Abuz"
      },
      "execution_count": 4,
      "outputs": []
    },
    {
      "cell_type": "code",
      "source": [
        "# convert tidal deformability to radius using a fit based on many different equations of state\n",
        "\n",
        "c = 2.998e10 # speed of light\n",
        "G = 6.6743e-9 # Newton's constant\n",
        "Msun = 1.988435e33 # solar mass\n",
        "\n",
        "def C(L): # fit to compactness Gm/c^2 R in terms of tidal deformability from arxiv:1608.02582\n",
        "\n",
        "  return 0.360 - 0.0355*np.log(L) + 0.001056*np.log(L)**2\n",
        "\n",
        "R1_gw170817 = [1e-4*(G/c**2)*m1*Msun/C(L1) for m1,L1 in zip(gw170817['m1'],gw170817['Lambda1'])]\n",
        "R2_gw170817 = [1e-4*(G/c**2)*m2*Msun/C(L2) for m2,L2 in zip(gw170817['m2'],gw170817['Lambda2'])]\n",
        "\n",
        "R1_gw190425 = [1e-4*(G/c**2)*m1*Msun/C(L1) for m1,L1 in zip(gw190425['m1'],gw190425['Lambda1'])]\n",
        "R2_gw190425 = [1e-4*(G/c**2)*m2*Msun/C(L2) for m2,L2 in zip(gw190425['m2'],gw190425['Lambda2'])]"
      ],
      "metadata": {
        "id": "l-9-TO1BLG8b"
      },
      "execution_count": 5,
      "outputs": []
    },
    {
      "cell_type": "code",
      "source": [
        "# load mass-radius tables for neutron stars containing dark matter\n",
        "\n",
        "sly_dm = np.genfromtxt('ns-struc-dm/macro-sly.csv',names=True,delimiter=',',dtype=None) # sly equation of state\n",
        "mpa1_dm = np.genfromtxt('ns-struc-dm/macro-mpa1.csv',names=True,delimiter=',',dtype=None) # mpa1 equation of state"
      ],
      "metadata": {
        "id": "TiSidk2KCttf"
      },
      "execution_count": 6,
      "outputs": []
    },
    {
      "cell_type": "code",
      "source": [
        "# overlay the mass-radius relations for the equations of state on top of the mass-radius measurements\n",
        "\n",
        "sns.kdeplot(x=j0030['R'],y=j0030['m'],weights=j0030['likelihood']/np.sum(j0030['likelihood']),levels=[0.1,0.5],color='b')\n",
        "sns.kdeplot(x=j0740['R'],y=j0740['m'],weights=j0740['likelihood']/np.sum(j0740['likelihood']),levels=[0.1,0.5],color='b')\n",
        "\n",
        "sns.kdeplot(x=R1_gw170817,y=gw170817['m1'],weights=gw170817['likelihood']/np.sum(gw170817['likelihood']),levels=[0.1,0.5],color='g')\n",
        "sns.kdeplot(x=R2_gw170817,y=gw170817['m2'],weights=gw170817['likelihood']/np.sum(gw170817['likelihood']),levels=[0.1,0.5],color='g')\n",
        "\n",
        "#sns.kdeplot(x=R1_gw190425,y=gw190425['m1'],weights=gw190425['likelihood']/np.sum(gw190425['likelihood']),levels=[0.1,0.5],color='g') # skip gw190425 for now because it's so uninformative\n",
        "#sns.kdeplot(x=R2_gw190425,y=gw190425['m2'],weights=gw190425['likelihood']/np.sum(gw190425['likelihood']),levels=[0.1,0.5],color='g')\n",
        "\n",
        "plt.plot(sly_dm['R'][::48],sly_dm['Mg'][::48],c='k')\n",
        "#plt.plot(sly_dm['R'][10::48],sly_dm['Mg'][10::48],c='k',ls='--') # replace these with constant DM fraction curves\n",
        "#plt.plot(sly_dm['R'][20::48],sly_dm['Mg'][20::48],c='k',ls='--')\n",
        "#plt.plot(sly_dm['R'][30::48],sly_dm['Mg'][30::48],c='k',ls='--')\n",
        "#plt.plot(sly_dm['R'][40::48],sly_dm['Mg'][40::48],c='k',ls='--')\n",
        "\n",
        "plt.plot(mpa1_dm['R'][::48],mpa1_dm['Mg'][::48],c='grey')\n",
        "#plt.plot(mpa1_dm['R'][10::48],mpa1_dm['Mg'][10::48],c='grey',ls='--') # replace these with constant DM fraction curves\n",
        "#plt.plot(mpa1_dm['R'][20::48],mpa1_dm['Mg'][20::48],c='grey',ls='--')\n",
        "#plt.plot(mpa1_dm['R'][30::48],mpa1_dm['Mg'][30::48],c='grey',ls='--')\n",
        "#plt.plot(mpa1_dm['R'][40::48],mpa1_dm['Mg'][40::48],c='grey',ls='--')\n",
        "\n",
        "plt.xlim(6.,22.)\n",
        "plt.ylim(1.,2.6)\n",
        "plt.xlabel(\"R [km]\")\n",
        "plt.ylabel(\"M [Msun]\")\n",
        "plt.show()"
      ],
      "metadata": {
        "colab": {
          "base_uri": "https://localhost:8080/",
          "height": 283
        },
        "id": "c_InVgFOA1eG",
        "outputId": "76c194c3-e855-4d5d-fe84-073b2d442728"
      },
      "execution_count": 7,
      "outputs": [
        {
          "output_type": "display_data",
          "data": {
            "text/plain": [
              "<Figure size 432x288 with 1 Axes>"
            ],
            "image/png": "[encoded data removed]"
          },
          "metadata": {
            "needs_background": "light"
          }
        }
      ]
    },
    {
      "cell_type": "code",
      "source": [
        "# to quantify which equation of state and dark matter fraction is preferred by the data, compute Bayesian evidences; start by interpolating mass-radius measurements with a Gaussian kernel density estimate\n",
        "\n",
        "j0030_kde = gaussian_kde(np.vstack((j0030['R'],j0030['m'])),weights=j0030['likelihood']/np.sum(j0030['likelihood'])) # returns a function that gives likelihood as a function of mass and radius\n",
        "j0740_kde = gaussian_kde(np.vstack((j0740['R'],j0740['m'])),weights=j0740['likelihood']/np.sum(j0740['likelihood']))\n",
        "\n",
        "gw170817_kde1 = gaussian_kde(np.vstack((R1_gw170817,gw170817['m1'])),weights=gw170817['likelihood']/np.sum(gw170817['likelihood']))\n",
        "gw170817_kde2 = gaussian_kde(np.vstack((R2_gw170817,gw170817['m2'])),weights=gw170817['likelihood']/np.sum(gw170817['likelihood']))\n",
        "\n",
        "gw190425_kde1 = gaussian_kde(np.vstack((R1_gw190425,gw190425['m1'])),weights=gw190425['likelihood']/np.sum(gw190425['likelihood']))\n",
        "gw190425_kde2 = gaussian_kde(np.vstack((R2_gw190425,gw190425['m2'])),weights=gw190425['likelihood']/np.sum(gw190425['likelihood']))"
      ],
      "metadata": {
        "id": "xMDyFmBYnuv1"
      },
      "execution_count": 8,
      "outputs": []
    },
    {
      "cell_type": "code",
      "source": [
        "# now interpolate equation of state's mass-radius relation, up to maximum mass, and calculate Bayesian evidence for that equation of state\n",
        "\n",
        "mmax = max(sly_dm['Mg'][::48])\n",
        "pos = list(sly_dm['Mg'][::48]).index(mmax)\n",
        "radius = interp1d(sly_dm['Mg'][::48][:pos+1],sly_dm['R'][::48][:pos+1],bounds_error=False,fill_value = 0.) # returns a function that gives radius as a function of mass\n",
        "\n",
        "# evidence = integral[ likelihood(observation | m,R) * probability(m,R | eos) dm dR ], where likelihood is the kde and probability is a delta function in R(m) for the eos\n",
        "# evidence_tot = evidence1*evidence2*...\n",
        "# use Monte Carlo approximation of integral: integral[... dm] = sum[... for m in uniform_m]/num_m\n",
        "\n",
        "j0030_like = np.sum([j0030_kde((radius(m),m)) for m in np.linspace(1.,3.,100)])/100 # likelihood of psr j0030 mass and radius, given equation of state\n",
        "j0740_like = np.sum([j0740_kde((radius(m),m)) for m in np.linspace(1.,3.,100)])/100 # likelihood of psr j0740 mass and radius, given equation of state\n",
        "like = j0030_like*j0740_like # evidence for equation of state from psr observations\n",
        "print(like)\n",
        "\n",
        "gw170817_like1 = np.sum([gw170817_kde1((radius(m),m)) for m in np.linspace(1.,3.,100)])/100 # likelihood of gw170817 primary mass and radius, given equation of state\n",
        "gw170817_like2 = np.sum([gw170817_kde2((radius(m),m)) for m in np.linspace(1.,3.,100)])/100 # likelihood of gw170817 secondary mass and radius, given equation of state\n",
        "#gw190425_like1 = np.sum([gw190425_kde1((radius(m),m)) for m in np.linspace(1.,3.,100)])/100 # likelihood of gw190425 primary mass and radius, given equation of state\n",
        "#gw190425_like2 = np.sum([gw190425_kde2((radius(m),m)) for m in np.linspace(1.,3.,100)])/100 # likelihood of gw190425 secondary mass and radius, given equation of state\n",
        "like = gw170817_like1*gw170817_like2#*gw190425_like1*gw190425_like2 # evidence for equation of state from gw observations # skip gw190425 for now because it's so uninformative\n",
        "print(like)"
      ],
      "metadata": {
        "colab": {
          "base_uri": "https://localhost:8080/"
        },
        "id": "h7RtvAK9GPN5",
        "outputId": "bad2af4c-577e-4fe0-922b-38b81aa3b4fb"
      },
      "execution_count": 9,
      "outputs": [
        {
          "output_type": "stream",
          "name": "stdout",
          "text": [
            "0.0006018056438090284\n",
            "0.008829536132493746\n"
          ]
        }
      ]
    },
    {
      "cell_type": "code",
      "source": [
        "# repeat for another equation of state; can also do non-zero dark matter fraction mass-radius relation\n",
        "\n",
        "mmax = max(mpa1_dm['Mg'][::48])\n",
        "pos = list(mpa1_dm['Mg'][::48]).index(mmax)\n",
        "radius = interp1d(mpa1_dm['Mg'][::48][:pos+1],mpa1_dm['R'][::48][:pos+1],bounds_error=False,fill_value = 0.) # returns a function that gives radius as a function of mass\n",
        "\n",
        "# evidence = integral[ likelihood(observation | m,R) * probability(m,R | eos) dm dR ], where likelihood is the kde and probability is a delta function in R(m) for the eos\n",
        "# evidence_tot = evidence1*evidence2*...\n",
        "# use Monte Carlo approximation of integral: integral[... dm] = sum[... for m in uniform_m]/num_m\n",
        "\n",
        "j0030_like = np.sum([j0030_kde((radius(m),m)) for m in np.linspace(1.,3.,100)])/100 # likelihood of psr j0030 mass and radius, given equation of state\n",
        "j0740_like = np.sum([j0740_kde((radius(m),m)) for m in np.linspace(1.,3.,100)])/100 # likelihood of psr j0740 mass and radius, given equation of state\n",
        "like = j0030_like*j0740_like # evidence for equation of state from psr observations\n",
        "print(like)\n",
        "\n",
        "gw170817_like1 = np.sum([gw170817_kde1((radius(m),m)) for m in np.linspace(1.,3.,100)])/100 # likelihood of gw170817 primary mass and radius, given equation of state\n",
        "gw170817_like2 = np.sum([gw170817_kde2((radius(m),m)) for m in np.linspace(1.,3.,100)])/100 # likelihood of gw170817 secondary mass and radius, given equation of state\n",
        "#gw190425_like1 = np.sum([gw190425_kde1((radius(m),m)) for m in np.linspace(1.,3.,100)])/100 # likelihood of gw190425 primary mass and radius, given equation of state\n",
        "#gw190425_like2 = np.sum([gw190425_kde2((radius(m),m)) for m in np.linspace(1.,3.,100)])/100 # likelihood of gw190425 secondary mass and radius, given equation of state\n",
        "like = gw170817_like1*gw170817_like2#*gw190425_like1*gw190425_like2 # evidence for equation of state from gw observations # skip gw190425 for now because it's so uninformative\n",
        "print(like)"
      ],
      "metadata": {
        "colab": {
          "base_uri": "https://localhost:8080/"
        },
        "id": "190WiMHmj6DI",
        "outputId": "aeb54474-99ec-4382-dcce-644c429ff58e"
      },
      "execution_count": 10,
      "outputs": [
        {
          "output_type": "stream",
          "name": "stdout",
          "text": [
            "0.012332629521939253\n",
            "0.0024179303674999038\n"
          ]
        }
      ]
    },
    {
      "cell_type": "code",
      "source": [
        "# from this, conclude that pulsar measurements favour mpa1 over sly by factor of 0.0123/0.0006 = 20, but gw measurements favor sly over mpa1 by factor of 0.0088/0.0024 = 4; can do the same calculation for zero vs non-zero DM fraction"
      ],
      "metadata": {
        "id": "Gkq_s2fSkbgV"
      },
      "execution_count": 11,
      "outputs": []
    }
  ]
}