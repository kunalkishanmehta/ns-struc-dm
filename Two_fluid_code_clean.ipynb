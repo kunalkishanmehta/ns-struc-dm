{
  "cells": [
    {
      "cell_type": "markdown",
      "metadata": {
        "id": "view-in-github",
        "colab_type": "text"
      },
      "source": [
        "<a href=\"https://colab.research.google.com/github/kunalkishanmehta/ns-struc-dm/blob/master/Two_fluid_code_clean.ipynb\" target=\"_parent\"><img src=\"https://colab.research.google.com/assets/colab-badge.svg\" alt=\"Open In Colab\"/></a>"
      ]
    },
    {
      "cell_type": "code",
      "execution_count": 1,
      "metadata": {
        "id": "zgqT5gUVzwM2"
      },
      "outputs": [],
      "source": [
        "%matplotlib inline"
      ]
    },
    {
      "cell_type": "code",
      "execution_count": 2,
      "metadata": {
        "id": "AuDtL-QTnbN4"
      },
      "outputs": [],
      "source": [
        "import numpy as np # import packages\n",
        "import matplotlib.pyplot as plt\n",
        "import scipy.interpolate\n",
        "from scipy.optimize import curve_fit\n",
        "from scipy.interpolate import interp1d"
      ]
    },
    {
      "cell_type": "code",
      "execution_count": 3,
      "metadata": {
        "id": "k_HR1O5ByRCR",
        "colab": {
          "base_uri": "https://localhost:8080/"
        },
        "outputId": "cdf8dce5-f6f2-4352-d2da-041a9370ac64"
      },
      "outputs": [
        {
          "output_type": "stream",
          "name": "stdout",
          "text": [
            "Collecting scipy\n",
            "  Downloading https://files.pythonhosted.org/packages/24/40/11b12af7f322c1e20446c037c47344d89bab4922b8859419d82cf56d796d/scipy-1.2.3-cp27-cp27mu-manylinux1_x86_64.whl (24.8MB)\n",
            "Requirement already satisfied: numpy>=1.8.2 in /usr/lib/python2.7/dist-packages (from scipy) (1.13.3)\n",
            "Installing collected packages: scipy\n",
            "Successfully installed scipy-1.2.3\n",
            "running install\n",
            "running bdist_egg\n",
            "running egg_info\n",
            "creating ns_struc_dm.egg-info\n",
            "writing ns_struc_dm.egg-info/PKG-INFO\n",
            "writing top-level names to ns_struc_dm.egg-info/top_level.txt\n",
            "writing dependency_links to ns_struc_dm.egg-info/dependency_links.txt\n",
            "writing manifest file 'ns_struc_dm.egg-info/SOURCES.txt'\n",
            "reading manifest file 'ns_struc_dm.egg-info/SOURCES.txt'\n",
            "writing manifest file 'ns_struc_dm.egg-info/SOURCES.txt'\n",
            "installing library code to build/bdist.linux-x86_64/egg\n",
            "running install_lib\n",
            "running build_py\n",
            "creating build\n",
            "creating build/lib.linux-x86_64-2.7\n",
            "creating build/lib.linux-x86_64-2.7/nsstruc\n",
            "copying nsstruc/struceqs.py -> build/lib.linux-x86_64-2.7/nsstruc\n",
            "copying nsstruc/__init__.py -> build/lib.linux-x86_64-2.7/nsstruc\n",
            "copying nsstruc/macro.py -> build/lib.linux-x86_64-2.7/nsstruc\n",
            "copying nsstruc/branch.py -> build/lib.linux-x86_64-2.7/nsstruc\n",
            "copying nsstruc/pltsetup.py -> build/lib.linux-x86_64-2.7/nsstruc\n",
            "copying nsstruc/tov.py -> build/lib.linux-x86_64-2.7/nsstruc\n",
            "copying nsstruc/constants.py -> build/lib.linux-x86_64-2.7/nsstruc\n",
            "creating build/bdist.linux-x86_64\n",
            "creating build/bdist.linux-x86_64/egg\n",
            "creating build/bdist.linux-x86_64/egg/nsstruc\n",
            "copying build/lib.linux-x86_64-2.7/nsstruc/struceqs.py -> build/bdist.linux-x86_64/egg/nsstruc\n",
            "copying build/lib.linux-x86_64-2.7/nsstruc/__init__.py -> build/bdist.linux-x86_64/egg/nsstruc\n",
            "copying build/lib.linux-x86_64-2.7/nsstruc/macro.py -> build/bdist.linux-x86_64/egg/nsstruc\n",
            "copying build/lib.linux-x86_64-2.7/nsstruc/branch.py -> build/bdist.linux-x86_64/egg/nsstruc\n",
            "copying build/lib.linux-x86_64-2.7/nsstruc/pltsetup.py -> build/bdist.linux-x86_64/egg/nsstruc\n",
            "copying build/lib.linux-x86_64-2.7/nsstruc/tov.py -> build/bdist.linux-x86_64/egg/nsstruc\n",
            "copying build/lib.linux-x86_64-2.7/nsstruc/constants.py -> build/bdist.linux-x86_64/egg/nsstruc\n",
            "byte-compiling build/bdist.linux-x86_64/egg/nsstruc/struceqs.py to struceqs.pyc\n",
            "byte-compiling build/bdist.linux-x86_64/egg/nsstruc/__init__.py to __init__.pyc\n",
            "byte-compiling build/bdist.linux-x86_64/egg/nsstruc/macro.py to macro.pyc\n",
            "byte-compiling build/bdist.linux-x86_64/egg/nsstruc/branch.py to branch.pyc\n",
            "byte-compiling build/bdist.linux-x86_64/egg/nsstruc/pltsetup.py to pltsetup.pyc\n",
            "byte-compiling build/bdist.linux-x86_64/egg/nsstruc/tov.py to tov.pyc\n",
            "byte-compiling build/bdist.linux-x86_64/egg/nsstruc/constants.py to constants.pyc\n",
            "creating build/bdist.linux-x86_64/egg/EGG-INFO\n",
            "installing scripts to build/bdist.linux-x86_64/egg/EGG-INFO/scripts\n",
            "running install_scripts\n",
            "running build_scripts\n",
            "creating build/scripts-2.7\n",
            "copying and adjusting bin/getpaths -> build/scripts-2.7\n",
            "copying bin/makemacro -> build/scripts-2.7\n",
            "copying and adjusting bin/plotprops -> build/scripts-2.7\n",
            "copying and adjusting bin/comparemacro -> build/scripts-2.7\n",
            "copying and adjusting bin/getnsprops -> build/scripts-2.7\n",
            "copying and adjusting bin/plotcsv -> build/scripts-2.7\n",
            "copying and adjusting bin/compareprops -> build/scripts-2.7\n",
            "copying and adjusting bin/getmacro -> build/scripts-2.7\n",
            "copying and adjusting bin/plotur -> build/scripts-2.7\n",
            "copying bin/compare -> build/scripts-2.7\n",
            "copying and adjusting bin/splitbranches -> build/scripts-2.7\n",
            "changing mode of build/scripts-2.7/getpaths from 644 to 755\n",
            "changing mode of build/scripts-2.7/plotprops from 644 to 755\n",
            "changing mode of build/scripts-2.7/comparemacro from 644 to 755\n",
            "changing mode of build/scripts-2.7/getnsprops from 644 to 755\n",
            "changing mode of build/scripts-2.7/plotcsv from 644 to 755\n",
            "changing mode of build/scripts-2.7/compareprops from 644 to 755\n",
            "changing mode of build/scripts-2.7/getmacro from 644 to 755\n",
            "changing mode of build/scripts-2.7/plotur from 644 to 755\n",
            "changing mode of build/scripts-2.7/splitbranches from 644 to 755\n",
            "creating build/bdist.linux-x86_64/egg/EGG-INFO/scripts\n",
            "copying build/scripts-2.7/getpaths -> build/bdist.linux-x86_64/egg/EGG-INFO/scripts\n",
            "copying build/scripts-2.7/makemacro -> build/bdist.linux-x86_64/egg/EGG-INFO/scripts\n",
            "copying build/scripts-2.7/plotprops -> build/bdist.linux-x86_64/egg/EGG-INFO/scripts\n",
            "copying build/scripts-2.7/comparemacro -> build/bdist.linux-x86_64/egg/EGG-INFO/scripts\n",
            "copying build/scripts-2.7/getnsprops -> build/bdist.linux-x86_64/egg/EGG-INFO/scripts\n",
            "copying build/scripts-2.7/plotcsv -> build/bdist.linux-x86_64/egg/EGG-INFO/scripts\n",
            "copying build/scripts-2.7/compareprops -> build/bdist.linux-x86_64/egg/EGG-INFO/scripts\n",
            "copying build/scripts-2.7/getmacro -> build/bdist.linux-x86_64/egg/EGG-INFO/scripts\n",
            "copying build/scripts-2.7/plotur -> build/bdist.linux-x86_64/egg/EGG-INFO/scripts\n",
            "copying build/scripts-2.7/compare -> build/bdist.linux-x86_64/egg/EGG-INFO/scripts\n",
            "copying build/scripts-2.7/splitbranches -> build/bdist.linux-x86_64/egg/EGG-INFO/scripts\n",
            "changing mode of build/bdist.linux-x86_64/egg/EGG-INFO/scripts/getpaths to 755\n",
            "changing mode of build/bdist.linux-x86_64/egg/EGG-INFO/scripts/makemacro to 755\n",
            "changing mode of build/bdist.linux-x86_64/egg/EGG-INFO/scripts/plotprops to 755\n",
            "changing mode of build/bdist.linux-x86_64/egg/EGG-INFO/scripts/comparemacro to 755\n",
            "changing mode of build/bdist.linux-x86_64/egg/EGG-INFO/scripts/getnsprops to 755\n",
            "changing mode of build/bdist.linux-x86_64/egg/EGG-INFO/scripts/plotcsv to 755\n",
            "changing mode of build/bdist.linux-x86_64/egg/EGG-INFO/scripts/compareprops to 755\n",
            "changing mode of build/bdist.linux-x86_64/egg/EGG-INFO/scripts/getmacro to 755\n",
            "changing mode of build/bdist.linux-x86_64/egg/EGG-INFO/scripts/plotur to 755\n",
            "changing mode of build/bdist.linux-x86_64/egg/EGG-INFO/scripts/compare to 755\n",
            "changing mode of build/bdist.linux-x86_64/egg/EGG-INFO/scripts/splitbranches to 755\n",
            "copying ns_struc_dm.egg-info/PKG-INFO -> build/bdist.linux-x86_64/egg/EGG-INFO\n",
            "copying ns_struc_dm.egg-info/SOURCES.txt -> build/bdist.linux-x86_64/egg/EGG-INFO\n",
            "copying ns_struc_dm.egg-info/dependency_links.txt -> build/bdist.linux-x86_64/egg/EGG-INFO\n",
            "copying ns_struc_dm.egg-info/top_level.txt -> build/bdist.linux-x86_64/egg/EGG-INFO\n",
            "creating dist\n",
            "creating 'dist/ns_struc_dm-0.0-py2.7.egg' and adding 'build/bdist.linux-x86_64/egg' to it\n",
            "removing 'build/bdist.linux-x86_64/egg' (and everything under it)\n",
            "Creating /opt/lib/python2.7/site-packages/site.py\n",
            "Processing ns_struc_dm-0.0-py2.7.egg\n",
            "Copying ns_struc_dm-0.0-py2.7.egg to /opt/lib/python2.7/site-packages\n",
            "Adding ns-struc-dm 0.0 to easy-install.pth file\n",
            "Installing splitbranches script to /opt//bin\n",
            "Installing plotur script to /opt//bin\n",
            "Installing plotcsv script to /opt//bin\n",
            "Installing getpaths script to /opt//bin\n",
            "Installing comparemacro script to /opt//bin\n",
            "Installing compareprops script to /opt//bin\n",
            "Installing getnsprops script to /opt//bin\n",
            "Installing compare script to /opt//bin\n",
            "Installing getmacro script to /opt//bin\n",
            "Installing plotprops script to /opt//bin\n",
            "Installing makemacro script to /opt//bin\n",
            "\n",
            "Installed /opt/lib/python2.7/site-packages/ns_struc_dm-0.0-py2.7.egg\n",
            "Processing dependencies for ns-struc-dm==0.0\n",
            "Finished processing dependencies for ns-struc-dm==0.0\n",
            "\n",
            " *** \n",
            "\n",
            "Usage: getnsprops EoS1.csv,EoS2.csv,... [-v] [-p R,M,Lambda,...] [-n 200] [-r 0.8,12] [-d ./eos/] [-o ./dat/]\n",
            "\n",
            "GETNSPROPS -- calculate NS properties as a function of central density for\n",
            "selected EoSs\n",
            "\n",
            "Options:\n",
            "  -h, --help            show this help message and exit\n",
            "  -p R,M,Lambda, --props=R,M,Lambda\n",
            "                        comma-separated list of NS properties to calculate,\n",
            "                        DEFAULT=R,M,Lambda\n",
            "  -n 2e2, --numrhoc=2e2\n",
            "                        number of central densities to sample per EoS,\n",
            "                        DEFAULT=200\n",
            "  -r 0.8,1.2e1, --rhorng=0.8,1.2e1\n",
            "                        comma-separated min and max values for central density\n",
            "                        in units of rhonuc, DEFAULT=0.8,1.2e1\n",
            "  -R 0.8,1.2e1, --rhodmrng=0.8,1.2e1\n",
            "                        comma-separated min and max values for central dark\n",
            "                        matter density in units of rhonuc, DEFAULT=0.8,1.2e1\n",
            "  -s 1e1, --stpi=1e1    starting step size for radial TOV integration in cm,\n",
            "                        DEFAULT=1e1\n",
            "  -N 2e3, --numpts=2e3  number of points for radial TOV integration,\n",
            "                        DEFAULT=2e3\n",
            "  -m 2e6, --maxr=2e6    radius endpoint in cm for surface finding algorithm,\n",
            "                        DEFAULT=2e6\n",
            "  -T 1e1, --tol=1e1     pressure tolerance for surface finding algorithm in\n",
            "                        g/cm^3, DEFAULT=1e1\n",
            "  -d ./eos/, --dir=./eos/\n",
            "                        path to directory housing EoS data, DEFAULT=./eos/\n",
            "  -o ./dat/, --outdir=./dat/\n",
            "                        path to output directory, DEFAULT=./dat/\n",
            "  -t macro-, --tag=macro-\n",
            "                        tag for output data file, DEFAULT=macro-\n",
            "  -v, --verbose         toggle verbose output, DEFAULT=False\n",
            "\n",
            " *** \n",
            "\n"
          ]
        },
        {
          "output_type": "stream",
          "name": "stderr",
          "text": [
            "Cloning into 'ns-struc-dm'...\n",
            "zip_safe flag not set; analyzing archive contents...\n"
          ]
        }
      ],
      "source": [
        "# download and install the code\n",
        "\n",
        "%%bash\n",
        "# make this cell an instance of a terminal\n",
        "\n",
        "git clone https://github.com/kunalkishanmehta/ns-struc-dm.git # download code repository from https://github.com/landryp/ns-struc/tree/enthalpy\n",
        "python2 -m pip install scipy\n",
        "\n",
        "mkdir /opt/bin /opt/lib/ /opt/lib/python2.7 /opt/lib/python2.7/site-packages # create install directory and make it findable\n",
        "export PATH=$PATH:/opt/bin\n",
        "export PYTHONPATH=$PYTHONPATH:/opt/lib/python2.7/site-packages\n",
        "\n",
        "cd /content/ns-struc-dm # install code\n",
        "python2 setup.py install --prefix /opt/\n",
        "\n",
        "echo -e '\\n *** \\n'\n",
        "\n",
        "getnsprops -h # this is the executable from ns-struc that solves the TOV equations to compute neutron star observables; print its help string to see the syntax for calling it\n",
        "\n",
        "echo -e '\\n *** \\n'"
      ]
    },
    {
      "cell_type": "code",
      "execution_count": 4,
      "metadata": {
        "id": "-om479BaJSDA",
        "colab": {
          "base_uri": "https://localhost:8080/"
        },
        "outputId": "2a6a2e1c-dd01-4e13-c6ca-d8412fc8ce8c"
      },
      "outputs": [
        {
          "output_type": "stream",
          "name": "stdout",
          "text": [
            "Already up to date.\n",
            "running install\n",
            "running bdist_egg\n",
            "running egg_info\n",
            "writing ns_struc_dm.egg-info/PKG-INFO\n",
            "writing top-level names to ns_struc_dm.egg-info/top_level.txt\n",
            "writing dependency_links to ns_struc_dm.egg-info/dependency_links.txt\n",
            "reading manifest file 'ns_struc_dm.egg-info/SOURCES.txt'\n",
            "writing manifest file 'ns_struc_dm.egg-info/SOURCES.txt'\n",
            "installing library code to build/bdist.linux-x86_64/egg\n",
            "running install_lib\n",
            "running build_py\n",
            "creating build/bdist.linux-x86_64/egg\n",
            "creating build/bdist.linux-x86_64/egg/nsstruc\n",
            "copying build/lib.linux-x86_64-2.7/nsstruc/struceqs.py -> build/bdist.linux-x86_64/egg/nsstruc\n",
            "copying build/lib.linux-x86_64-2.7/nsstruc/__init__.py -> build/bdist.linux-x86_64/egg/nsstruc\n",
            "copying build/lib.linux-x86_64-2.7/nsstruc/macro.py -> build/bdist.linux-x86_64/egg/nsstruc\n",
            "copying build/lib.linux-x86_64-2.7/nsstruc/branch.py -> build/bdist.linux-x86_64/egg/nsstruc\n",
            "copying build/lib.linux-x86_64-2.7/nsstruc/pltsetup.py -> build/bdist.linux-x86_64/egg/nsstruc\n",
            "copying build/lib.linux-x86_64-2.7/nsstruc/tov.py -> build/bdist.linux-x86_64/egg/nsstruc\n",
            "copying build/lib.linux-x86_64-2.7/nsstruc/constants.py -> build/bdist.linux-x86_64/egg/nsstruc\n",
            "byte-compiling build/bdist.linux-x86_64/egg/nsstruc/struceqs.py to struceqs.pyc\n",
            "byte-compiling build/bdist.linux-x86_64/egg/nsstruc/__init__.py to __init__.pyc\n",
            "byte-compiling build/bdist.linux-x86_64/egg/nsstruc/macro.py to macro.pyc\n",
            "byte-compiling build/bdist.linux-x86_64/egg/nsstruc/branch.py to branch.pyc\n",
            "byte-compiling build/bdist.linux-x86_64/egg/nsstruc/pltsetup.py to pltsetup.pyc\n",
            "byte-compiling build/bdist.linux-x86_64/egg/nsstruc/tov.py to tov.pyc\n",
            "byte-compiling build/bdist.linux-x86_64/egg/nsstruc/constants.py to constants.pyc\n",
            "creating build/bdist.linux-x86_64/egg/EGG-INFO\n",
            "installing scripts to build/bdist.linux-x86_64/egg/EGG-INFO/scripts\n",
            "running install_scripts\n",
            "running build_scripts\n",
            "creating build/bdist.linux-x86_64/egg/EGG-INFO/scripts\n",
            "copying build/scripts-2.7/getpaths -> build/bdist.linux-x86_64/egg/EGG-INFO/scripts\n",
            "copying build/scripts-2.7/makemacro -> build/bdist.linux-x86_64/egg/EGG-INFO/scripts\n",
            "copying build/scripts-2.7/plotprops -> build/bdist.linux-x86_64/egg/EGG-INFO/scripts\n",
            "copying build/scripts-2.7/comparemacro -> build/bdist.linux-x86_64/egg/EGG-INFO/scripts\n",
            "copying build/scripts-2.7/getnsprops -> build/bdist.linux-x86_64/egg/EGG-INFO/scripts\n",
            "copying build/scripts-2.7/plotcsv -> build/bdist.linux-x86_64/egg/EGG-INFO/scripts\n",
            "copying build/scripts-2.7/compareprops -> build/bdist.linux-x86_64/egg/EGG-INFO/scripts\n",
            "copying build/scripts-2.7/getmacro -> build/bdist.linux-x86_64/egg/EGG-INFO/scripts\n",
            "copying build/scripts-2.7/plotur -> build/bdist.linux-x86_64/egg/EGG-INFO/scripts\n",
            "copying build/scripts-2.7/compare -> build/bdist.linux-x86_64/egg/EGG-INFO/scripts\n",
            "copying build/scripts-2.7/splitbranches -> build/bdist.linux-x86_64/egg/EGG-INFO/scripts\n",
            "changing mode of build/bdist.linux-x86_64/egg/EGG-INFO/scripts/getpaths to 755\n",
            "changing mode of build/bdist.linux-x86_64/egg/EGG-INFO/scripts/makemacro to 755\n",
            "changing mode of build/bdist.linux-x86_64/egg/EGG-INFO/scripts/plotprops to 755\n",
            "changing mode of build/bdist.linux-x86_64/egg/EGG-INFO/scripts/comparemacro to 755\n",
            "changing mode of build/bdist.linux-x86_64/egg/EGG-INFO/scripts/getnsprops to 755\n",
            "changing mode of build/bdist.linux-x86_64/egg/EGG-INFO/scripts/plotcsv to 755\n",
            "changing mode of build/bdist.linux-x86_64/egg/EGG-INFO/scripts/compareprops to 755\n",
            "changing mode of build/bdist.linux-x86_64/egg/EGG-INFO/scripts/getmacro to 755\n",
            "changing mode of build/bdist.linux-x86_64/egg/EGG-INFO/scripts/plotur to 755\n",
            "changing mode of build/bdist.linux-x86_64/egg/EGG-INFO/scripts/compare to 755\n",
            "changing mode of build/bdist.linux-x86_64/egg/EGG-INFO/scripts/splitbranches to 755\n",
            "copying ns_struc_dm.egg-info/PKG-INFO -> build/bdist.linux-x86_64/egg/EGG-INFO\n",
            "copying ns_struc_dm.egg-info/SOURCES.txt -> build/bdist.linux-x86_64/egg/EGG-INFO\n",
            "copying ns_struc_dm.egg-info/dependency_links.txt -> build/bdist.linux-x86_64/egg/EGG-INFO\n",
            "copying ns_struc_dm.egg-info/top_level.txt -> build/bdist.linux-x86_64/egg/EGG-INFO\n",
            "creating 'dist/ns_struc_dm-0.0-py2.7.egg' and adding 'build/bdist.linux-x86_64/egg' to it\n",
            "removing 'build/bdist.linux-x86_64/egg' (and everything under it)\n",
            "Processing ns_struc_dm-0.0-py2.7.egg\n",
            "Removing /opt/lib/python2.7/site-packages/ns_struc_dm-0.0-py2.7.egg\n",
            "Copying ns_struc_dm-0.0-py2.7.egg to /opt/lib/python2.7/site-packages\n",
            "ns-struc-dm 0.0 is already the active version in easy-install.pth\n",
            "Installing splitbranches script to /opt//bin\n",
            "Installing plotur script to /opt//bin\n",
            "Installing plotcsv script to /opt//bin\n",
            "Installing getpaths script to /opt//bin\n",
            "Installing comparemacro script to /opt//bin\n",
            "Installing compareprops script to /opt//bin\n",
            "Installing getnsprops script to /opt//bin\n",
            "Installing compare script to /opt//bin\n",
            "Installing getmacro script to /opt//bin\n",
            "Installing plotprops script to /opt//bin\n",
            "Installing makemacro script to /opt//bin\n",
            "\n",
            "Installed /opt/lib/python2.7/site-packages/ns_struc_dm-0.0-py2.7.egg\n",
            "Processing dependencies for ns-struc-dm==0.0\n",
            "Finished processing dependencies for ns-struc-dm==0.0\n"
          ]
        },
        {
          "output_type": "stream",
          "name": "stderr",
          "text": [
            "zip_safe flag not set; analyzing archive contents...\n"
          ]
        }
      ],
      "source": [
        "%%bash\n",
        "export PATH=$PATH:/opt/bin\n",
        "export PYTHONPATH=$PYTHONPATH:/opt/lib/python2.7/site-packages\n",
        "\n",
        "cd /content/ns-struc-dm # install code\n",
        "git pull\n",
        "python2 setup.py install --prefix /opt/\n",
        "\n"
      ]
    },
    {
      "cell_type": "code",
      "execution_count": null,
      "metadata": {
        "id": "fyk_4phkVJ8r",
        "colab": {
          "base_uri": "https://localhost:8080/"
        },
        "outputId": "20110faf-5cfe-41ce-ebea-ebfbed9a10f2"
      },
      "outputs": [
        {
          "output_type": "stream",
          "name": "stdout",
          "text": [
            "Process is interrupted.\n"
          ]
        }
      ],
      "source": [
        "# calculate neutron star observables for a given equation of state\n",
        "\n",
        "%%bash\n",
        "# this cell is a separate terminal instance\n",
        "\n",
        "export PATH=$PATH:/opt/bin # the code doesn't need to be reinstalled in each terminal, but we do need to point to the install directory like this each time\n",
        "export PYTHONPATH=$PYTHONPATH:/opt/lib/python2.7/site-packages\n",
        "\n",
        "getnsprops sly.csv -p R,M,Rdm,Mdm,Mb,Md -d /content/ns-struc-dm/ -o /content/ -v -r 0.,12. -n 48 -R 0.,12. # call the executable that computes the neutron star observables\n",
        "# getnsprops [eos table] -p [observables to calculate] -m [mass range to calculate them for] \n",
        "#-d [directory where the eos table lives] -o [directory where the table of observables should be output]"
      ]
    },
    {
      "cell_type": "code",
      "execution_count": 5,
      "metadata": {
        "colab": {
          "base_uri": "https://localhost:8080/",
          "height": 462
        },
        "id": "Q3Wcm-DcVZFX",
        "outputId": "25c95efd-56f7-4c85-e683-8b70feb5367c"
      },
      "outputs": [
        {
          "output_type": "display_data",
          "data": {
            "text/plain": [
              "<Figure size 792x504 with 1 Axes>"
            ],
            "image/png": "[encoded data removed]"
          },
          "metadata": {
            "needs_background": "light"
          }
        }
      ],
      "source": [
        "# load the table of neutron star observablesthat was created above\n",
        "mrl_data_sly = np.genfromtxt('/content/macro-sly.csv',delimiter=',',names=True,dtype=None)\n",
        "\n",
        "\n",
        "plt.figure(figsize= (11,7))\n",
        "\n",
        "plt.scatter(mrl_data_sly['R'],(mrl_data_sly['Mg']), label = 'sly', marker = 'p', s =3)\n",
        "\n",
        "\n",
        "plt.xlim(0.5,16.)\n",
        "plt.ylim(0.,3.)\n",
        "plt.xlabel(r'$max(R+R_{DM})$ [km]', size = 16) # add plot labels, etc.\n",
        "plt.ylabel(r'$M+M_{DM}$ [$M_\\odot$]', size = 16)\n",
        "plt.legend(fontsize = 16, title='Equation of State',title_fontsize=18 , loc = 'upper right')\n",
        "plt.xticks(fontsize=16)\n",
        "plt.yticks(fontsize=16)\n",
        "\n",
        "plt.show()"
      ]
    },
    {
      "cell_type": "code",
      "execution_count": 6,
      "metadata": {
        "id": "J6S4ETSomTlp"
      },
      "outputs": [],
      "source": [
        "def filter_R(data,model,n):\n",
        "\n",
        "  lim = np.argmax((data['M']+data['Mdm']))\n",
        "  # plt.scatter(np.maximum(data['R'][:lim+10],data[:lim+10]['Rdm']),((data['M']+data['Mdm'])[:lim+10]), label = '{}'.format(model), marker = 'p')\n",
        "  \n",
        "  for i in range(len(data)):\n",
        "    if data['R'][i] < data['Rdm'][i]:\n",
        "      plt.scatter(data['R'][i],(data['M']+data['Mdm'])[i], marker = '.', color = 'lawngreen', s =3)\n",
        "    elif data['R'][i] > data['Rdm'][i]:\n",
        "      plt.scatter(data['R'][i],(data['M']+data['Mdm'])[i], marker = '.', color = 'm', s=3)\n",
        "    else:\n",
        "      plt.scatter(data['R'][i],(data['M']+data['Mdm'])[i], marker = 'o', color = 'b', s=3)\n",
        "\n",
        "  # plt.plot(data['R'][0::n],(data['M']+data['Mdm'])[0::n], label = '{} R0'.format(model), color = 'k')\n",
        "  plt.scatter(data['R'][0::n],(data['M']+data['Mdm'])[0::n], label = '{} R0'.format(model), color = 'k', s = 10)\n",
        "\n",
        "  return"
      ]
    },
    {
      "cell_type": "code",
      "execution_count": 7,
      "metadata": {
        "id": "WvQW1gdJ2RWp"
      },
      "outputs": [],
      "source": [
        "def filter_fdm(data,model,n):\n",
        "\n",
        "  # lim = np.argmax((data['M']+data['Mdm']))\n",
        "  # plt.scatter(np.maximum(data['R'][:lim+10],data[:lim+10]['Rdm']),((data['M']+data['Mdm'])[:lim+10]), label = '{}'.format(model), marker = 'p')\n",
        "  \n",
        "  for i in range(len(data)):\n",
        "    if data['fdm'][i] < 0.5:\n",
        "      plt.scatter(data['R'][i],(data['Mg'])[i], marker = '.', color = 'm', s = 3)\n",
        "    elif data['fdm'][i] > 0.5:\n",
        "      plt.scatter(data['R'][i],(data['Mg'])[i], marker = '.', color = 'c', s = 3)\n",
        "    else:\n",
        "      plt.scatter(data['R'][i],(data['Mg'])[i], marker = '.', color = 'gray', s = 3)\n",
        "\n",
        "  plt.scatter(data['R'][0::n],(data['Mg'])[0::n], label = '{} R0'.format(model), marker = 'o', color = 'k', s = 10)\n",
        "\n",
        "  return"
      ]
    },
    {
      "cell_type": "code",
      "execution_count": 8,
      "metadata": {
        "id": "aZOgIfmiIg12"
      },
      "outputs": [],
      "source": [
        "def plots(data,i,n,R,model):\n",
        "  \n",
        "  plt.scatter(data['R'][i::n],(data['Mg'][i::n]), label = '{} R={}'.format(model,R))\n",
        "\n",
        "\n",
        "  plt.xlim(8.,16.)\n",
        "  plt.ylim(1.,3.)\n",
        "  plt.xlabel(r'$max(R+R_{DM})$ [km]', size = 16) # add plot labels, etc.\n",
        "  plt.ylabel(r'$M+M_{DM}$ [$M_\\odot$]', size = 16)\n",
        "  plt.legend(fontsize = 16, title='Equation of State',title_fontsize=18 )\n",
        "  plt.xticks(fontsize=16)\n",
        "  plt.yticks(fontsize=16)\n",
        "  return"
      ]
    },
    {
      "cell_type": "code",
      "execution_count": 9,
      "metadata": {
        "id": "o8qIcQUxufuK"
      },
      "outputs": [],
      "source": [
        "# load central density, radius and mass data (computed separately)\n",
        "\n",
        "dat = np.genfromtxt('macro-sly.csv',delimiter=',',dtype=None,names=True)"
      ]
    },
    {
      "cell_type": "code",
      "execution_count": 10,
      "metadata": {
        "id": "nS-rxnc21rDU"
      },
      "outputs": [],
      "source": [
        "# to associate the dark matter fraction to each point in rhoc-rhocdm space, interpolate 3D (rhoc,rhocdm,fdm) data to get a function fdm(rhoc,rhocdm)\n",
        "\n",
        "x = dat['rhoc'] # input data\n",
        "y = dat['rhocdm']\n",
        "z = dat['fdm']\n",
        "\n",
        "X = np.linspace(0.1e14,3.1e15,1000) # the grid where we'll evaluate fdm(rhoc,rhocdm)\n",
        "Y = np.linspace(0.1e14,3.1e15,1000)\n",
        "x_grid, y_grid = np.meshgrid(X, Y)\n",
        "\n",
        "outdat = scipy.interpolate.griddata((x,y),z,(x_grid,y_grid),'linear')\n",
        " # fdm evaluated on the grid, with one of three methods: nearest, linear, cubic"
      ]
    },
    {
      "cell_type": "code",
      "execution_count": 11,
      "metadata": {
        "colab": {
          "base_uri": "https://localhost:8080/",
          "height": 289
        },
        "id": "RbtAset61u9m",
        "outputId": "119f9efd-fd60-4fbb-8269-d8c10eba00be"
      },
      "outputs": [
        {
          "output_type": "display_data",
          "data": {
            "text/plain": [
              "<Figure size 432x288 with 1 Axes>"
            ],
            "image/png": "[encoded data removed]"
          },
          "metadata": {
            "needs_background": "light"
          }
        }
      ],
      "source": [
        "# plot the interpolated fdm function \n",
        "\n",
        "\n",
        "num_cs = 9\n",
        "cs = plt.contour(x_grid,y_grid,outdat,list(np.geomspace(1e-2,0.1,2))+list(np.linspace(0.1,0.9,num_cs)[1:])+list(reversed(1.-np.geomspace(1e-2,0.1,2)[:-1])),colors='r') # plot the contours of constant fdm(rhoc,rhocdm)\n",
        "\n"
      ]
    },
    {
      "cell_type": "code",
      "execution_count": 12,
      "metadata": {
        "id": "YU2PNFbK1w14"
      },
      "outputs": [],
      "source": [
        "# extract the (rhoc,rhocdm) coordinates of the constant-fdm contours\n",
        "\n",
        "contours = []\n",
        "for i in range(num_cs+3):\n",
        "  try: c = cs.allsegs[i][0] # if a contour was plotted, save it\n",
        "  except: continue\n",
        "  contours += [c] # list that stores all the extracted contours\n",
        "\n",
        "\n"
      ]
    },
    {
      "cell_type": "code",
      "execution_count": 13,
      "metadata": {
        "id": "0ijK4n0u1zl3"
      },
      "outputs": [],
      "source": [
        "# downsample the contours to get a list of (rhoc,rhocdm) coordinates to use to generate a constant-fdm sequence of stars\n",
        "\n",
        "num_stars = 100 # how many stars to aim for in the sequence\n",
        "rhocs, rhocdms = [], []\n",
        "\n",
        "for c in contours:\n",
        "  \n",
        "  skip = int(len(c[:,0])/num_stars)\n",
        "  rhocs += [c[::skip,0]]\n",
        "  rhocdms += [c[::skip,1]] # downselect to num_stars (rhoc,rhocdm) points\n",
        "\n",
        "\n",
        "rhomin = 2.8e14 # because some central densities are too small to give physical neutron stars, throw out those below rhomin\n",
        "rhomax = 12*rhomin # because some central densities are too large to give physical neutron stars, throw out those above rhomax\n",
        "rhocs_out, rhocdms_out = [], []\n",
        "\n",
        "for c,cdm in zip(rhocs,rhocdms):\n",
        "  c_out, cdm_out = [], []\n",
        "\n",
        "  for rhoc,rhocdm in zip(c,cdm):\n",
        "    \n",
        "    if (rhoc >= rhomin or rhocdm >= rhomin) and rhoc <= rhomax and rhocdm <=rhomax: # one of rhoc/rhocdm below rhomin is ok, to allow pure regular matter or pure dm star\n",
        "      c_out += [rhoc]\n",
        "      cdm_out += [rhocdm]\n",
        "  rhocs_out += [c_out]\n",
        "  rhocdms_out += [cdm_out]"
      ]
    },
    {
      "cell_type": "code",
      "execution_count": 14,
      "metadata": {
        "id": "ACyPXABfJfEZ"
      },
      "outputs": [],
      "source": [
        "def find_rhos(n):\n",
        "  newrhoc = [str(r) for r in rhocs_out[n]]\n",
        "  find_rhos.newrhocs_list = ','.join(newrhoc)\n",
        "\n",
        "  newrhocdm = [str(r) for r in rhocdms_out[n]]\n",
        "  find_rhos.newrhocdms_list = ','.join(newrhocdm)\n",
        "  return find_rhos.newrhocs_list, find_rhos.newrhocdms_list\n"
      ]
    },
    {
      "cell_type": "code",
      "execution_count": 15,
      "metadata": {
        "colab": {
          "base_uri": "https://localhost:8080/"
        },
        "id": "bWt2aZMHX1NS",
        "outputId": "01699bac-97d9-4161-8d21-ecf1f4b5cab6"
      },
      "outputs": [
        {
          "output_type": "execute_result",
          "data": {
            "text/plain": [
              "('305426365184764.1,328588588588588.6,347565720610673.0,371891891891891.94,390450450450450.5,403656970442030.56,422396019697135.56,444893869547574.75,467777777777777.8,492522522522522.56,510143839954154.9,526546546546546.56,549230462233169.8,572942942942943.0,597687687687687.8,623517138041546.5,643314484233471.8,666834695058069.1,687387387387387.4,709039039039039.1,733783783783783.9,755435435435435.5,780180180180180.2,801831831831831.9,823483483483483.5,845135135135135.2,866786786786786.9,891531531531531.5,916276276276276.4,937185434710682.8,959235982610774.2,981231231231231.2,1002882882882883.0,1027627627627627.8,1052372372372372.4,1074024024024024.1,1098768768768768.9,1123513513513513.8,1147083781684991.8,1172304899468521.0,1194654654654654.8,1219399399399399.5,1244144144144144.2,1268888888888889.0,1290540540540540.5,1314328109135544.2,1339449314072985.8,1361681681681681.8,1385865476673268.5,1408078078078078.2,1432822822822823.0,1457567567567567.5,1479219219219219.2,1503963963963964.0,1528708708708708.8,1551207646001184.2,1575105105105105.2,1599849849849850.0,1624594594594594.8,1649339339339339.5,1674084084084084.2,1698564859161755.8,1720480480480480.5,1745225225225225.2,1769969969969970.0,1794714714714714.8,1819459459459459.5,1844204204204204.2,1868948948948949.0,1890600600600600.8,1915555642022513.5,1940090090090090.2,1964834834834835.0,1989579579579579.8,2014324324324324.5,2035975975975976.0,2060720720720720.8,2087017078452998.2,2110210210210210.2,2134954954954955.0,2159699699699700.0,2184444444444444.5,2208325966604399.0,2230840840840841.0,2255585585585586.0,2280330330330330.5,2305075075075075.0,2329819819819820.0,2354564564564564.5,2379309309309309.5,2404054054054054.0,2428798798798799.0,2453543543543543.5,2478288288288288.5,2503033033033033.0,2527777777777778.0,2552522522522522.5,2577267267267267.5,2602012012012012.0,2626756756756757.0,2650038558820711.0,2673153153153153.0,2697897897897898.0,2722642642642643.0',\n",
              " '53303303303303.305,62348594754204.6,71861861861861.88,80134082096100.6,91739233461629.81,108978978978978.97,121351351351351.34,130630630630630.62,139843954615572.89,145256340893415.3,158468468468468.47,171652821896008.97,180120120120120.12,187076469183671.7,192572254995228.9,198678678678678.7,211051051051051.06,217237237237237.25,229133271137081.44,237067807732927.12,242660867396516.44,251658620724951.25,258023383161607.8,266878079931714.38,278143662556706.56,286900464408366.1,294908884122018.06,301737520532216.06,308030522615632.25,319309309309309.3,328588588588588.6,337421110529234.25,344824024903084.1,352356038825938.9,359363645238008.8,366020926432082.5,371958516181383.25,379498213935687.56,387357357357357.4,393543543543543.56,400876191164565.25,408865346221679.6,414760983368669.75,420368466099805.25,428861637096105.8,436846846846846.9,443033033033033.06,450342532649173.0,458498498498498.5,465137353232263.3,472409475044209.25,479248241223551.0,486602871427629.0,493017979732533.2,500383666527924.8,507987987987988.0,514833032083525.5,522713500142265.1,529552862859897.25,535013636568226.56,540138277616460.3,548198198198198.25,554939168646942.8,560648976982443.56,567692126330080.2,575065013555961.4,581645203510689.8,588190971366495.2,594574855471855.2,600829134221174.5,606966966966967.0,613949621731863.2,621391561080113.0,627068401665841.0,634290893628795.2,641243856392387.8,647239982046256.6,653363363363363.4,660920590096706.0,667808916669971.2,673833552571860.5,679671909056405.8,687387387387387.4,694231851453899.2,701080045966827.4,707433750662027.5,713337374310078.8,719079377194087.9,725871259181690.8,731747861290160.1,737028777948537.4,743776157918423.2,751089782985635.4,757723959414056.8,763554104925279.8,769484995239383.0,775161270896166.0,782609419069053.0,789424380294288.5,795336728583847.6,801831831831831.9,808280287853925.2,814514467891855.5,820848234189521.0')"
            ]
          },
          "metadata": {},
          "execution_count": 15
        }
      ],
      "source": [
        "find_rhos(0)"
      ]
    },
    {
      "cell_type": "code",
      "execution_count": 16,
      "metadata": {
        "colab": {
          "base_uri": "https://localhost:8080/"
        },
        "id": "zJ6jVuI4X2sy",
        "outputId": "8979addb-a86e-4d26-ce09-48421bebc519"
      },
      "outputs": [
        {
          "output_type": "stream",
          "name": "stdout",
          "text": [
            "Calculate properties of sly stars\n",
            "Start at central density 3.05426365185e+14 g/cm^3\n",
            "Done at central density 2.72264264264e+15 g/cm^3\n",
            "Save to /content/macro_contour0sly.csv\n"
          ]
        }
      ],
      "source": [
        "# calculate neutron star observables for a given equation of state\n",
        "\n",
        "%%bash -s '$find_rhos.newrhocs_list' '$find_rhos.newrhocdms_list'\n",
        "# this cell is a separate terminal instance\n",
        "\n",
        "export PATH=$PATH:/opt/bin # the code doesn't need to be reinstalled in each terminal, but we do need to point to the install directory like this each time\n",
        "export PYTHONPATH=$PYTHONPATH:/opt/lib/python2.7/site-packages\n",
        "\n",
        "getnsprops sly.csv -p R,M,Rdm,Mdm,Mb,Md -d /content/ns-struc-dm/ -o /content/ -v -t macro_contour0 -r $1 -n 10 -R $2 # call the executable that computes the neutron star observables\n",
        "# getnsprops [eos table] -p [observables to calculate] -m [mass range to calculate them for] \n",
        "#-d [directory where the eos table lives] -o [directory where the table of observables should be output]"
      ]
    },
    {
      "cell_type": "code",
      "execution_count": 17,
      "metadata": {
        "colab": {
          "base_uri": "https://localhost:8080/"
        },
        "id": "H573_GKKQWrg",
        "outputId": "7c486169-413f-4b66-d82a-aa653764a474"
      },
      "outputs": [
        {
          "output_type": "execute_result",
          "data": {
            "text/plain": [
              "('291471471471471.5,319309309309309.3,347147147147147.2,369573932461717.1,393543543543543.56,415471465653697.56,439939939939939.94,461591591591591.6,486336336336336.4,511081081081081.1,538750090666533.3,558012150148267.4,585232596390306.6,613325603583618.0,634804804804804.9,659549549549549.6,687387387387387.4,709039039039039.1,733783783783783.9,758528528528528.6,786366366366366.5,808018018018018.0,832762762762762.8,860600600600600.8,883752078010547.0,908757868776711.0,934834834834835.0,959579579579579.5,984572055551942.9,1012162162162162.2,1036286361173123.9,1061651651651651.8,1089121502088759.8,1111141141141141.2,1135885885885886.0,1163516392698636.5,1191561561561561.8,1215499256852828.2,1240738061825787.0,1266664110857278.5,1291813365178890.8,1318378378378378.5,1342478313674770.0,1368548053673356.0,1394475857933518.5,1420450450450450.5,1445195195195195.0,1470768117914738.0,1497777777777778.0,1522522522522522.5,1549088486269116.5,1575105105105105.2,1599849849849850.0,1625565471587910.8,1652432432432432.2,1679067511461896.5,1705015015015015.0,1729759759759759.8,1754525063983854.0,1782342342342342.5,1807087087087087.2,1834479661731601.8,1859669669669669.8,1887507507507507.5,1912252252252252.2,1937143627070092.8,1964656033905543.5,1989579579579579.8,2016055298131762.0,2042162162162162.5,2069219258072892.8,2094744744744744.8,2122191588311620.0,2147327327327327.5,2174189850884506.5,2199909909909910.0,2225699370818944.5,2252492492492492.5,2277237237237237.5,2304853879003484.0,2329819819819820.0,2356584167972008.5,2382402402402402.5,2409602761000646.0,2434984984984985.0,2462354324355276.0,2487567567567567.5,2515405405405405.5,2540272392687819.0,2567987987987988.0,2592732732732733.0,2619645556923260.5,2645315315315315.5,2673153153153154.0,2697897897897898.0,2725735735735736.0',\n",
              " '177072657092889.44,191872277920158.34,204631893570320.3,220330330330330.34,235944188334874.5,254354354354354.38,272496138882408.34,288549432371230.6,305089140042845.75,320661702991388.44,334774774774774.8,353333333333333.4,368798798798798.8,378078078078078.1,398092423519287.6,412914387681974.1,425520166855794.44,443540184015048.5,460074854673135.1,476500592985589.7,488472081600440.3,505226425707147.0,523094773254603.75,535217458708570.1,551291291291291.3,566756756756756.8,582187587366695.4,596169081915877.4,610060060060060.1,622866988429093.8,640990990990991.0,654627630510368.2,668828828828828.9,685676962779174.2,700376216261069.0,715225225225225.2,727458219669487.5,743063063063063.1,758528528528528.8,770900900900901.0,786366366366366.2,801010090046464.0,817297297297297.4,829669669669669.8,845135135135135.1,858956019636164.4,875435835869638.8,888438438438438.5,901529228005925.1,916427007359145.0,931741741741741.8,946391651300143.8,960957471931492.9,975045045045045.2,989617488091811.0,1002882882882882.9,1017323073872402.0,1030997738870086.6,1046186186186186.2,1061423939439217.6,1074481252434239.1,1089489489489489.5,1103311197815511.2,1117239994154619.5,1130147762476201.0,1145165165165165.2,1160630630630630.8,1174533764205889.5,1188468468468468.5,1202021387651010.0,1216306306306306.2,1230511006516986.2,1244144144144144.2,1257821394578452.5,1271981981981982.0,1286566808769028.0,1299819819819820.0,1313361455442008.8,1328109475761999.2,1343123123123123.2,1356185445438622.2,1370960960960961.0,1384530087287895.2,1398798798798798.8,1411245662835897.2,1426636636636636.8,1440218130627950.0,1454280652335375.0,1466846846846847.2,1481944074015354.5,1495505511332818.0,1510150150150150.2,1523053647963662.0,1537184583788355.5,1550852265415009.8,1565604503978805.0')"
            ]
          },
          "metadata": {},
          "execution_count": 17
        }
      ],
      "source": [
        "find_rhos(1)"
      ]
    },
    {
      "cell_type": "code",
      "execution_count": 17,
      "metadata": {
        "id": "YINe8kcGSy4x"
      },
      "outputs": [],
      "source": [
        ""
      ]
    },
    {
      "cell_type": "code",
      "execution_count": 18,
      "metadata": {
        "colab": {
          "base_uri": "https://localhost:8080/"
        },
        "id": "cS-IIN6aQbMf",
        "outputId": "4e53a32f-bf24-4c1c-bec6-d1a16d58a0a9"
      },
      "outputs": [
        {
          "output_type": "stream",
          "name": "stdout",
          "text": [
            "Calculate properties of sly stars\n",
            "Start at central density 2.91471471471e+14 g/cm^3\n",
            "Done at central density 2.72573573574e+15 g/cm^3\n",
            "Save to /content/macro_contour1sly.csv\n"
          ]
        }
      ],
      "source": [
        "# calculate neutron star observables for a given equation of state\n",
        "\n",
        "%%bash -s '$find_rhos.newrhocs_list' '$find_rhos.newrhocdms_list'\n",
        "# this cell is a separate terminal instance\n",
        "\n",
        "export PATH=$PATH:/opt/bin # the code doesn't need to be reinstalled in each terminal, but we do need to point to the install directory like this each time\n",
        "export PYTHONPATH=$PYTHONPATH:/opt/lib/python2.7/site-packages\n",
        "\n",
        "getnsprops sly.csv -p R,M,Rdm,Mdm,Mb,Md -d /content/ns-struc-dm/ -o /content/ -v -t macro_contour1 -r $1 -n 10 -R $2 # call the executable that computes the neutron star observables\n",
        "# getnsprops [eos table] -p [observables to calculate] -m [mass range to calculate them for] \n",
        "#-d [directory where the eos table lives] -o [directory where the table of observables should be output]"
      ]
    },
    {
      "cell_type": "code",
      "execution_count": 19,
      "metadata": {
        "colab": {
          "base_uri": "https://localhost:8080/"
        },
        "id": "1JZoZd_22BMP",
        "outputId": "8ad81160-5142-4ac0-ace5-be68aa13f872"
      },
      "outputs": [
        {
          "output_type": "execute_result",
          "data": {
            "text/plain": [
              "('285285285285285.3,308824169913965.7,334774774774774.8,360762599599757.4,384861733083227.4,405082853146872.94,427567567567567.56,449967684029827.44,477057057057057.06,504981699587585.75,526780671192676.44,551820910203259.1,576036036036036.1,600780780780780.9,625525525525525.5,650270270270270.2,675015015015015.0,699408366363688.2,727597597597597.6,750830854186830.1,776127826138382.5,800530308086614.9,825995132491615.2,851321321321321.4,876066066066066.1,900314071237617.2,924535827776356.9,950300300300300.5,975045045045045.1,1002882882882882.8,1027627627627627.6,1052372372372372.5,1079100873418211.5,1101861861861861.8,1126606606606606.5,1151396562574210.5,1178997934032679.2,1203933933933934.0,1228678678678678.8,1255827055903646.0,1280149652576304.2,1306006006006006.0,1330750750750750.8,1355495495495495.5,1380751664395078.0,1408078078078078.2,1432822822822823.0,1457567567567567.8,1482312312312312.5,1509040774484311.0,1534894894894895.0,1559639639639639.8,1586797799571131.5,1611486570920386.2,1636966966966967.0,1661711711711711.8,1686785886678408.0,1714294294294294.5,1739039039039039.2,1764959190366129.5,1791621621621621.8,1816366366366366.2,1841111111111111.2,1866899351286924.5,1893693693693693.5,1918438438438438.5,1943666878271990.2,1971021021021021.0,1995765765765765.8,2021177199523366.8,2048010838444625.0,2073093093093093.2,2097837837837838.0,2125482922986540.2,2150420420420420.5,2176325679204003.8,2202608025267392.8,2227747747747747.5,2254111797700963.0,2279970761250327.0,2305075075075075.0,2330054892122612.5,2357657657657658.0,2382402402402402.5,2408994732001225.5,2434984984984985.0,2459729729729730.0,2485359306275977.0,2512312312312312.5,2537057057057057.0,2564224900494653.0,2589639639639640.0,2614384384384384.5,2641730987106865.5,2666966966966967.0,2692202321493328.0,2719549549549549.5',\n",
              " '202625495792504.5,223423423423423.44,239360128777986.8,257447447447447.5,276006006006006.03,300750750750750.75,321773529675739.3,340960960960961.0,359180093447952.2,371891891891891.94,393543543543543.56,412102102102102.1,431481159990456.25,450414088561240.2,468631336769510.06,488777981833995.75,507845625745438.9,526546546546546.56,541808628560270.7,560570570570570.6,579129129129129.1,597687687687687.8,616246246246246.2,634639957814492.4,653121265805828.9,671921921921922.0,690480480480480.5,708516483891072.0,725171449657478.4,742123701809814.2,761199646445370.2,778782257050706.5,795645645645645.8,815625076662851.2,834043240485418.5,851321321321321.4,869879879879879.9,887823493025530.0,904331894341152.9,922462462462462.5,941021021021021.2,957274864838072.5,975961567893697.8,994499840715969.5,1012162162162162.2,1030373959663702.6,1048777553539952.1,1066295554521514.0,1083396944578578.9,1101861861861861.8,1119577846736083.2,1136737933201355.0,1154444444444444.5,1173003003003003.0,1190951402334457.0,1208155686308066.5,1225585585585585.8,1242730337455519.8,1260051964272246.2,1278168168168168.2,1295949152542860.5,1314411702647306.0,1331515725774636.2,1349309309309309.5,1365958252138415.8,1384352051108384.5,1401891891891892.0,1419603893826217.5,1437366025120730.0,1454474474474474.5,1473033033033033.0,1490642755585929.8,1507543155446109.5,1525615615615615.8,1542652035010700.8,1559639639639640.0,1578198198198198.2,1594765224335826.5,1612222222222222.2,1630780780780780.8,1647015947219159.5,1664804804804805.2,1683148368686159.0,1700391738597651.5,1717387387387387.5,1735420596413731.2,1752880948377971.5,1769969969969970.0,1787926694947296.2,1804340133534736.5,1822552552552552.8,1840222479750969.8,1857323914915367.5,1875135135135135.2,1891455601701221.5,1909159159159159.5,1927129599165429.0')"
            ]
          },
          "metadata": {},
          "execution_count": 19
        }
      ],
      "source": [
        "find_rhos(2)"
      ]
    },
    {
      "cell_type": "code",
      "execution_count": 20,
      "metadata": {
        "colab": {
          "base_uri": "https://localhost:8080/"
        },
        "id": "Lh8omoQnMKdB",
        "outputId": "020b0871-c516-4619-c263-50a806eea392"
      },
      "outputs": [
        {
          "output_type": "stream",
          "name": "stdout",
          "text": [
            "Calculate properties of sly stars\n",
            "Start at central density 2.85285285285e+14 g/cm^3\n",
            "Done at central density 2.71954954955e+15 g/cm^3\n",
            "Save to /content/macro_contour2sly.csv\n"
          ]
        }
      ],
      "source": [
        "# calculate neutron star observables for a given equation of state\n",
        "\n",
        "%%bash -s '$find_rhos.newrhocs_list' '$find_rhos.newrhocdms_list'\n",
        "# this cell is a separate terminal instance\n",
        "\n",
        "export PATH=$PATH:/opt/bin # the code doesn't need to be reinstalled in each terminal, but we do need to point to the install directory like this each time\n",
        "export PYTHONPATH=$PYTHONPATH:/opt/lib/python2.7/site-packages\n",
        "\n",
        "getnsprops sly.csv -p R,M,Rdm,Mdm,Mb,Md -d /content/ns-struc-dm/ -o /content/ -v -t macro_contour2 -r $1 -n 10 -R $2 # call the executable that computes the neutron star observables\n",
        "# getnsprops [eos table] -p [observables to calculate] -m [mass range to calculate them for] \n",
        "#-d [directory where the eos table lives] -o [directory where the table of observables should be output]"
      ]
    },
    {
      "cell_type": "code",
      "execution_count": 21,
      "metadata": {
        "colab": {
          "base_uri": "https://localhost:8080/"
        },
        "id": "ZZ3lJYPlM0J6",
        "outputId": "e0658e65-bcbd-41c9-dc3c-c64c23ec9df6"
      },
      "outputs": [
        {
          "output_type": "execute_result",
          "data": {
            "text/plain": [
              "('303843843843843.9,331681681681681.7,353925034784281.44,381171171171171.2,401435899353673.1,426849427189259.94,452657597130493.2,480150150150150.2,504894894894894.94,529639639639639.7,554384384384384.44,578999967709767.8,604517145893811.9,628618618618618.6,653363363363363.4,679891894984555.0,705945945945946.0,730690690690690.8,755435435435435.5,780180180180180.2,805872663385129.6,832762762762762.8,857507507507507.5,884837767439040.0,910090090090090.1,934834834834834.9,960689854165508.9,984794879898830.2,1012162162162162.2,1036906906906906.9,1061651651651651.8,1086447229503170.0,1114234234234234.2,1138978978978979.0,1163723723723723.8,1190718270136939.2,1216306306306306.2,1241514744372560.8,1266162481092485.2,1292596268726802.8,1318378378378378.5,1343439730247694.5,1370147187063036.2,1395705705705706.0,1420450450450450.5,1446442394403729.5,1473033033033033.0,1497777777777777.8,1525114526547090.8,1550360360360360.5,1575105105105105.2,1601116859179209.0,1627687687687687.8,1652432432432432.5,1678243059086146.0,1705015015015014.8,1730615759344571.5,1756441100750670.0,1782342342342342.5,1807087087087087.2,1833742150991049.5,1859669669669669.5,1885466710783435.5,1911851601819535.0,1936996996996997.0,1963279169517617.2,1989530289186501.8,2014324324324324.5,2040280441150505.2,2066906906906907.0,2091651651651651.8,2119232958517865.0,2144234234234234.2,2168978978978979.0,2196469427352702.5,2221561561561562.0,2247251065904681.8,2274144144144144.5,2298888888888889.0,2325240885996748.0,2351471471471471.5,2377451091192011.5,2404054054054054.0,2428798798798799.0,2455015378989267.0,2481381381381381.5,2506126126126126.5,2533484957544504.0,2558708708708709.0,2585421490421251.0,2611291291291291.5,2636128889837312.0,2663873873873874.0,2688618618618619.0,2715431626704079.0,2741201201201201.0',\n",
              " '248342567957303.53,267166079779879.56,291471471471471.5,311933920874674.0,337867867867867.9,359519519519519.56,378078078078078.1,399462165098932.94,419771818954318.25,442338828344194.6,463412538250381.06,486336336336336.4,504894894894894.94,528969699881870.1,549340701343410.25,569849849849849.9,590846684496281.9,612122695477000.6,633098186716966.8,653435992505525.4,675015015015015.0,696335466481484.8,716595476960324.8,736876876876876.9,758356080659832.4,779790174043271.1,798738738738738.8,820390390390390.4,841302545235821.0,862581887936493.2,884004906323184.6,903903903903904.0,925249759569413.4,945630193411948.8,965876948073965.2,987417417417417.5,1008505783907141.0,1027627627627627.6,1049279279279279.4,1070930930930931.0,1091248563269895.0,1111141141141141.2,1132792792792793.0,1153418668772133.8,1173341107170153.8,1194654654654654.8,1215121834853972.8,1235474064300266.2,1256516516516516.5,1276483967483893.5,1297208622671379.5,1318378378378378.5,1340003138740735.8,1359892981603941.5,1380240240240240.2,1401166144559452.0,1420450450450450.5,1442102102102102.2,1462545185524789.0,1482862602645855.0,1503963963963964.0,1524277602729552.5,1544174174174174.2,1565825825825826.0,1585827410760818.5,1606036036036036.0,1627687687687687.8,1647218672788210.8,1667897897897898.0,1688901560819042.2,1708921722178389.0,1729759759759759.8,1750448015919299.0,1770139112729007.8,1791621621621621.8,1811247341831810.8,1831831831831832.0,1853380718955703.0,1872844875696565.5,1893693693693693.8,1914059927897305.5,1933903903903904.0,1955251231272574.8,1974749544204060.0,1995765765765765.8,2016800891988797.5,2036419417363421.2,2057627627627627.5,2077174895275614.8,2097837837837838.0,2117944466806146.0,2138048048048048.2,2159696124068514.2,2179277743628025.0,2199909909909910.0,2220800682059440.5')"
            ]
          },
          "metadata": {},
          "execution_count": 21
        }
      ],
      "source": [
        "find_rhos(3)"
      ]
    },
    {
      "cell_type": "code",
      "execution_count": 22,
      "metadata": {
        "colab": {
          "base_uri": "https://localhost:8080/"
        },
        "id": "PCDhl3g3M5Uj",
        "outputId": "98f4c103-9022-4343-c72d-581d04f09f79"
      },
      "outputs": [
        {
          "output_type": "stream",
          "name": "stdout",
          "text": [
            "Calculate properties of sly stars\n",
            "Start at central density 3.03843843844e+14 g/cm^3\n",
            "Done at central density 2.7412012012e+15 g/cm^3\n",
            "Save to /content/macro_contour3sly.csv\n"
          ]
        }
      ],
      "source": [
        "# calculate neutron star observables for a given equation of state\n",
        "\n",
        "%%bash -s '$find_rhos.newrhocs_list' '$find_rhos.newrhocdms_list'\n",
        "# this cell is a separate terminal instance\n",
        "\n",
        "export PATH=$PATH:/opt/bin # the code doesn't need to be reinstalled in each terminal, but we do need to point to the install directory like this each time\n",
        "export PYTHONPATH=$PYTHONPATH:/opt/lib/python2.7/site-packages\n",
        "\n",
        "getnsprops sly.csv -p R,M,Rdm,Mdm,Mb,Md -d /content/ns-struc-dm/ -o /content/ -v -t macro_contour3 -r $1 -n 10 -R $2 # call the executable that computes the neutron star observables\n",
        "# getnsprops [eos table] -p [observables to calculate] -m [mass range to calculate them for] \n",
        "#-d [directory where the eos table lives] -o [directory where the table of observables should be output]"
      ]
    },
    {
      "cell_type": "code",
      "execution_count": 23,
      "metadata": {
        "colab": {
          "base_uri": "https://localhost:8080/"
        },
        "id": "hxl3nWt4NiCi",
        "outputId": "6e653ea9-2789-4fb3-d091-d357965b0d3e"
      },
      "outputs": [
        {
          "output_type": "execute_result",
          "data": {
            "text/plain": [
              "('303472219846304.5,328343183367531.75,353333333333333.4,377996907520610.44,401928229738242.2,430660660660660.7,455385166671255.0,481201266101030.25,507987987987988.0,532732732732732.75,557477477477477.5,582222222222222.2,610060060060060.1,634804804804804.9,662642642642642.5,687387387387387.4,712132132132132.1,737736519935092.6,764101362917868.8,790056542737595.5,816935969089616.1,842306963454037.1,869049725393114.0,894624624624624.6,919369369369369.4,946084177913422.2,971951951951952.0,997515136070180.8,1024534534534534.6,1049279279279279.4,1077072116816693.0,1101861861861861.9,1126809663576313.5,1154444444444444.5,1179370624614322.5,1207027027027027.0,1231771771771771.8,1257604790899111.5,1284354354354354.2,1309464111479948.0,1336281898267934.2,1361681681681681.8,1388665867539204.2,1414264264264264.2,1440053952325306.2,1466846846846847.0,1491591591591591.8,1518595210888075.8,1544174174174174.2,1570466424626085.5,1596756756756756.8,1622174089629991.8,1649339339339339.5,1674084084084084.2,1701459774605982.5,1726666666666666.8,1752879779236560.5,1779249249249249.2,1804682399116323.5,1831831831831832.0,1856576576576576.8,1883934592782140.8,1909159159159159.5,1935798650162341.0,1961741741741741.8,1987817855215135.0,2014324324324324.5,2039649068245228.2,2066906906906906.8,2091651651651651.8,2119400465769647.0,2144234234234234.5,2171285065973962.5,2196816816816817.0,2223428364301389.5,2249399399399399.5,2274672982474916.5,2301981981981982.0,2326987284108798.0,2354564564564564.0,2379696178299786.0,2407013326230579.0,2431891891891892.0,2458433244422162.5,2484474474474474.5,2510944784688397.0,2537057057057057.0,2563458595514506.0,2589639639639640.0,2615103544633392.5,2642222222222222.5,2667150424225911.5,2694804804804805.0,2719854349025194.0',\n",
              " '272912912912912.94,297657657657657.7,321797964225636.7,347147147147147.2,371891891891891.94,393373329313851.44,418288288288288.3,439939939939939.94,464641687378260.2,488247659141361.9,511773746897900.56,537866776390435.75,559527002665783.75,582800664382836.2,606853950855210.9,629570288457363.1,653385891064529.0,678108108108108.1,702852852852852.9,724504504504504.5,749249249249249.2,770900900900901.0,795645645645645.8,818952990795395.6,842796718035464.1,866786786786786.9,890463984479834.8,913183183183183.2,936432039241482.8,959589918450034.9,984324324324324.4,1008147336691482.5,1030720720720720.8,1055274208670320.1,1077117117117117.1,1101550267228275.6,1124560538637996.0,1148258258258258.5,1172995224195823.0,1194654654654654.8,1219399399399399.5,1241637622762475.5,1265795795795795.8,1288728878561636.8,1312192192192192.2,1336771288178241.0,1358691898124104.0,1383333333333333.5,1405888555091605.2,1429729729729729.8,1452990560962671.8,1476126126126126.2,1500357955024791.5,1522890113587954.0,1547267267267267.2,1569790323044912.2,1593663663663663.8,1616703287028604.5,1640060060060060.2,1663916789075947.8,1686476078342617.8,1711201201201201.2,1733809628066918.8,1757597597597597.8,1780825679711039.0,1803993993993994.0,1827255072992282.5,1850390390390390.5,1874765381348367.0,1897114916187816.0,1921531531531531.8,1943708875594622.5,1967927927927928.0,1990292180931064.8,2014324324324324.5,2037678923215346.0,2060720720720721.0,2084822974710242.5,2107117117117117.2,2131118688889798.8,2153513513513513.8,2178258258258258.5,2200785194383318.5,2224654654654654.8,2247737988944963.0,2271051051051051.0,2294090557310529.0,2317447447447447.5,2340640091505213.5,2363843843843844.0,2388246768501325.0,2410240240240241.0,2434622389281456.5,2456636636636637.0')"
            ]
          },
          "metadata": {},
          "execution_count": 23
        }
      ],
      "source": [
        "find_rhos(4)"
      ]
    },
    {
      "cell_type": "code",
      "execution_count": 24,
      "metadata": {
        "colab": {
          "base_uri": "https://localhost:8080/"
        },
        "id": "7Tskul12NoE7",
        "outputId": "f9ca8ea4-ad13-420b-dbb0-8a76a7aa938c"
      },
      "outputs": [
        {
          "output_type": "stream",
          "name": "stdout",
          "text": [
            "Calculate properties of sly stars\n",
            "Start at central density 3.03472219846e+14 g/cm^3\n",
            "Done at central density 2.71985434903e+15 g/cm^3\n",
            "Save to /content/macro_contour4sly.csv\n"
          ]
        }
      ],
      "source": [
        "# calculate neutron star observables for a given equation of state\n",
        "\n",
        "%%bash -s '$find_rhos.newrhocs_list' '$find_rhos.newrhocdms_list'\n",
        "# this cell is a separate terminal instance\n",
        "\n",
        "export PATH=$PATH:/opt/bin # the code doesn't need to be reinstalled in each terminal, but we do need to point to the install directory like this each time\n",
        "export PYTHONPATH=$PYTHONPATH:/opt/lib/python2.7/site-packages\n",
        "\n",
        "getnsprops sly.csv -p R,M,Rdm,Mdm,Mb,Md -d /content/ns-struc-dm/ -o /content/ -v -t macro_contour4 -r $1 -n 10 -R $2 # call the executable that computes the neutron star observables\n",
        "# getnsprops [eos table] -p [observables to calculate] -m [mass range to calculate them for] \n",
        "#-d [directory where the eos table lives] -o [directory where the table of observables should be output]"
      ]
    },
    {
      "cell_type": "code",
      "execution_count": 25,
      "metadata": {
        "colab": {
          "base_uri": "https://localhost:8080/"
        },
        "id": "hDhVgplROkK8",
        "outputId": "13d93910-1097-411b-b97e-79276a124d5e"
      },
      "outputs": [
        {
          "output_type": "execute_result",
          "data": {
            "text/plain": [
              "('316216216216216.25,353333333333333.4,390450450450450.56,418288381616173.9,439939939939939.94,458498574252008.94,492522522522522.56,532732732732732.75,572942942942943.0,613153153153153.1,647177177177177.2,668828826103360.6,687387387387387.4,709039039039039.1,727597600311037.1,749249249249249.2,780180180180180.2,817297297294916.8,835855855855855.9,857507507446099.8,876066066066066.1,897717717453808.4,916276276276276.4,941021021021021.1,975045045045045.1,1002882882882882.9,1021441442381312.8,1043093093093093.1,1074024024024024.1,1114234234234234.2,1154444444444444.5,1194654654654654.8,1228678678678678.8,1247237284951656.0,1268888888888889.0,1287447447447447.5,1309099096593971.8,1327657657657657.8,1355495495495495.5,1395705705705705.8,1435915915915916.0,1476126126126126.2,1516336336336336.5,1537987983297539.2,1556546546546546.8,1581291291291291.5,1618408408408408.5,1643153152945370.8,1661711711711711.8,1683363363194688.8,1701921921921922.0,1723573552939920.8,1742132132132132.2,1763783783711152.5,1782342342342342.5,1803993993972476.2,1822552552552552.8,1844204204165911.5,1862762762762762.8,1899879879879880.0,1933903903903903.8,1952462462764054.0,1974114114114114.5,1992672672672672.8,2014324323695950.8,2032882882882883.0,2054534534534535.0,2073093093323674.2,2094744744744744.8,2113303303934028.2,2134954954954955.0,2153513513727072.2,2190630630630630.8,2224654654654654.8,2249399399399399.5,2283423423423423.5,2323633633633634.0,2348378378378378.5,2370030029796400.0,2388588588588588.5,2428798798798799.0,2465915915915916.0,2499939939939940.0,2540150150150150.5,2574174174174174.5,2614384384384384.5,2639129130974121.5,2660780780780781.0,2679339339812693.5,2700990990784848.0,2719549549549549.5,2741201201199317.5',\n",
              " '316216216216216.25,353333333333333.4,390450450450450.5,418288288288288.25,439939690979881.44,458498498498498.5,492522522522522.56,532732732732732.75,572942942942943.0,613153153153153.1,647177177735732.6,668828828828828.9,687387388641965.6,709039038145233.0,727597597597597.8,749249248366744.6,780180180180180.2,817297297297297.4,835855855923909.4,857507507507507.5,876066066079511.0,897717717717717.8,916276276472404.1,941021021021021.1,975045045045045.0,1002882882508653.5,1021441441441441.5,1043093092868676.1,1074024024024024.1,1114234234234234.2,1154444444444444.5,1194654654654654.8,1228678670545667.8,1247237237237237.2,1268888858382892.8,1287447447858913.8,1309099099099099.2,1327657658998033.0,1355495495495495.5,1395705705705705.8,1435915915915916.0,1476126126126126.2,1516336336336336.5,1537987987987988.0,1556546550536807.2,1581291291291291.5,1618408408408408.5,1643153153153153.2,1661711712305133.0,1683363363363363.5,1701921930134165.0,1723573573573573.8,1742132138169071.2,1763783783783784.0,1782342342476380.0,1803993993993994.0,1822552552577358.5,1844204204204204.2,1862762762769126.2,1899879879879880.0,1933903903804563.2,1952462462462462.5,1974114114016019.5,1992672672894135.0,2014324324324324.5,2032882883081219.5,2054534534421368.5,2073093093093093.0,2094744744701315.0,2113303303303303.8,2134954953876522.0,2153513513513513.8,2190630630630630.8,2224654654654654.8,2249399399399399.5,2283423423423423.5,2323633633633634.0,2348378378545635.5,2370030030030030.0,2388588588619398.5,2428798798798799.0,2465915915915916.0,2499939939939940.0,2540150150150150.5,2574174174174174.5,2614384384384384.5,2639129129129129.5,2660780777932539.5,2679339339339339.5,2700990990990991.0,2719549549800050.0,2741201201201201.5')"
            ]
          },
          "metadata": {},
          "execution_count": 25
        }
      ],
      "source": [
        "find_rhos(5)"
      ]
    },
    {
      "cell_type": "code",
      "execution_count": 26,
      "metadata": {
        "colab": {
          "base_uri": "https://localhost:8080/"
        },
        "id": "M3QTX4q6XUGv",
        "outputId": "771db7f3-9016-4959-9897-610917b73d96"
      },
      "outputs": [
        {
          "output_type": "stream",
          "name": "stdout",
          "text": [
            "Calculate properties of sly stars\n",
            "Start at central density 3.16216216216e+14 g/cm^3\n",
            "Done at central density 2.7412012012e+15 g/cm^3\n",
            "Save to /content/macro_contour5sly.csv\n"
          ]
        }
      ],
      "source": [
        "# calculate neutron star observables for a given equation of state\n",
        "\n",
        "%%bash -s '$find_rhos.newrhocs_list' '$find_rhos.newrhocdms_list'\n",
        "# this cell is a separate terminal instance\n",
        "\n",
        "export PATH=$PATH:/opt/bin # the code doesn't need to be reinstalled in each terminal, but we do need to point to the install directory like this each time\n",
        "export PYTHONPATH=$PYTHONPATH:/opt/lib/python2.7/site-packages\n",
        "\n",
        "getnsprops sly.csv -p R,M,Rdm,Mdm,Mb,Md -d /content/ns-struc-dm/ -o /content/ -v -t macro_contour5 -r $1 -n 10 -R $2 # call the executable that computes the neutron star observables\n",
        "# getnsprops [eos table] -p [observables to calculate] -m [mass range to calculate them for] \n",
        "#-d [directory where the eos table lives] -o [directory where the table of observables should be output]"
      ]
    },
    {
      "cell_type": "code",
      "execution_count": 27,
      "metadata": {
        "colab": {
          "base_uri": "https://localhost:8080/"
        },
        "id": "oAqGTaDwXu3I",
        "outputId": "1249a90b-eb94-4fc6-c6b0-c71ca2c64182"
      },
      "outputs": [
        {
          "output_type": "execute_result",
          "data": {
            "text/plain": [
              "('272912912912912.94,297657657657657.7,321797940120966.56,347147147147147.2,371891891891891.94,393373405175543.5,418288288288288.25,439939939939939.94,464641685554660.06,489203262892011.8,513389042370490.9,537866776365159.1,559526994083252.25,582800663838875.2,606853954001900.8,629570287185944.9,653385887594436.0,678108108108108.1,702852852852853.0,725223660975172.2,749249249249249.2,771163946196237.0,795645645645645.8,818953011245845.8,842796739371962.1,866786786786787.0,890464008436581.4,913183183183183.2,936357126168294.8,959579579579579.6,984324324324324.2,1008147330266142.2,1030720720720720.8,1055274305557671.1,1077509434774366.4,1101836233714249.1,1124560496685337.6,1148258258258258.2,1172994615962572.2,1194654654654654.8,1219399399399399.5,1242160040870741.5,1265795795795795.5,1288728908059275.0,1312192192192192.2,1336771359181004.2,1358691929529256.2,1383333333333333.5,1405888503812208.8,1429729729729730.0,1452990560136169.0,1476126126126126.2,1500868396848776.2,1522890139543030.5,1547267267267267.5,1569941870500649.0,1593663663663663.8,1616702830357355.8,1640060060060060.2,1664510395789625.8,1686601414149933.0,1711201201201201.2,1733809665265726.0,1757597597597597.8,1780825716473365.5,1803993993993994.0,1827254694934254.0,1850390390390390.5,1874610537476724.5,1896960637979693.8,1921531531531531.8,1943708863049477.5,1967927927927928.0,1990292197595556.5,2014324324324324.5,2037763580693097.0,2060720720720720.5,2084824043556047.5,2107117117117117.2,2131536832470884.0,2153513513513513.8,2178087747730754.0,2200490004926543.8,2224654654654655.0,2247737919046864.2,2271051051051051.0,2294090463786599.0,2317447447447447.5,2340640252862661.0,2363843843843844.0,2388246742272185.5,2410240240240240.5,2434839371849221.5,2456636636636637.0',\n",
              " '303472211036961.25,328343183290328.75,353333333333333.4,377996924162886.06,401928226043159.8,430660660660660.7,455384633797661.94,481201158768901.25,507987987987988.0,532732732732732.75,557477477477477.5,582222222222222.2,610060060060060.1,634804804804804.9,662642642642642.6,687387387387387.4,712132132132132.1,737736518192686.1,763931638898129.5,789459459459459.5,816995305040522.1,842042042042042.1,868794208073627.1,894624624624624.6,919369369369369.5,946084152877481.0,971951951951952.0,998000822047416.0,1024534534534534.6,1049283833656360.1,1076617219397123.1,1101861861861861.8,1127841754483608.0,1154444444444444.5,1179189189189189.2,1207027027027027.0,1231771771771771.5,1257605189962134.5,1284354354354354.5,1309464068291959.8,1336282392310587.8,1361681681681681.8,1388273904300435.0,1414264264264264.2,1440053878519350.2,1466846846846847.0,1491591591591592.0,1518499077411305.5,1544174174174174.2,1570466439428641.5,1596756756756756.8,1621930461236018.8,1649339339339339.5,1674084084084084.5,1701121414690699.0,1726666666666666.8,1752880136583447.5,1779249249249249.5,1804682347056741.0,1831831831831832.0,1856576576576576.5,1883934596090796.5,1909159159159159.2,1935798572908528.2,1961741741741741.8,1987817868850258.8,2014324324324324.5,2039649089354159.2,2066906906906907.0,2091651651651651.8,2119304189285755.8,2144234234234234.2,2171285070625989.2,2196816816816817.0,2223252558210081.0,2249399399399399.5,2274672945210929.0,2301981981981982.0,2327078480288672.0,2354564564564564.5,2379594622524089.0,2407147147147147.5,2431891891891892.0,2458433221417148.0,2484474474474475.0,2510944977542790.0,2537057057057057.0,2563458617255718.5,2589639639639640.0,2615103332099984.5,2642222222222223.0,2667150525704496.5,2694804804804805.0,2719854441794080.5')"
            ]
          },
          "metadata": {},
          "execution_count": 27
        }
      ],
      "source": [
        "find_rhos(6)"
      ]
    },
    {
      "cell_type": "code",
      "execution_count": 28,
      "metadata": {
        "colab": {
          "base_uri": "https://localhost:8080/"
        },
        "id": "GRkrpJzcXwVA",
        "outputId": "292f9d94-1290-4af9-ca16-fb632e249733"
      },
      "outputs": [
        {
          "output_type": "stream",
          "name": "stdout",
          "text": [
            "Calculate properties of sly stars\n",
            "Start at central density 2.72912912913e+14 g/cm^3\n",
            "Done at central density 2.45663663664e+15 g/cm^3\n",
            "Save to /content/macro_contour6sly.csv\n"
          ]
        }
      ],
      "source": [
        "# calculate neutron star observables for a given equation of state\n",
        "\n",
        "%%bash -s '$find_rhos.newrhocs_list' '$find_rhos.newrhocdms_list'\n",
        "# this cell is a separate terminal instance\n",
        "\n",
        "export PATH=$PATH:/opt/bin # the code doesn't need to be reinstalled in each terminal, but we do need to point to the install directory like this each time\n",
        "export PYTHONPATH=$PYTHONPATH:/opt/lib/python2.7/site-packages\n",
        "\n",
        "getnsprops sly.csv -p R,M,Rdm,Mdm,Mb,Md -d /content/ns-struc-dm/ -o /content/ -v -t macro_contour6 -r $1 -n 10 -R $2 # call the executable that computes the neutron star observables\n",
        "# getnsprops [eos table] -p [observables to calculate] -m [mass range to calculate them for] \n",
        "#-d [directory where the eos table lives] -o [directory where the table of observables should be output]"
      ]
    },
    {
      "cell_type": "code",
      "execution_count": 29,
      "metadata": {
        "colab": {
          "base_uri": "https://localhost:8080/"
        },
        "id": "7tmknrWqYo9Q",
        "outputId": "665253f8-b408-4bfb-fc74-d4c5099872db"
      },
      "outputs": [
        {
          "output_type": "execute_result",
          "data": {
            "text/plain": [
              "('248342585597128.3,267166082060150.6,291471471471471.5,311933697200286.1,337867867867867.9,359519519519519.56,378078078078078.1,399773759610543.9,419771804021661.44,441130838500328.9,462303678681404.1,486336336336336.44,504894894894894.9,528969685034237.44,548198198198198.25,568346077719462.4,590846694297951.5,612122711489994.2,633098213839138.5,653363363363363.4,675015015015015.0,696335467411093.4,715225225225225.2,736876876876876.9,758329431252610.6,779986363370071.5,800021428550281.8,820390390390390.4,842042042042042.1,863693693693693.6,884004924135214.4,903903903903904.0,925249796777156.9,944596700524559.4,965765765765765.9,987417417417417.5,1008505831937911.2,1027627627627627.8,1049279279279279.4,1070930930930931.1,1091248426697321.2,1111141141141141.2,1131519300902931.5,1153075926911103.8,1173341185061005.0,1194654654654654.8,1215122035031290.2,1235474085053810.5,1256516516516516.5,1276986143226920.0,1297208399133670.5,1318378378378378.5,1340003060490908.5,1358764850780783.5,1380240240240240.2,1401148395120138.5,1420450450450450.5,1442102102102102.2,1462545103699729.5,1482862466721395.5,1503963963963964.0,1524277655590153.8,1544426972631321.8,1565825825825826.0,1585827466211438.5,1606036036036036.0,1627400828102697.0,1647218823882314.5,1667897897897898.0,1688901563286094.0,1708523656813286.5,1729759759759759.5,1750472927375455.2,1770139529438414.5,1791621621621621.8,1811103990692981.8,1831831831831832.0,1853351655411625.0,1872569674076147.8,1893693693693693.8,1914059947081766.0,1933903903903904.0,1954684578408302.0,1974356997404034.0,1995765765765765.8,2015719999147873.0,2036334449830523.5,2057344522575508.5,2076858991314877.2,2097837837837838.0,2117944502884864.0,2138048048048048.2,2159638789713908.2,2179492852747031.8,2199909909909910.0,2220794935529982.0',\n",
              " '303843843843843.9,331681681681681.7,353841418611891.75,381171171171171.2,401435979355115.6,426849412326298.1,452657454263383.7,477057057057057.06,504894894894894.94,529639639639639.75,554384384384384.44,578387459692601.5,604517141066423.8,628618618618618.6,654755300350483.2,681201201201201.2,705945945945946.0,730690690690690.8,755435435435435.5,782019485491988.6,807378162540619.5,832762762762762.8,857924554955007.4,884837946474314.2,910090090090090.1,934834834834835.0,959579579579579.6,984794735207296.5,1010369342638722.2,1036647420865948.4,1061651651651651.8,1086447198176590.5,1114234234234234.2,1138978978978979.0,1163886587244155.0,1191259105737234.2,1216306306306306.2,1241514820738511.0,1266162517197894.2,1292596558265615.0,1318378378378378.5,1343618293513927.0,1370960960960961.0,1395705705705705.8,1420450450450450.5,1446442159751161.5,1473033033033033.0,1497777777777777.8,1524293214470116.0,1550360360360360.5,1575105105105105.2,1601117045534168.5,1627687687687687.8,1652432432432432.8,1679279207720728.5,1705015015015015.0,1730616224671311.0,1756441309451795.5,1782342342342342.5,1807087087087087.2,1833742186271660.5,1859669669669669.8,1884414414414414.5,1911203309183352.5,1936996996996997.0,1963279061879063.0,1989579579579579.8,2014324324324324.5,2040280389377934.5,2066906906906907.0,2091651651651651.8,2117947766410653.5,2144234234234234.0,2168978978978979.2,2196469311251385.0,2221561561561562.0,2248677302850740.0,2274144144144144.5,2298888888888889.0,2325663191537413.0,2351471471471471.5,2377451211069676.0,2404054054054054.0,2428798798798799.0,2455310817207837.0,2481381381381381.5,2506126126126126.5,2533963963963964.0,2558708708708709.0,2585313828559959.0,2611291291291291.5,2636128596537688.5,2663873873873874.0,2688618618618619.0,2714621065920934.0,2741201201201201.5')"
            ]
          },
          "metadata": {},
          "execution_count": 29
        }
      ],
      "source": [
        "find_rhos(7)"
      ]
    },
    {
      "cell_type": "code",
      "execution_count": 30,
      "metadata": {
        "colab": {
          "base_uri": "https://localhost:8080/"
        },
        "id": "e1XHiC4NYiNJ",
        "outputId": "2b28e47a-9945-43ac-a802-a84ae19bd8aa"
      },
      "outputs": [
        {
          "output_type": "stream",
          "name": "stdout",
          "text": [
            "Calculate properties of sly stars\n",
            "Start at central density 2.48342585597e+14 g/cm^3\n",
            "Done at central density 2.22079493553e+15 g/cm^3\n",
            "Save to /content/macro_contour7sly.csv\n"
          ]
        }
      ],
      "source": [
        "\n",
        "# calculate neutron star observables for a given equation of state\n",
        "\n",
        "%%bash -s '$find_rhos.newrhocs_list' '$find_rhos.newrhocdms_list'\n",
        "# this cell is a separate terminal instance\n",
        "\n",
        "export PATH=$PATH:/opt/bin # the code doesn't need to be reinstalled in each terminal, but we do need to point to the install directory like this each time\n",
        "export PYTHONPATH=$PYTHONPATH:/opt/lib/python2.7/site-packages\n",
        "\n",
        "getnsprops sly.csv -p R,M,Rdm,Mdm,Mb,Md -d /content/ns-struc-dm/ -o /content/ -v -t macro_contour7 -r $1 -n 10 -R $2 # call the executable that computes the neutron star observables\n",
        "# getnsprops [eos table] -p [observables to calculate] -m [mass range to calculate them for] \n",
        "#-d [directory where the eos table lives] -o [directory where the table of observables should be output]"
      ]
    },
    {
      "cell_type": "code",
      "execution_count": 31,
      "metadata": {
        "colab": {
          "base_uri": "https://localhost:8080/"
        },
        "id": "mv6CpeMzZ07K",
        "outputId": "90c650ee-ba47-432c-c94c-558c4014a453"
      },
      "outputs": [
        {
          "output_type": "execute_result",
          "data": {
            "text/plain": [
              "('205371974366136.3,223423423423423.44,239360136502625.03,260540540540540.56,279716532083009.88,300750750750750.75,321773261194134.4,340960960960961.0,359958034197016.7,378056255541321.2,393543543543543.56,412102102102102.06,430660660660660.7,450413961659390.5,468631280266548.5,486663561668084.7,504894894894894.94,526546546546546.56,544483114799373.7,561594308480254.06,579129129129129.1,595789535074432.0,616246246246246.2,634640057316310.9,653121600424843.0,671921921921921.9,690480480480480.5,708515854931749.5,725170876851846.8,743063063063063.1,760773862049119.2,779177077470492.5,797497028433623.0,815775536932560.8,834042930815591.2,851321321321321.4,869879879879880.0,887823663478705.4,904332113825894.4,922462462462462.6,941021021021021.1,959579579579579.6,977476109544241.2,994162938459577.9,1011831478603841.6,1030720720720720.8,1048909089978291.5,1066222679135928.1,1083396713528034.6,1101861861861861.9,1119577966013771.2,1136737635865706.2,1154444444444444.5,1172851874739955.0,1190951303334223.0,1208155757815189.0,1225585585585585.8,1242729944995237.5,1260051539768010.5,1278168168168168.2,1295948737989195.0,1314411573810583.8,1331515748540891.0,1349309309309309.5,1365958567521709.0,1384352352416111.2,1401891891891892.0,1419604161048791.0,1437366357744680.0,1454474474474474.5,1472745428551942.5,1488549431919092.8,1507384599357664.5,1525615615615615.5,1543246839904375.5,1559639639639639.8,1578198198198198.2,1594765405050702.2,1612222222222222.5,1630780780780780.8,1647015615839532.5,1664804804804805.0,1683148152127500.5,1699865594068836.8,1717387387387387.5,1735945945945946.0,1752880365834972.2,1769969969969970.0,1787665609909265.8,1804092528651613.8,1822552552552552.8,1840222836608692.0,1857324610114948.2,1875135135135135.2,1891456621312886.2,1909159159159159.2,1927129114341834.5',\n",
              " '282192192192192.25,308824136542482.1,334774774774774.8,358827926030907.4,381171171171171.1,405083197670230.06,427567567567567.5,449967766498728.6,473963963963964.0,501801801801801.8,526780869407087.9,553470653010384.9,577504466783021.8,600780780780780.9,625525525525525.5,650270270270270.2,677527680398210.8,699489630870540.1,724504504504504.5,749249249249249.2,774747445037759.2,801831831831831.9,825995317649078.5,851321321321321.4,876066066066066.1,900314134536095.1,924536457490796.4,950300300300300.2,975045045045045.1,1001432772763455.0,1027627627627627.5,1052372372372372.2,1077117117117117.0,1101861861861861.9,1126606606606606.5,1151396793027204.8,1178997993598826.2,1203933933933934.0,1228678678678678.8,1255827082041494.2,1279594543172300.0,1305299349032441.2,1330750750750750.8,1355495495495495.5,1383333333333333.5,1407183657614414.2,1432822822822823.0,1457567567567567.5,1482312312312312.8,1509040451558203.5,1534894894894895.0,1559639639639639.8,1585068167277000.5,1612222222222222.2,1636966966966967.0,1661711711711711.8,1686885895463899.2,1714294294294294.5,1739039039039039.2,1764265006006596.2,1791621621621621.5,1816366366366366.5,1841111111111111.5,1866952646981671.0,1893693693693693.5,1918438438438438.5,1943666364160925.2,1971021021021021.2,1995765765765765.8,2021176806987299.0,2048348348348348.5,2073093093093093.2,2097837837837838.0,2124441612348694.0,2150420420420420.5,2176325654896750.2,2202247308905906.0,2227747747747748.0,2254111490324488.0,2279723402012293.5,2305075075075075.0,2330054599345506.5,2357657657657658.0,2382402402402402.5,2407347300494019.5,2434403586381003.0,2459729729729730.0,2485361105237225.5,2512312312312312.5,2537057057057057.0,2564029235972921.0,2589639639639640.0,2614384384384384.0,2641729580218658.0,2666966966966967.0,2692201162276663.0,2719549549549549.5')"
            ]
          },
          "metadata": {},
          "execution_count": 31
        }
      ],
      "source": [
        "find_rhos(8)"
      ]
    },
    {
      "cell_type": "code",
      "execution_count": 32,
      "metadata": {
        "colab": {
          "base_uri": "https://localhost:8080/"
        },
        "id": "lKd2zCXXZ2Zp",
        "outputId": "3e38bcf9-08d4-4b1f-c5af-bbdb964a8f24"
      },
      "outputs": [
        {
          "output_type": "stream",
          "name": "stdout",
          "text": [
            "Calculate properties of sly stars\n",
            "Start at central density 2.05371974366e+14 g/cm^3\n",
            "Done at central density 1.92712911434e+15 g/cm^3\n",
            "Save to /content/macro_contour8sly.csv\n"
          ]
        }
      ],
      "source": [
        "\n",
        "# calculate neutron star observables for a given equation of state\n",
        "\n",
        "%%bash -s '$find_rhos.newrhocs_list' '$find_rhos.newrhocdms_list'\n",
        "# this cell is a separate terminal instance\n",
        "\n",
        "export PATH=$PATH:/opt/bin # the code doesn't need to be reinstalled in each terminal, but we do need to point to the install directory like this each time\n",
        "export PYTHONPATH=$PYTHONPATH:/opt/lib/python2.7/site-packages\n",
        "\n",
        "getnsprops sly.csv -p R,M,Rdm,Mdm,Mb,Md -d /content/ns-struc-dm/ -o /content/ -v -t macro_contour8 -r $1 -n 10 -R $2 # call the executable that computes the neutron star observables\n",
        "# getnsprops [eos table] -p [observables to calculate] -m [mass range to calculate them for] \n",
        "#-d [directory where the eos table lives] -o [directory where the table of observables should be output]"
      ]
    },
    {
      "cell_type": "code",
      "execution_count": 33,
      "metadata": {
        "colab": {
          "base_uri": "https://localhost:8080/"
        },
        "id": "bRwx43AIZ3zK",
        "outputId": "c512cc0d-2a95-4ea0-edcc-22c73a427b11"
      },
      "outputs": [
        {
          "output_type": "execute_result",
          "data": {
            "text/plain": [
              "('177193618043907.7,191872275469026.5,204631904351782.84,220330330330330.34,238016423483012.1,252323899993669.28,266726726726726.75,288378378378378.4,301519864843831.6,316599826450414.1,337580175763925.3,353333333333333.4,368798798798798.75,378078078078078.1,398092472367732.4,414711096503393.75,428646869491919.5,442198006641655.6,458498498498498.5,476569300411846.6,492522522522522.56,507987987987988.0,523095121699114.56,535217574052890.94,551291291291291.3,566756756756756.8,582187991278366.6,596169251615228.2,610060060060060.1,622866798021237.1,640990990990991.0,654627883208380.9,668828828828828.9,685676661916453.8,700375942466823.6,715225225225225.2,729688508392161.1,743711071563722.0,758528528528528.6,770900900900901.0,786869838121601.1,801831831831831.9,817297297297297.5,831405767312527.0,845135135135135.1,860600600600600.6,875634597747040.9,888438438438438.5,901529276893542.6,916427022978360.2,931741741741741.8,946392130578964.4,960957669087486.5,975045045045045.1,989617131883454.2,1003260013244139.9,1017322531603504.1,1030997435780075.5,1046562437488940.6,1060224659043220.2,1074359930928390.5,1089489489489489.5,1103311113487595.9,1117327327327327.4,1131491034592081.8,1145165165165165.2,1160130741807859.2,1173957667815687.5,1187157773919565.0,1202086312406038.0,1216306306306306.2,1230512448069553.2,1244144144144144.2,1257821425531346.0,1271981981981982.0,1286566233810316.0,1299973988126289.8,1315285285285285.2,1328108731889126.2,1343123123123123.2,1356455921008398.2,1369716977165862.2,1383807406418975.2,1398798798798798.8,1412144838285723.5,1426636636636636.8,1440218853212763.0,1454281733780815.0,1467418436083548.5,1481943634375172.8,1495505210137579.8,1510150150150150.2,1523512596311177.2,1537876848220117.0,1550852355184615.5,1565604930912648.0',\n",
              " '291471471471471.5,319309309309309.3,347147147147147.2,369574002259971.9,393543543543543.56,418288288288288.3,445995154936238.1,463169747251472.3,489429429429429.5,514174174174174.2,535825825825825.9,558012144254838.8,585232609803505.5,613325751197873.5,634804804804804.8,659549549549549.6,684294294294294.4,712132132132132.1,734816555148064.1,758528528528528.6,782067732913110.8,807919318008606.0,832762762762762.8,860600600600600.6,883751891355100.0,908757517746595.9,934834834834834.9,959579579579579.6,984572139818323.6,1012162162162162.2,1036286109307329.4,1061651651651651.8,1089121205577495.4,1111141141141141.4,1135885885885886.0,1163516507875752.8,1188468468468468.5,1213213213213213.2,1240738023158417.0,1266663732970615.0,1290540540540540.5,1315932086404694.0,1342344627267770.5,1367867867867868.0,1392898593013441.2,1419596498673419.8,1445195195195195.2,1470768684401839.0,1497777777777777.8,1522522522522522.5,1549087868892639.0,1575105105105105.5,1599849849849850.0,1625565943515137.5,1652432432432432.5,1677177177177177.2,1705015015015015.0,1729759759759759.5,1754504504504504.5,1782342342342342.5,1807087087087087.2,1834479584722272.0,1859669669669669.8,1885868567839916.0,1912252252252252.2,1939617630853251.0,1964834834834835.0,1989579579579579.8,2017417417417417.5,2042162162162162.0,2067857101280889.0,2094744744744744.5,2122190114715745.0,2147327327327327.5,2172475378366786.5,2199909909909910.0,2224654654654655.0,2252474842253536.0,2277237237237237.5,2304603216511210.0,2329819819819820.0,2357657657657658.0,2382402402402402.5,2409602010676708.5,2434984984984985.0,2462353980021136.5,2487567567567567.5,2515405405405405.5,2540150150150150.5,2567987987987988.0,2592732732732733.0,2619645868801371.5,2645315315315315.5,2673153153153153.5,2697897897897898.0,2725735735735736.0')"
            ]
          },
          "metadata": {},
          "execution_count": 33
        }
      ],
      "source": [
        "find_rhos(9)"
      ]
    },
    {
      "cell_type": "code",
      "execution_count": 33,
      "metadata": {
        "id": "90U_rUMuf1ao"
      },
      "outputs": [],
      "source": [
        ""
      ]
    },
    {
      "cell_type": "code",
      "execution_count": 34,
      "metadata": {
        "colab": {
          "base_uri": "https://localhost:8080/"
        },
        "id": "AGtWQl9YZ4Mq",
        "outputId": "8b9d3d73-5e0a-4001-ab8f-c534da20f2f2"
      },
      "outputs": [
        {
          "output_type": "stream",
          "name": "stdout",
          "text": [
            "Calculate properties of sly stars\n",
            "Start at central density 1.77193618044e+14 g/cm^3\n",
            "Done at central density 1.56560493091e+15 g/cm^3\n",
            "Save to /content/macro_contour9sly.csv\n"
          ]
        }
      ],
      "source": [
        "\n",
        "# calculate neutron star observables for a given equation of state\n",
        "\n",
        "%%bash -s '$find_rhos.newrhocs_list' '$find_rhos.newrhocdms_list'\n",
        "# this cell is a separate terminal instance\n",
        "\n",
        "export PATH=$PATH:/opt/bin # the code doesn't need to be reinstalled in each terminal, but we do need to point to the install directory like this each time\n",
        "export PYTHONPATH=$PYTHONPATH:/opt/lib/python2.7/site-packages\n",
        "\n",
        "getnsprops sly.csv -p R,M,Rdm,Mdm,Mb,Md -d /content/ns-struc-dm/ -o /content/ -v -t macro_contour9 -r $1 -n 10 -R $2 # call the executable that computes the neutron star observables\n",
        "# getnsprops [eos table] -p [observables to calculate] -m [mass range to calculate them for] \n",
        "#-d [directory where the eos table lives] -o [directory where the table of observables should be output]"
      ]
    },
    {
      "cell_type": "code",
      "execution_count": 35,
      "metadata": {
        "colab": {
          "base_uri": "https://localhost:8080/"
        },
        "id": "bnKC5iAaZ82p",
        "outputId": "54b5077f-76ff-445f-b8ee-16f6ee8c0170"
      },
      "outputs": [
        {
          "output_type": "execute_result",
          "data": {
            "text/plain": [
              "('42044004054185.76,54878269350238.414,62348640818333.45,71861861861861.88,85976232001734.8,98965500890728.62,111896656552529.77,119989232782061.84,126117831737810.28,139843935118917.52,145256392038208.62,158468468468468.47,172144554274852.5,180120120120120.12,187076362218613.34,192572057366289.84,198678678678678.7,211051051051051.06,220330330330330.34,229609609609609.62,237068225179324.16,242661253579075.25,251658843887873.34,261814849372027.88,270577250112248.78,278143729658040.16,286900829577691.44,294909374393970.4,303843843843843.9,311294906212789.56,318723004376023.4,325321291107421.75,334978450286359.4,344823893348891.5,352887179618651.75,358929429894293.9,363830727017934.8,371358384816445.94,377606606442989.1,384264264264264.3,393543543543543.56,400876536563797.25,408729945960228.4,415195195195195.2,421654316434226.8,428861603783257.25,436846846846846.8,443033033033033.0,450342767917878.75,458498498498498.5,465298504957239.06,471660980650487.0,479158251889018.5,486602822179142.5,493018021098053.25,500383783435374.7,507987987987988.0,514833219599369.75,522713688526539.1,529026852379810.56,535014140422441.25,540139375314388.9,548198198198198.25,554939962484240.5,560649113482027.44,566756756756756.8,574132640761024.5,581645075622085.6,588190645136633.4,594337288437810.2,599843516746694.8,606966966966967.0,613949483771912.5,621391615544201.8,627068600331466.1,634291493548433.0,641244754931842.4,647777650983192.1,654062516890285.8,660920686659030.2,667808909467490.5,673833490696390.8,679671786965242.2,687387387387387.2,694231415691386.0,701079653330707.8,707433238983020.0,713336890887125.9,719079001568400.0,724504504504504.5,730773285886312.9,737963039498096.5,744845029457105.1,750816968565268.0,757686628840984.5,763892326663402.4,769485025723739.5,775161736817974.5,782609668132612.2,789424557114192.0,795336267191273.5,801831831831831.8,808280163064043.1,814514348146614.2,820847772446656.0',\n",
              " '285285285285285.3,303843843843843.9,328588588588588.6,347551402501608.8,365705705705705.75,384264264264264.3,402822822822822.9,424474474474474.5,449219219219219.25,467777777777777.8,492522522522522.56,510143463562178.1,526546546546546.56,549230072608192.0,572942942942943.0,597687687687687.8,623517604230761.2,642253961894353.4,663954094736749.5,685865969263651.0,709039039039039.1,733783783783783.8,755435435435435.5,777087087087087.1,798738738738738.8,823483483483483.5,845135135135135.1,866786786786786.9,889659210705244.1,913183183183183.2,937927927927928.0,962672672672672.8,981231231231231.2,1002882882882882.9,1027627627627627.6,1052372372372372.2,1077117117117117.0,1101861861861861.8,1126606606606606.5,1148550295710539.5,1172304768185458.5,1194654654654654.8,1219399399399399.5,1241528125202998.0,1265795795795795.8,1290540540540540.5,1314328772683549.8,1339449038112612.8,1361681681681681.8,1385864251842830.2,1408078078078078.2,1432822822822823.0,1457567567567567.8,1479219219219219.2,1503963963963964.2,1528708708708708.8,1551207147482496.5,1575105105105105.2,1599849849849850.0,1624594594594594.8,1649339339339339.5,1674084084084084.2,1698561961898636.8,1720480480480480.5,1745225225225225.2,1772486115912255.2,1794714714714714.8,1819459459459459.5,1844204204204204.2,1868948948948949.0,1893693693693693.8,1918325021531883.2,1940090090090090.2,1964834834834835.0,1989579579579580.0,2014324324324324.5,2035975975975976.0,2060720720720721.0,2085465465465465.5,2110210210210210.0,2134954954954955.0,2159699699699699.8,2184444444444444.5,2208326939315424.0,2230840840840841.0,2255585585585586.0,2280330330330330.5,2305075075075075.0,2329819819819820.0,2355707999425197.0,2379309309309309.5,2404054054054054.0,2428798798798799.0,2453543543543543.5,2478288288288288.5,2503033033033033.0,2527777777777778.0,2552522522522522.5,2577267267267267.5,2602012012012012.0,2626756756756757.0,2650039607209515.0,2673153153153153.5,2697897897897898.0,2722642642642643.0')"
            ]
          },
          "metadata": {},
          "execution_count": 35
        }
      ],
      "source": [
        "find_rhos(10)"
      ]
    },
    {
      "cell_type": "code",
      "execution_count": 36,
      "metadata": {
        "colab": {
          "base_uri": "https://localhost:8080/"
        },
        "id": "9SKsbKk4Z-nr",
        "outputId": "c70c6c3d-5b63-428d-d362-3e16a49a35db"
      },
      "outputs": [
        {
          "output_type": "stream",
          "name": "stdout",
          "text": [
            "Calculate properties of sly stars\n",
            "Start at central density 4.20440040542e+13 g/cm^3\n",
            "Done at central density 8.20847772447e+14 g/cm^3\n",
            "Save to /content/macro_contour10sly.csv\n"
          ]
        }
      ],
      "source": [
        "\n",
        "# calculate neutron star observables for a given equation of state\n",
        "\n",
        "%%bash -s '$find_rhos.newrhocs_list' '$find_rhos.newrhocdms_list'\n",
        "# this cell is a separate terminal instance\n",
        "\n",
        "export PATH=$PATH:/opt/bin # the code doesn't need to be reinstalled in each terminal, but we do need to point to the install directory like this each time\n",
        "export PYTHONPATH=$PYTHONPATH:/opt/lib/python2.7/site-packages\n",
        "\n",
        "getnsprops sly.csv -p R,M,Rdm,Mdm,Mb,Md -d /content/ns-struc-dm/ -o /content/ -v -t macro_contour10 -r $1 -n 10 -R $2 # call the executable that computes the neutron star observables\n",
        "# getnsprops [eos table] -p [observables to calculate] -m [mass range to calculate them for] \n",
        "#-d [directory where the eos table lives] -o [directory where the table of observables should be output]"
      ]
    },
    {
      "cell_type": "code",
      "execution_count": 37,
      "metadata": {
        "colab": {
          "base_uri": "https://localhost:8080/",
          "height": 455
        },
        "id": "fz5uAY4d5oOa",
        "outputId": "67f6ec45-54c1-4220-fe0e-83e61382f249"
      },
      "outputs": [
        {
          "output_type": "display_data",
          "data": {
            "text/plain": [
              "<Figure size 792x504 with 1 Axes>"
            ],
            "image/png": "[encoded data removed]"
          },
          "metadata": {
            "needs_background": "light"
          }
        }
      ],
      "source": [
        "data_con0 = np.genfromtxt('/content/macro_contour0sly.csv',delimiter=',',names=True,dtype=None)\n",
        "data_con1 = np.genfromtxt('/content/macro_contour1sly.csv',delimiter=',',names=True,dtype=None)\n",
        "data_con2 = np.genfromtxt('/content/macro_contour2sly.csv',delimiter=',',names=True,dtype=None)\n",
        "data_con3 = np.genfromtxt('/content/macro_contour3sly.csv',delimiter=',',names=True,dtype=None)\n",
        "data_con4 = np.genfromtxt('/content/macro_contour4sly.csv',delimiter=',',names=True,dtype=None)\n",
        "data_con5 = np.genfromtxt('/content/macro_contour5sly.csv',delimiter=',',names=True,dtype=None)\n",
        "data_con6 = np.genfromtxt('/content/macro_contour6sly.csv',delimiter=',',names=True,dtype=None)\n",
        "data_con7 = np.genfromtxt('/content/macro_contour7sly.csv',delimiter=',',names=True,dtype=None)\n",
        "data_con8 = np.genfromtxt('/content/macro_contour8sly.csv',delimiter=',',names=True,dtype=None)\n",
        "data_con9 = np.genfromtxt('/content/macro_contour9sly.csv',delimiter=',',names=True,dtype=None)\n",
        "data_con10 = np.genfromtxt('/content/macro_contour10sly.csv',delimiter=',',names=True,dtype=None)\n",
        "\n",
        "# plot the surviving M-R data\n",
        "plt.figure(figsize= (11,7))\n",
        "# filter_fdm(dat,'sly',48)\n",
        "plt.scatter(data_con0['R'],data_con0['Mg'],marker='.',s=3, label = '1%')\n",
        "plt.scatter(data_con1['R'],data_con1['Mg'],marker='.',s=3, label = '10%')\n",
        "plt.scatter(data_con2['R'],data_con2['Mg'],marker='.',s=3, label = '20%')\n",
        "plt.scatter(data_con3['R'],data_con3['Mg'],marker='.',s=3, label = '30%')\n",
        "plt.scatter(data_con4['R'],data_con4['Mg'],marker='.',s=3, label = '40%')\n",
        "plt.scatter(data_con5['R'],data_con5['Mg'],marker='.',s=3, label = '50%')\n",
        "plt.scatter(data_con6['R'],data_con6['Mg'],marker='.',s=3, label = '60%')\n",
        "plt.scatter(data_con7['R'],data_con7['Mg'],marker='.',s=3, label = '70%')\n",
        "plt.scatter(data_con8['R'],data_con8['Mg'],marker='.',s=3, label = '80%')\n",
        "plt.scatter(data_con9['R'],data_con9['Mg'],marker='.',s=3, label = '90%')\n",
        "plt.scatter(data_con10['R'],data_con10['Mg'],marker='.',s=3, label = '99%')\n",
        "plt.scatter(dat['R'],dat['Mg'],marker='.',s=2,c='k')\n",
        "plt.xlabel(r'$R$ [km]', size = 16) # add plot labels, etc.\n",
        "plt.ylabel(r'$M+M_{DM}$ [$M_\\odot$]', size = 16)\n",
        "plt.xlim(1.,16.)\n",
        "\n",
        "plt.xticks(fontsize=16)\n",
        "plt.yticks(fontsize=16)\n",
        "plt.legend(bbox_to_anchor=(1.35, 1), fontsize = 16, title='Dark matter fraction',title_fontsize=18 )\n",
        "plt.show()"
      ]
    },
    {
      "cell_type": "code",
      "execution_count": 37,
      "metadata": {
        "id": "lyzBQF61h3B6"
      },
      "outputs": [],
      "source": [
        ""
      ]
    },
    {
      "cell_type": "code",
      "execution_count": 38,
      "metadata": {
        "id": "Qadz4NpI8NAt"
      },
      "outputs": [],
      "source": [
        "# to associate the (dark) baryon mass to each point in rhoc-rhocdm space, interpolate 3D (rhoc,rhocdm,Mb) data to get a function Mb(rhoc,rhocdm)\n",
        "\n",
        "x = dat['rhoc'] # input data\n",
        "y = dat['rhocdm']\n",
        "z = dat['Mb']\n",
        "zdm = dat['Md']\n",
        "\n",
        "X = np.linspace(0.1e14,3.1e15,1000) # the grid where we'll evaluate Mb(rhoc,rhocdm)\n",
        "Y = np.linspace(0.1e14,3.1e15,1000)\n",
        "x_grid, y_grid = np.meshgrid(X, Y)\n",
        "\n",
        "outdat = scipy.interpolate.griddata((x,y),z,(x_grid,y_grid),'linear') # Mb evaluated on the grid, with one of three methods: nearest, linear, cubic\n",
        "outdat_dm = scipy.interpolate.griddata((x,y),zdm,(x_grid,y_grid),'linear') # Md evaluated on the grid"
      ]
    },
    {
      "cell_type": "code",
      "execution_count": 39,
      "metadata": {
        "colab": {
          "base_uri": "https://localhost:8080/",
          "height": 289
        },
        "id": "AuRdWqAmdKj-",
        "outputId": "b467b6b6-3252-446c-d668-70743c212b10"
      },
      "outputs": [
        {
          "output_type": "display_data",
          "data": {
            "text/plain": [
              "<Figure size 432x288 with 1 Axes>"
            ],
            "image/png": "[encoded data removed]"
          },
          "metadata": {
            "needs_background": "light"
          }
        }
      ],
      "source": [
        "# plot the interpolated Mb and Md functions\n",
        "\n",
        "plt.pcolormesh(x_grid,y_grid,outdat,cmap='gray_r') # show Mb(rhoc,rhocdm) as a color map (darker = larger Mb)\n",
        "#plt.pcolormesh(x_grid,y_grid,outdat,cmap='gray_r') # show Md(rhoc,rhocdm) as a color map (darker = larger Mb) -- but can't seem to show two colormaps at once\n",
        "\n",
        "num_cs = 11\n",
        "cs = plt.contour(x_grid,y_grid,outdat,list(np.linspace(1.,3.,num_cs)),colors='r') # plot the contours of constant Mb(rhoc,rhocdm)\n",
        "cs_dm = plt.contour(x_grid,y_grid,outdat_dm,list(np.linspace(1.,3.,num_cs)),colors='g') # plot the contours of constant Md(rhoc,rhocdm)\n"
      ]
    },
    {
      "cell_type": "code",
      "execution_count": 40,
      "metadata": {
        "id": "sLPPFC-dkofh"
      },
      "outputs": [],
      "source": [
        "# extract the (rhoc,rhocdm) coordinates of the constant-fdm contours\n",
        "\n",
        "contours = []\n",
        "for i in range(num_cs+3):\n",
        "  try: c = cs.allsegs[i][0] # if a contour was plotted, save it\n",
        "  except: continue\n",
        "  contours += [c] # list that stores all the extracted contours\n"
      ]
    },
    {
      "cell_type": "code",
      "execution_count": 41,
      "metadata": {
        "id": "zH98n5YfkxjQ"
      },
      "outputs": [],
      "source": [
        "# downsample the contours to get a list of (rhoc,rhocdm) coordinates to use to generate a constant-fdm sequence of stars\n",
        "\n",
        "num_stars = 100 # how many stars to aim for in the sequence\n",
        "rhocs, rhocdms = [], []\n",
        "\n",
        "for c in contours:\n",
        "  \n",
        "  skip = int(len(c[:,0])/num_stars)\n",
        "  rhocs += [c[::skip,0]]\n",
        "  rhocdms += [c[::skip,1]] # downselect to num_stars (rhoc,rhocdm) points\n",
        "\n",
        "\n",
        "rhomin = 2.8e14 # because some central densities are too small to give physical neutron stars, throw out those below rhomin\n",
        "rhomax = 12*rhomin # because some central densities are too large to give physical neutron stars, throw out those above rhomax\n",
        "rhocs_out, rhocdms_out = [], []\n",
        "\n",
        "for c,cdm in zip(rhocs,rhocdms):\n",
        "  c_out, cdm_out = [], []\n",
        "\n",
        "  for rhoc,rhocdm in zip(c,cdm):\n",
        "    \n",
        "    if (rhoc >= rhomin or rhocdm >= rhomin) and rhoc <= rhomax and rhocdm <=rhomax: # one of rhoc/rhocdm below rhomin is ok, to allow pure regular matter or pure dm star\n",
        "      c_out += [rhoc]\n",
        "      cdm_out += [rhocdm]\n",
        "  rhocs_out += [c_out]\n",
        "  rhocdms_out += [cdm_out]"
      ]
    },
    {
      "cell_type": "code",
      "execution_count": 42,
      "metadata": {
        "colab": {
          "base_uri": "https://localhost:8080/"
        },
        "id": "ahh0NUR0dZog",
        "outputId": "f4586a29-ed1c-43ae-e09c-2593c48b3844"
      },
      "outputs": [
        {
          "output_type": "execute_result",
          "data": {
            "text/plain": [
              "('2741201201201202.0,2716456456456456.5,2691386627652767.5,2665793912958256.0,2641074390423345.0,2615422969542970.0,2590875242716255.5,2565865176017519.0,2540150150150150.5,2515914147389703.5,2491439468542276.0,2467318318546117.0,2442965807526425.5,2418122040552465.0,2394774774774775.0,2370030030030030.0,2345285285285285.5,2320540540540540.5,2296109110351215.5,2272709940880229.0,2249399399399399.5,2224654654654654.8,2200418607284778.5,2176555935582818.0,2153513513513513.8,2128768768768768.8,2106157730825615.0,2082372372372372.5,2058424227066051.2,2035975975975976.0,2011884147231775.5,1989485597643348.5,1964834834834835.0,1943183183183183.2,1919357766726959.5,1896786786786787.0,1873955994409662.0,1850390390390390.5,1828738738738738.8,1805246438955225.0,1782342342342342.5,1760690690690690.8,1739039039039039.2,1715346556944407.5,1693203820703897.2,1670990990990991.0,1649339339339339.5,1627687687687687.8,1605163915611370.8,1584315342087716.5,1562331070584463.5,1539866875788809.5,1519094808385050.8,1496330908733164.8,1475959158434932.5,1454474474474474.5,1432822822822823.0,1411171171171171.2,1389519519519519.5,1368960304985432.0,1348225695386672.8,1327657657657657.8,1306006006006006.0,1285550164636972.2,1265795795795795.8,1244144144144144.2,1223653025765461.5,1203933933933934.0,1182285687055452.2,1162633547164380.0,1142072072072072.2,1120512383247716.2,1101666892702126.9,1080994223600237.5,1061651651651651.8,1042074059477547.6,1021441441441441.5,1002207207758727.4,981231231231231.2,961973657822398.0,941910623381865.1,922763477852712.8,903903903903904.0,885345345345345.4,866786786786786.9,847765622669993.9,829669669669669.8,811111111111111.1,794721342663495.0,777087087087087.2,760987179762948.8,744811693688589.4,731069637129115.9,718318318318318.2,707791492383601.9,696935986465494.8,688024615322699.4,681830843034117.5,677966291024169.4,675080362963027.6,673417341034468.5',\n",
              " '2585053352378407.0,2564176860600555.0,2543243243243244.0,2521591591591591.5,2499939939939940.0,2478288288288288.5,2456636636636637.0,2434984984984985.0,2413334113958982.5,2391681681681682.0,2370030030030030.0,2348378378378378.5,2326726726726727.0,2305075075075075.0,2283274120147555.0,2260932618788953.0,2238915660498911.0,2216355492894616.0,2193723723723723.8,2172072072072072.5,2149780269640502.0,2126764177116438.0,2104024024024024.5,2082372372372372.5,2060142729237205.2,2036091593291059.0,2014324324324324.5,1990675020632604.5,1967927927927928.0,1945381712355731.0,1921531531531532.0,1899879879879880.0,1875488329750934.5,1853052030575685.8,1828738738738738.8,1805220999106988.5,1782342342342342.5,1758033783831238.8,1735322188525657.8,1711201201201201.2,1686791577503952.5,1664033615044520.5,1639740502387744.0,1615315315315315.5,1590570570570570.8,1566140085083756.0,1542644182473021.5,1518778284528205.2,1494684684684684.8,1469939939939940.0,1445195195195195.2,1420450450450450.5,1395705705705705.8,1370960960960961.0,1346216216216216.5,1321408004940874.5,1295941128698531.5,1270115130721349.5,1244602057559912.0,1219399399399399.5,1194654654654654.8,1169045899382918.0,1144172830772228.8,1117327327327327.2,1092148698455398.5,1065327609474729.5,1040000000000000.0,1014893103619935.8,987417417417417.5,962672672672672.8,935971081866125.5,910090090090090.1,885345345345345.4,857507507507507.5,831201053221357.5,804924924924925.0,777476673049839.4,752342342342342.4,725076775780337.4,699759759759759.8,671921921921922.0,644084084084084.1,616715599817831.1,589052920472590.5,562506890598918.6,535825825825825.9,507957564436688.4,477619591660517.2,449219219219219.25,418936843141549.75,390450450450450.5,359519519519519.56,325495495495495.5,291944729189410.94,257447447447447.44,220330330330330.34,183213213213213.22,143003003003003.0,102792792792792.8,56396396396396.4,13093093093093.094')"
            ]
          },
          "metadata": {},
          "execution_count": 42
        }
      ],
      "source": [
        "find_rhos(0)"
      ]
    },
    {
      "cell_type": "code",
      "execution_count": 43,
      "metadata": {
        "colab": {
          "base_uri": "https://localhost:8080/"
        },
        "id": "dr9zbZXfeFyy",
        "outputId": "4c6fc76a-e4ad-46af-e2b5-ed6fc334c4b3"
      },
      "outputs": [
        {
          "output_type": "stream",
          "name": "stdout",
          "text": [
            "Calculate properties of sly stars\n",
            "Start at central density 2.7412012012e+15 g/cm^3\n",
            "Done at central density 6.73417341034e+14 g/cm^3\n",
            "Save to /content/macro_contour_mb0sly.csv\n"
          ]
        }
      ],
      "source": [
        "# calculate neutron star observables for a given equation of state\n",
        "\n",
        "%%bash -s '$find_rhos.newrhocs_list' '$find_rhos.newrhocdms_list'\n",
        "# this cell is a separate terminal instance\n",
        "\n",
        "export PATH=$PATH:/opt/bin # the code doesn't need to be reinstalled in each terminal, but we do need to point to the install directory like this each time\n",
        "export PYTHONPATH=$PYTHONPATH:/opt/lib/python2.7/site-packages\n",
        "\n",
        "getnsprops sly.csv -p R,M,Rdm,Mdm,Mb,Md -d /content/ns-struc-dm/ -o /content/ -v -t macro_contour_mb0 -r $1 -n 4 -R $2 # call the executable that computes the neutron star observables\n",
        "# getnsprops [eos table] -p [observables to calculate] -m [mass range to calculate them for] \n",
        "#-d [directory where the eos table lives] -o [directory where the table of observables should be output]"
      ]
    },
    {
      "cell_type": "code",
      "execution_count": 44,
      "metadata": {
        "colab": {
          "base_uri": "https://localhost:8080/"
        },
        "id": "SieSmJzXe8ra",
        "outputId": "e03bd411-eb52-4ef7-9bb1-f49ea9f35841"
      },
      "outputs": [
        {
          "output_type": "execute_result",
          "data": {
            "text/plain": [
              "('2741201201201201.5,2716456456456456.0,2691711711711712.0,2666966966966967.0,2642222222222222.5,2617953867979782.0,2594439009495984.0,2570911762082577.0,2546336336336336.5,2521591591591591.0,2497172524762658.0,2473814018545521.5,2450450450450450.5,2425705705705706.0,2401731518186817.0,2379236898100809.0,2354564564564564.5,2330434641337485.0,2308168168168168.5,2283505763650952.5,2261668649685859.5,2237027027027027.2,2214801200851802.0,2190630630630630.8,2167431837184786.0,2144234234234234.0,2121623466299811.0,2097837837837838.0,2076186186186186.0,2053032516583326.2,2029789789789790.0,2008138138138138.2,1984514108811665.0,1961741741741741.8,1940090090090090.5,1918438438438438.5,1896287050208112.0,1873224131251826.5,1850390390390390.5,1828738738738738.5,1807087087087087.2,1785435435435435.5,1763783783783784.0,1742039726879476.0,1720480480480480.5,1698828828828829.0,1677177177177177.2,1655525525525525.5,1633873873873874.0,1612222222222222.2,1590570570570570.8,1569540815607217.5,1549490297545859.2,1528500206706998.2,1507057057057057.2,1485405405405405.2,1464205813468651.0,1444847542360944.8,1423543543543543.5,1403134824046963.0,1383333333333333.5,1361681681681681.8,1342089505620221.0,1321471471471471.5,1301350096925416.8,1281261261261261.2,1261362368001277.5,1241051051051051.0,1222492492492492.5,1201676460688396.8,1182282282282282.2,1162381264512164.0,1142414528878434.0,1123513513513513.5,1104737336873820.6,1085747609285026.2,1066133172113394.5,1046286455559070.5,1027627627627627.6,1009069069069069.0,990791312044484.1,973049096535461.0,955316970445388.0,937583749794264.9,919369369369369.4,902813183999897.8,886293347246117.0,869879879879879.9,854414414414414.5,838948948948949.0,824146776061178.1,810600672808261.9,799294082288604.4,788983922678052.1,779061043270373.8,770627395664196.5,762899243548185.5,758802764962743.8,756019175534055.8,754191932141516.8,752969711831635.4',\n",
              " '2353382737355211.0,2334143573298329.0,2315743603785344.5,2296875874926232.5,2277329301536141.0,2258678678678679.0,2240120120120120.5,2221561561561561.5,2202352109967791.5,2182771220641614.5,2162792792792793.0,2144234234234234.0,2125422593278271.2,2104780756481189.0,2085465465465465.5,2066906906906907.0,2046502060738577.0,2026696696696696.8,2007618048092339.2,1986486486486486.5,1967927927927928.0,1946782330365857.5,1927717717717717.8,1907470611042188.5,1887507507507507.5,1866863911681797.0,1847297297297297.5,1825647431717463.5,1805712745656144.5,1785435435435435.5,1764173112013211.2,1744655590092421.0,1723573573573573.8,1702537721869210.0,1682160826545420.0,1661566693654755.2,1640060060060060.2,1618408408408408.5,1596769781806446.0,1576040347494648.5,1555757380266489.5,1534232166284101.8,1512784586308105.2,1491591591591591.5,1469755982791714.8,1447927120598806.0,1426136486977220.8,1404311577509510.5,1382842976334302.0,1360979705442251.5,1337257496555823.8,1315285285285285.2,1293633633633633.8,1271981981981982.0,1249209002120220.2,1226096457182997.0,1203933933933934.0,1182282282282282.2,1158654612207741.0,1135885885885886.0,1113112948365202.6,1089897548427274.2,1067837837837838.0,1044361149634946.5,1021441441441441.5,998522263395865.8,975045045045045.1,950706388837064.8,928160305890095.8,903903903903904.0,881304352171951.2,857507507507507.5,832762762762762.8,809448142993881.8,786366366366366.4,761621621621621.6,736876876876876.9,712132132132132.1,687688811089068.9,662651893668469.2,637897897897897.9,613153153153153.1,588408408408408.5,563663663663663.8,537782886402272.75,511081081081081.2,483243243243243.25,455437925693234.56,427895448557326.4,399867111235427.9,371891891891891.94,344054054054054.06,310030030030030.06,279099099099099.12,245075075075075.12,211051051051051.1,173933933933933.94,133723723723723.73,93513513513513.52,53303303303303.31,10000000000000.0')"
            ]
          },
          "metadata": {},
          "execution_count": 44
        }
      ],
      "source": [
        "find_rhos(1)"
      ]
    },
    {
      "cell_type": "code",
      "execution_count": 45,
      "metadata": {
        "colab": {
          "base_uri": "https://localhost:8080/"
        },
        "id": "Xv6RHcIugC6C",
        "outputId": "f9e75754-b8c7-4fdd-9808-9cd67cf81a4a"
      },
      "outputs": [
        {
          "output_type": "execute_result",
          "data": {
            "text/plain": [
              "1897"
            ]
          },
          "metadata": {},
          "execution_count": 45
        }
      ],
      "source": [
        "len(find_rhos.newrhocs_list)"
      ]
    },
    {
      "cell_type": "code",
      "execution_count": 46,
      "metadata": {
        "colab": {
          "base_uri": "https://localhost:8080/"
        },
        "id": "KMdxMBEZe-RW",
        "outputId": "f77208a1-2046-4c7b-90c2-aaab469a2719"
      },
      "outputs": [
        {
          "output_type": "stream",
          "name": "stdout",
          "text": [
            "Calculate properties of sly stars\n",
            "Start at central density 2.7412012012e+15 g/cm^3\n",
            "Done at central density 7.52969711832e+14 g/cm^3\n",
            "Save to /content/macro_contour_mb1sly.csv\n"
          ]
        }
      ],
      "source": [
        "# calculate neutron star observables for a given equation of state\n",
        "\n",
        "%%bash -s '$find_rhos.newrhocs_list' '$find_rhos.newrhocdms_list'\n",
        "# this cell is a separate terminal instance\n",
        "\n",
        "export PATH=$PATH:/opt/bin # the code doesn't need to be reinstalled in each terminal, but we do need to point to the install directory like this each time\n",
        "export PYTHONPATH=$PYTHONPATH:/opt/lib/python2.7/site-packages\n",
        "\n",
        "getnsprops sly.csv -p R,M,Rdm,Mdm,Mb,Md -d /content/ns-struc-dm/ -o /content/ -v -t macro_contour_mb1 -r $1 -n 4 -R $2 # call the executable that computes the neutron star observables\n",
        "# getnsprops [eos table] -p [observables to calculate] -m [mass range to calculate them for] \n",
        "#-d [directory where the eos table lives] -o [directory where the table of observables should be output]"
      ]
    },
    {
      "cell_type": "code",
      "execution_count": 47,
      "metadata": {
        "colab": {
          "base_uri": "https://localhost:8080/"
        },
        "id": "hn_lCUh3ozZ_",
        "outputId": "3ff2e985-8b77-4aab-f329-16b0cca72285"
      },
      "outputs": [
        {
          "output_type": "execute_result",
          "data": {
            "text/plain": [
              "('2741201201201201.5,2716456456456456.5,2692281885955506.5,2670060060060060.0,2645315315315315.5,2621310125386093.0,2598918918918919.0,2574174174174174.0,2552522522522522.5,2527777777777778.0,2505607742092939.5,2481381381381381.5,2459173906599633.0,2434984984984985.0,2413333333333333.5,2388789122955882.0,2366936936936937.0,2343733910611258.0,2320540540540541.0,2298888888888889.0,2275946694536856.0,2252611607386421.0,2230840840840841.0,2209189189189189.2,2186021798802086.0,2162792792792793.0,2141141141141141.2,2119489489489489.5,2097837837837838.0,2075805421293477.8,2054108998825500.0,2031700965929443.8,2009430766044198.8,1987138779871828.8,1965542082497176.5,1943983733793112.0,1922492198205219.0,1901772695340203.0,1880783934909900.2,1859669669669669.8,1838018018018018.0,1816366366366366.5,1794714714714714.8,1773819427762495.8,1753388219986965.5,1732852852852853.0,1711201201201201.2,1690876008544253.5,1670990990990991.0,1649339339339339.8,1628739195116330.8,1609129129129129.0,1587657833757945.8,1568669620685172.0,1547267267267267.2,1528708708708708.8,1507318839187895.0,1488498498498498.5,1467597617579082.8,1448288288288288.2,1428539209296036.0,1408078078078078.2,1389519519519519.5,1370630687537650.0,1350489385967278.5,1330750750750750.8,1312192192192192.2,1293306568714560.8,1273464183037206.2,1254592858933125.0,1235995858970569.0,1217566044010997.8,1199298843702642.5,1180944800086446.0,1162721643664409.0,1144322149016928.0,1125977176949669.0,1108048048048048.1,1090340122143864.8,1074024024024024.1,1055806181245380.1,1040000000000000.0,1022092217716853.5,1005975975975976.0,988490386923452.6,972950675258897.5,958432734601339.9,944114114114114.1,929173230749095.5,916276276276276.4,903903903903904.0,890406936025062.6,880597717257791.8,870755822947006.2,862826792165274.4,855197780337266.2,848965640556418.5,844571457044221.5,841553650799769.5,839869700925889.0,838559325131473.8',\n",
              " '2155904174224918.2,2139054422615240.8,2122582582582582.8,2107032132425560.8,2089676079751456.2,2073093093093093.2,2056942613502004.2,2039169663905052.0,2023596837902548.2,2005680414597667.5,1989579579579579.5,1971690394295631.2,1955555555555555.8,1937467221246130.8,1921090116585068.0,1902972972972973.0,1886471220912556.5,1868948948948949.0,1851228198608273.0,1834334231019110.8,1816366366366366.5,1797807807807808.0,1780800148011790.5,1763704795387971.0,1745225225225225.0,1727118573926213.0,1709617707634702.0,1691634405238643.0,1674049454026293.0,1655525525525525.5,1636966966966967.0,1618408408408408.5,1599849849849850.0,1581291291291291.5,1562732732732732.8,1544174174174174.2,1525615615615615.8,1507057057057057.2,1488498498498498.5,1469617346941346.8,1450259216412861.0,1431438458948167.5,1411800881139841.5,1392612612612612.8,1374054054054054.5,1354653009259374.2,1334213694996448.8,1315285285285285.2,1296310581213406.5,1275594116122479.2,1256516516516516.5,1237448117770246.2,1216306306306306.2,1197747747747747.8,1176150483615950.2,1157421850720599.5,1135885885885886.0,1116519628466258.1,1095675675675675.8,1076124702610043.2,1055465465465465.5,1033953773088312.5,1014156467618115.8,993603603603603.6,971951951951952.0,950627449232604.2,930082817321212.1,910090090090090.1,888438438438438.5,866786786786786.9,845135135135135.1,823483483483483.5,801831831831831.8,780180180180180.2,758528528528528.6,736876876876877.0,715225225225225.4,693536972916200.5,668828828828828.9,647161700405600.2,622432432432432.5,600250950673318.4,576036036036036.1,553899285649125.6,529639639639639.7,504894894894894.94,480150150150150.1,454047511345152.7,427567567567567.56,401974409072232.9,374489449320898.5,347147147147147.2,316216216216216.25,285285285285285.3,254354354354354.38,220330330330330.34,186306306306306.3,152282282282282.28,115165165165165.19,74954954954954.97,37837837837837.84')"
            ]
          },
          "metadata": {},
          "execution_count": 47
        }
      ],
      "source": [
        "find_rhos(2)"
      ]
    },
    {
      "cell_type": "code",
      "execution_count": 48,
      "metadata": {
        "colab": {
          "base_uri": "https://localhost:8080/"
        },
        "id": "YNmZV1wPo1FZ",
        "outputId": "ffe29412-cab4-4ce5-c332-6dae8138ff3a"
      },
      "outputs": [
        {
          "output_type": "stream",
          "name": "stdout",
          "text": [
            "Calculate properties of sly stars\n",
            "Start at central density 2.7412012012e+15 g/cm^3\n",
            "Done at central density 8.38559325131e+14 g/cm^3\n",
            "Save to /content/macro_contour_mb2sly.csv\n"
          ]
        }
      ],
      "source": [
        "# calculate neutron star observables for a given equation of state\n",
        "\n",
        "%%bash -s '$find_rhos.newrhocs_list' '$find_rhos.newrhocdms_list'\n",
        "# this cell is a separate terminal instance\n",
        "\n",
        "export PATH=$PATH:/opt/bin # the code doesn't need to be reinstalled in each terminal, but we do need to point to the install directory like this each time\n",
        "export PYTHONPATH=$PYTHONPATH:/opt/lib/python2.7/site-packages\n",
        "\n",
        "getnsprops sly.csv -p R,M,Rdm,Mdm,Mb,Md -d /content/ns-struc-dm/ -o /content/ -v -t macro_contour_mb2 -r $1 -n 4 -R $2 # call the executable that computes the neutron star observables\n",
        "# getnsprops [eos table] -p [observables to calculate] -m [mass range to calculate them for] \n",
        "#-d [directory where the eos table lives] -o [directory where the table of observables should be output]"
      ]
    },
    {
      "cell_type": "code",
      "execution_count": 49,
      "metadata": {
        "colab": {
          "base_uri": "https://localhost:8080/"
        },
        "id": "bsDRIlWYphec",
        "outputId": "a2a3b6f4-56e2-4159-e84a-d01979bdfeb9"
      },
      "outputs": [
        {
          "output_type": "execute_result",
          "data": {
            "text/plain": [
              "('2741201201201201.5,2719549549549549.5,2695163181103984.5,2673153153153153.5,2650587208632832.0,2626756756756757.0,2605105105105105.0,2582512599429675.5,2558708708708709.0,2537057057057057.0,2515405405405405.5,2492769911624850.5,2469688661322532.0,2447357357357357.5,2425705705705706.0,2404054054054054.0,2382402402402402.5,2360108579357152.0,2337519913740629.0,2315792953950861.5,2294380377043711.5,2272271393099924.0,2251349474503294.0,2230427555906663.2,2208948594760392.8,2187537537537538.0,2165885885885886.0,2144234234234234.2,2122582582582582.5,2100930930930931.0,2080328173568960.0,2060393251289164.0,2039069069069069.0,2017417417417417.5,1997376528452081.5,1977207207207207.2,1955555555555555.8,1934862736435619.2,1915345345345345.5,1893754812424621.8,1874617566913128.5,1853483483483483.5,1833848763911096.5,1813273273273273.2,1794085364695370.2,1773063063063063.5,1754299974196931.8,1733160866596102.2,1714294294294294.5,1694275925943207.5,1674084084084084.2,1655525525525525.5,1635984716465652.5,1616487677555653.0,1596756756756757.0,1578198198198198.5,1559639639639639.8,1540493681701304.0,1520578536136903.5,1501546906606149.5,1482648410372513.5,1463875869731809.8,1445412465024367.8,1427458084575396.0,1409515464263246.0,1391044683007955.5,1372927988557926.8,1354811294107898.0,1336936936936937.0,1318429889406295.8,1300890462371183.5,1284022083980248.5,1265992196426860.0,1249425908641680.0,1231771771771771.8,1214656429446736.8,1197747747747747.8,1180955849877288.2,1163825685580124.5,1148258258258258.2,1132792792792793.0,1116750426138699.9,1101399863421471.4,1086396396396396.5,1070930930930931.0,1055895717543097.6,1043093093093093.2,1029323037003846.2,1015977645125827.2,1003186662913867.2,991521174440006.8,980074021208835.0,969929324282275.0,961793230234782.2,954284446003372.4,947207207207207.2,941021021021021.2,935400143966189.5,932490150136913.0,930221657285175.0,928973033525301.8,928082602287711.4',\n",
              " '1974577718290460.0,1961002612881989.2,1946276276276276.5,1932661348618741.8,1918438438438438.5,1903758194431163.0,1889483373423739.0,1875135135135135.5,1859797619845272.8,1845320299640417.5,1831462680786062.2,1816366366366366.5,1800900900900901.0,1786205129847429.5,1771426474136638.0,1756647818425846.2,1741927908239542.2,1726666666666667.0,1711201201201201.2,1695735735735735.8,1680270270270270.2,1664804804804805.0,1649339339339339.5,1633873873873874.0,1618408408408408.5,1602565360835050.5,1587194836117022.8,1571037488139666.8,1554467835275973.5,1538619194785819.8,1522522522522522.5,1507057057057057.2,1490542009914178.8,1473202919738459.8,1457567567567567.8,1441961671559772.2,1424344994411066.2,1408078078078078.2,1392215532271148.2,1374054054054054.2,1358588588588588.8,1340975350014578.0,1324564564564564.8,1307377403625151.0,1290540540540540.5,1272228712109762.8,1256516516516516.5,1237957957957958.0,1221488779652452.5,1203933933933934.0,1185715649150682.0,1168895499636286.8,1151351351351351.5,1132792792792793.0,1114268707500175.0,1097173225480203.1,1079605449899677.0,1061651651651651.8,1043093093093093.1,1024534534534534.5,1005975975975976.0,987417417417417.5,968858858858858.9,950300300300300.4,931741741741741.8,913183183183183.2,894624624624624.6,876066066066066.2,856758685788765.4,835855855855855.9,817297297297297.4,798738738738738.8,777087087087087.1,758528528528528.6,738045262018091.0,718318318318318.4,699235504631402.2,678108108108108.1,656456456456456.5,636199420534843.0,615777894981004.9,594594594594594.6,572942942942943.0,550077768837751.3,529385139450723.75,504894894894894.94,482200705067309.4,458498498498498.5,433753753753753.75,409009009009009.0,384264264264264.3,359519519519519.6,331681681681681.7,303843843843843.9,272912912912912.94,244659654451225.7,213587735876956.78,180120120120120.12,146096096096096.12,112072072072072.08,74954954954954.97,40930930930930.94')"
            ]
          },
          "metadata": {},
          "execution_count": 49
        }
      ],
      "source": [
        "find_rhos(3)"
      ]
    },
    {
      "cell_type": "code",
      "execution_count": 50,
      "metadata": {
        "id": "Ylibo5Jvpnyl",
        "colab": {
          "base_uri": "https://localhost:8080/"
        },
        "outputId": "951593ae-3aac-4373-db17-6719b77c44a3"
      },
      "outputs": [
        {
          "output_type": "stream",
          "name": "stdout",
          "text": [
            "Calculate properties of sly stars\n",
            "Start at central density 2.7412012012e+15 g/cm^3\n",
            "Done at central density 9.28082602288e+14 g/cm^3\n",
            "Save to /content/macro_contour_mb3sly.csv\n"
          ]
        }
      ],
      "source": [
        "# calculate neutron star observables for a given equation of state\n",
        "\n",
        "%%bash -s '$find_rhos.newrhocs_list' '$find_rhos.newrhocdms_list'\n",
        "# this cell is a separate terminal instance\n",
        "\n",
        "export PATH=$PATH:/opt/bin # the code doesn't need to be reinstalled in each terminal, but we do need to point to the install directory like this each time\n",
        "export PYTHONPATH=$PYTHONPATH:/opt/lib/python2.7/site-packages\n",
        "\n",
        "getnsprops sly.csv -p R,M,Rdm,Mdm,Mb,Md -d /content/ns-struc-dm/ -o /content/ -v -t macro_contour_mb3 -r $1 -n 4 -R $2 # call the executable that computes the neutron star observables\n",
        "# getnsprops [eos table] -p [observables to calculate] -m [mass range to calculate them for] \n",
        "#-d [directory where the eos table lives] -o [directory where the table of observables should be output]"
      ]
    },
    {
      "cell_type": "code",
      "execution_count": 51,
      "metadata": {
        "id": "M9UcWKfMpz5A",
        "colab": {
          "base_uri": "https://localhost:8080/"
        },
        "outputId": "e84511f8-329d-4a4a-c16b-bde9bd868ba6"
      },
      "outputs": [
        {
          "output_type": "execute_result",
          "data": {
            "text/plain": [
              "('2741201201201201.5,2719549549549549.5,2697897897897898.0,2676246246246246.5,2654553461902393.5,2631890731730653.0,2609678996117671.0,2587676375613517.0,2566256895558573.0,2544928342234116.0,2523564550271852.0,2502403393570640.5,2481381381381381.5,2459729729729730.0,2438078078078078.0,2416659578848897.5,2395185797192450.5,2374960902610998.5,2354564564564564.5,2332912912912913.0,2311261261261261.5,2290984265003285.5,2271051051051051.0,2249399399399399.5,2230391630099328.5,2209189189189189.2,2189200052880791.8,2168978978978979.0,2148010604375196.5,2128768768768769.0,2107176409780819.0,2088558558558558.8,2067726784202921.5,2048348348348348.5,2029630613493494.5,2008169758611475.0,1989579579579579.8,1970086755911188.2,1949755498828010.2,1930810810810811.0,1912252252252252.2,1892341460855031.0,1872163569835822.5,1853483483483483.5,1834924924924924.8,1816366366366366.5,1797807807807808.0,1779249249249249.2,1760690690690690.8,1742132063136754.2,1723573573573573.8,1705015015015015.0,1686456456456456.5,1667897897897898.0,1649339339339339.5,1630780780780780.8,1612222222222222.2,1594963694163353.5,1577953599236852.0,1559639639639639.8,1542725419461440.5,1525338223046482.8,1507057057057057.0,1490225972084741.2,1472871901888688.8,1454474474474474.5,1439009009009009.0,1421198116163486.5,1404984984984985.0,1388423729058295.5,1372050423427072.5,1355495495495495.5,1338926925702313.8,1322994047402515.5,1306006006006006.0,1290540540540540.5,1275075075075075.2,1259731133795954.2,1244276551370929.8,1230147532468018.5,1216177977500732.2,1200840840840841.0,1187912950842254.2,1173003003003003.0,1157986335081835.2,1146418840229855.8,1133516312186565.5,1121717613309663.5,1109865549355430.5,1098768768768769.0,1087877168128997.8,1077536313695226.2,1069300550648581.2,1061651651651651.6,1054723818606587.0,1048823832019614.9,1043093093093093.1,1039147351932664.2,1035223794820579.2,1033380578247053.8,1031600145759045.1,1030692036039356.0,1029849224503630.2',\n",
              " '1794964313807260.0,1783683298270696.5,1772112308404965.8,1760083233708637.0,1748318318318318.2,1735945945945946.0,1723573573573573.8,1711201201201201.2,1698828828828829.0,1686456456456456.5,1674084084084084.0,1661711711711711.5,1649100966435037.2,1636112511222468.8,1622788891384283.0,1609129129129129.2,1596756756756756.8,1584384384384384.5,1571640649635338.0,1558511552523976.0,1544723750714547.0,1531801801801802.0,1518713220979768.5,1504294245287076.2,1491591591591591.8,1477339885477095.8,1463753753753754.0,1450319993730833.5,1435915915915916.0,1422280761333074.5,1408078078078078.2,1395148843929755.5,1380240240240240.2,1366371742274279.0,1352402402402402.5,1336936936936937.0,1323407304077115.5,1309099099099099.5,1293633633633633.8,1279188062938967.0,1265460473383220.2,1250330330330330.5,1234864864864865.0,1220045936522672.5,1204755952352158.5,1190643562272763.2,1175916393173370.0,1160230941523364.8,1144722663134065.0,1129699699699699.8,1113810498912590.2,1098309121484867.5,1082910914137470.8,1067222101410998.0,1051521486928058.9,1035478676126878.5,1018589224895325.0,1002882882882882.9,987417417417417.5,969521117521230.2,953393393393393.5,937927927927928.0,920615288017528.0,903903903903904.0,888438438438438.5,871445927374326.4,854369370442360.1,835855855855855.9,820040255859197.0,801831831831832.0,783273273273273.4,766634774322855.5,749249249249249.2,730690690690690.8,712632103553943.4,696114083761260.4,676578842937207.9,656456456456456.5,637897897897897.9,619339339339339.4,600780780780780.9,579889562207515.1,560570570570570.6,541662319876685.6,520360360360360.4,498708708708708.75,477057057057057.06,455405405405405.44,433753753753753.75,411150711115126.6,387357357357357.4,362612612612612.6,337867867867867.9,310709240225039.8,285285285285285.3,257447447447447.44,228105198006765.44,198678678678678.7,167747747747747.75,136816816816816.84,102792792792792.8,71861861861861.88,37837837837837.84')"
            ]
          },
          "metadata": {},
          "execution_count": 51
        }
      ],
      "source": [
        "find_rhos(4)"
      ]
    },
    {
      "cell_type": "code",
      "execution_count": 52,
      "metadata": {
        "id": "D1hQledCp1hF",
        "colab": {
          "base_uri": "https://localhost:8080/"
        },
        "outputId": "a5953144-af69-4baf-9e3d-489f7644fd42"
      },
      "outputs": [
        {
          "output_type": "stream",
          "name": "stdout",
          "text": [
            "Calculate properties of sly stars\n",
            "Start at central density 2.7412012012e+15 g/cm^3\n",
            "Done at central density 1.0298492245e+15 g/cm^3\n",
            "Save to /content/macro_contour_mb4sly.csv\n"
          ]
        }
      ],
      "source": [
        "# calculate neutron star observables for a given equation of state\n",
        "\n",
        "%%bash -s '$find_rhos.newrhocs_list' '$find_rhos.newrhocdms_list'\n",
        "# this cell is a separate terminal instance\n",
        "\n",
        "export PATH=$PATH:/opt/bin # the code doesn't need to be reinstalled in each terminal, but we do need to point to the install directory like this each time\n",
        "export PYTHONPATH=$PYTHONPATH:/opt/lib/python2.7/site-packages\n",
        "\n",
        "getnsprops sly.csv -p R,M,Rdm,Mdm,Mb,Md -d /content/ns-struc-dm/ -o /content/ -v -t macro_contour_mb4 -r $1 -n 4 -R $2 # call the executable that computes the neutron star observables\n",
        "# getnsprops [eos table] -p [observables to calculate] -m [mass range to calculate them for] \n",
        "#-d [directory where the eos table lives] -o [directory where the table of observables should be output]"
      ]
    },
    {
      "cell_type": "code",
      "execution_count": 53,
      "metadata": {
        "id": "iclaNk0JqGH-",
        "colab": {
          "base_uri": "https://localhost:8080/"
        },
        "outputId": "cb7a85bc-f464-4787-e6dd-00a3ec55a557"
      },
      "outputs": [
        {
          "output_type": "execute_result",
          "data": {
            "text/plain": [
              "('2741201201201201.5,2719549549549549.5,2697897897897898.0,2676246246246246.5,2654594594594594.5,2632942942942943.0,2612215785413067.5,2592732732732733.0,2571081081081081.0,2549429429429429.5,2529362928632152.0,2509219219219219.5,2487567567567567.5,2466620452364270.0,2447357357357357.5,2426758559812597.5,2407147147147147.5,2385495495495495.5,2366936936936937.0,2345285285285285.5,2326726726726727.0,2307487330051403.5,2286516516516516.5,2267957957957958.0,2247688509453991.0,2227747747747747.8,2209189189189189.0,2190501862464243.5,2170443247946403.8,2150673031982782.0,2131861861861862.0,2113303303303303.2,2094744744744744.8,2076186186186186.0,2057627627627627.8,2038695927218486.5,2020412933099669.2,2001951951951952.0,1983393393393393.5,1964834834834835.0,1946276276276276.5,1927717717717717.8,1911091115046525.0,1893693693693693.8,1875135135135135.2,1856576576576576.8,1838018018018018.0,1820672019435706.5,1803993993993994.0,1785435435435435.5,1769969969969970.0,1751411411411411.5,1735029094663525.5,1717387387387387.5,1701422455049080.5,1683363363363363.5,1667897897897898.0,1649339339339339.5,1633873873873874.0,1617528699399165.2,1599849849849850.0,1584295868339152.8,1567724144866865.0,1551441577878147.8,1535159010889430.5,1519429429429429.5,1504369969832185.2,1489622548268001.0,1473033033033033.0,1457567567567567.8,1442102102102102.2,1427084020628057.2,1412295499959833.0,1398798798798798.8,1384546999311962.8,1370960960960961.0,1355495495495495.5,1342873047108955.8,1329429807770739.5,1315285285285285.0,1302573864985822.8,1288674371042043.5,1275267056923861.2,1263946267472832.2,1253391225576694.8,1241504224844920.5,1231771771771771.8,1221297167494556.0,1210833201545639.8,1201381159456141.8,1192505404695977.0,1184781739989559.5,1178371452655207.5,1171514617789229.0,1166388920270081.5,1161318963804925.5,1157537537537537.5,1154347753034390.0,1151511465882877.8,1150060205929791.5,1148722398579102.8,1148047011859561.0,1147489790587088.2,1147054153561617.0',\n",
              " '1602636216354072.2,1592469551503577.0,1583706598994670.5,1574522916295904.0,1563960879076950.5,1554094002890293.8,1544174174174174.2,1534711776358963.2,1525078312213177.0,1514487732480003.8,1503963963963964.0,1494579166786362.2,1483665099024115.8,1473033033033033.0,1462706794948828.5,1451381381381381.5,1440463846850008.5,1429828522801651.2,1419965293464266.2,1408458192570649.8,1398121052899563.2,1386426426426426.5,1374476433116949.0,1364363391853280.0,1352402402402402.5,1340562226440110.8,1329648506254122.0,1318378378378378.5,1306006006006006.0,1293633633633633.8,1281525146352666.8,1269297805502164.5,1258142402681349.5,1245350205654601.5,1234136360829218.2,1222492492492492.5,1210120120120120.2,1197627301294355.5,1185068450392323.0,1171663503919867.2,1158841782199886.2,1145718108042422.0,1132792792792793.0,1120195250617323.0,1107353271187794.6,1094108105380306.5,1080654916077388.4,1067837837837837.8,1055366357316624.2,1040114023480756.9,1027137484180262.0,1013624267556788.8,999789789789789.8,985386551370535.2,971951951951952.0,957038541484239.2,943820826650957.8,928975000695535.1,916172110814159.0,900810810810810.9,885790208252920.5,872972972972973.0,857507507507507.5,842042042042042.1,826576576576576.6,811544455393179.9,795645645645645.8,780180180180180.2,764998402766426.2,750197250162453.0,734023852739583.6,718318318318318.4,702852852852852.9,687325344087695.4,668828828828828.9,652907928049600.8,635174214000901.9,619339339339339.2,600780780780780.9,583603461204271.9,566756756756756.8,548198198198198.25,529639639639639.7,511081081081081.1,492522522522522.56,470870870870870.9,451027380035173.25,430660660660660.75,409009009009009.0,387357357357357.4,365705705705705.75,344054054054054.06,319309309309309.3,294564564564564.6,269819819819819.84,241981981981982.0,216323924724012.3,189399399399399.4,158468468468468.47,130630630630630.64,99699699699699.7,71861861861861.88,40930930930930.94,10000000000000.0')"
            ]
          },
          "metadata": {},
          "execution_count": 53
        }
      ],
      "source": [
        "find_rhos(5)"
      ]
    },
    {
      "cell_type": "code",
      "execution_count": 54,
      "metadata": {
        "id": "PgXUc7DQqIqR",
        "colab": {
          "base_uri": "https://localhost:8080/"
        },
        "outputId": "db2d5f45-8221-47dc-9c81-5065085b43c8"
      },
      "outputs": [
        {
          "output_type": "stream",
          "name": "stdout",
          "text": [
            "Calculate properties of sly stars\n",
            "Start at central density 2.7412012012e+15 g/cm^3\n",
            "Done at central density 1.14705415356e+15 g/cm^3\n",
            "Save to /content/macro_contour_mb5sly.csv\n"
          ]
        }
      ],
      "source": [
        "# calculate neutron star observables for a given equation of state\n",
        "\n",
        "%%bash -s '$find_rhos.newrhocs_list' '$find_rhos.newrhocdms_list'\n",
        "# this cell is a separate terminal instance\n",
        "\n",
        "export PATH=$PATH:/opt/bin # the code doesn't need to be reinstalled in each terminal, but we do need to point to the install directory like this each time\n",
        "export PYTHONPATH=$PYTHONPATH:/opt/lib/python2.7/site-packages\n",
        "\n",
        "getnsprops sly.csv -p R,M,Rdm,Mdm,Mb,Md -d /content/ns-struc-dm/ -o /content/ -v -t macro_contour_mb5 -r $1 -n 4 -R $2 # call the executable that computes the neutron star observables\n",
        "# getnsprops [eos table] -p [observables to calculate] -m [mass range to calculate them for] \n",
        "#-d [directory where the eos table lives] -o [directory where the table of observables should be output]"
      ]
    },
    {
      "cell_type": "code",
      "execution_count": 55,
      "metadata": {
        "id": "MSqlDjYSqwNx",
        "colab": {
          "base_uri": "https://localhost:8080/"
        },
        "outputId": "97bf32e1-a6f4-4b6f-f5af-ecc908d05e43"
      },
      "outputs": [
        {
          "output_type": "execute_result",
          "data": {
            "text/plain": [
              "('2741201201201201.5,2719549549549549.5,2697897897897898.0,2676246246246247.0,2654594594594594.5,2632942942942943.0,2614384384384384.5,2592732732732733.0,2572611235644178.0,2552522522522522.5,2532187881627947.0,2512312312312312.5,2490660660660661.0,2472102102102102.0,2450869419186058.0,2431891891891892.0,2413333333333333.5,2392625286923924.5,2373123123123123.5,2354564564564564.5,2335973611555316.5,2315995310729103.0,2297111180414438.5,2278227050099773.0,2259590323822016.5,2241009433034184.0,2222428542246352.5,2205730666039375.5,2187537537537538.0,2168978978978979.0,2150420420420420.5,2131861861861862.0,2114492905485354.0,2097670367379023.8,2079279279279279.5,2060720720720721.0,2044667466064052.0,2026696696696696.8,2008608965774285.2,1992672672672672.5,1975147550896897.0,1958648648648648.5,1942054387172211.8,1924624624624625.0,1909159159159159.2,1893598397345922.0,1875135135135135.5,1859669669669670.0,1843053373989789.5,1825645645645645.8,1810180180180180.0,1794714714714714.8,1779249249249249.2,1762410454128844.0,1746709159422398.0,1731653681252889.5,1716598203083381.5,1701576003490284.8,1686456456456456.5,1671142751201428.0,1657765240883258.5,1642168128291653.5,1627687687687687.8,1612222222222222.2,1597753444996739.8,1584384384384384.5,1568918918918919.0,1556546546546546.8,1543830248125284.8,1528730072828684.0,1516248916808725.2,1502798978649120.5,1489760226518171.5,1476728809754362.0,1463753753753753.8,1452299363308849.8,1441851239468926.2,1429729729729729.8,1417357357357357.5,1406421670738342.5,1395940342670997.0,1386426426426426.5,1377147147147147.2,1367813441388340.8,1358588588588588.8,1349309309309309.5,1341621797747467.5,1333843843843844.0,1327420497543079.0,1321663002822644.0,1316693219953666.0,1312192192192192.0,1308321601684730.5,1305029435783681.5,1302154714888495.2,1299449430634479.5,1298107211226478.0,1296726726726726.8,1296178022086631.0,1295524673987840.5,1295124628030999.5',\n",
              " '1373394920759218.8,1365938985889756.2,1360171645198547.5,1353702649665615.5,1346902713954758.2,1340334275697918.0,1333607795594532.2,1325088169195840.2,1318378378378378.5,1310587209491380.5,1302912912912913.0,1296273729477648.5,1287859163216664.0,1280428059009952.0,1271981981981982.0,1264405424813766.0,1256334002744197.0,1247237237237237.2,1238793108182775.5,1230765360789422.8,1222492492492492.5,1213213213213213.2,1203933933933934.0,1194654654654654.8,1185375375375375.5,1176096096096096.2,1166816816816817.0,1157537537537537.5,1146934490773685.5,1137497608732840.2,1128091130921740.5,1117743149662339.9,1108048048048048.0,1098768768768768.9,1088351795078523.6,1077368943744843.8,1067837837837837.8,1056615188560819.8,1046186186186186.2,1036273265530133.6,1024534534534534.6,1012799032610875.5,1002882882882882.8,992414067724771.8,980738525222626.2,968858858858858.9,956971688114415.2,946700897674133.9,934834834834834.9,922464246829071.1,911481887675767.6,898913655303402.2,887530244046031.4,876066066066066.1,863693693693693.8,851321321321321.4,838948948948949.0,826576576576576.8,813515476839148.1,798738738738738.8,786366366366366.4,773993993993994.0,761463701366302.6,747323457601886.0,733783783783783.9,721273208969837.5,706042034381343.5,693410903375154.5,678108108108108.1,662642642642642.6,650270270270270.2,634804804804804.9,619339339339339.4,603873873873873.9,588448586815220.5,572942942942943.0,557477477477477.5,541032395523778.6,525955635282045.0,507987987987988.0,489429429429429.44,472275667781775.75,455335855496645.25,436846846846846.8,417664468951718.0,396699153932189.5,378078078078078.1,357494569011831.5,337867867867867.9,313123123123123.1,291471471471471.5,267511864178329.22,245075075075075.06,220330330330330.38,195585585585585.6,170840840840840.84,143003003003003.0,115497466066778.22,90420420420420.42,62582582582582.59,34744744744744.746')"
            ]
          },
          "metadata": {},
          "execution_count": 55
        }
      ],
      "source": [
        "find_rhos(6)"
      ]
    },
    {
      "cell_type": "code",
      "execution_count": 56,
      "metadata": {
        "id": "v4fvt6aOqx5N",
        "colab": {
          "base_uri": "https://localhost:8080/"
        },
        "outputId": "115b855e-7e65-41e7-9483-6849b9b97569"
      },
      "outputs": [
        {
          "output_type": "stream",
          "name": "stdout",
          "text": [
            "Calculate properties of sly stars\n",
            "Start at central density 2.7412012012e+15 g/cm^3\n",
            "Done at central density 1.29512462803e+15 g/cm^3\n",
            "Save to /content/macro_contour_mb6sly.csv\n"
          ]
        }
      ],
      "source": [
        "# calculate neutron star observables for a given equation of state\n",
        "\n",
        "%%bash -s '$find_rhos.newrhocs_list' '$find_rhos.newrhocdms_list'\n",
        "# this cell is a separate terminal instance\n",
        "\n",
        "export PATH=$PATH:/opt/bin # the code doesn't need to be reinstalled in each terminal, but we do need to point to the install directory like this each time\n",
        "export PYTHONPATH=$PYTHONPATH:/opt/lib/python2.7/site-packages\n",
        "\n",
        "getnsprops sly.csv -p R,M,Rdm,Mdm,Mb,Md -d /content/ns-struc-dm/ -o /content/ -v -t macro_contour_mb6 -r $1 -n 4 -R $2 # call the executable that computes the neutron star observables\n",
        "# getnsprops [eos table] -p [observables to calculate] -m [mass range to calculate them for] \n",
        "#-d [directory where the eos table lives] -o [directory where the table of observables should be output]"
      ]
    },
    {
      "cell_type": "code",
      "execution_count": 57,
      "metadata": {
        "id": "_T5CAYlvq_59",
        "colab": {
          "base_uri": "https://localhost:8080/"
        },
        "outputId": "ae0b3b09-113f-4b14-a534-f25b61fc8a16"
      },
      "outputs": [
        {
          "output_type": "execute_result",
          "data": {
            "text/plain": [
              "('2741201201201201.5,2721492112778759.0,2700990990990991.0,2679339339339339.5,2657687687687688.0,2636036036036036.0,2617477477477477.5,2598918918918919.0,2577267267267267.5,2555615615615616.0,2537057057057057.0,2518498498498498.5,2499939939939940.0,2481381381381381.5,2462822822822823.0,2444264264264264.5,2428798798798799.0,2410240240240240.5,2391681681681682.0,2376216216216216.5,2357657657657658.0,2342192192192192.5,2325817348639511.5,2308168168168168.5,2292702702702703.0,2277237237237237.5,2261771771771772.0,2246306306306306.5,2229324332105619.0,2212282282282282.5,2198703854330887.2,2184444444444444.5,2168978978978979.0,2153123872842799.8,2138048048048048.2,2122582582582582.8,2107117117117117.2,2091651651651651.8,2079236656383641.2,2063813813813813.8,2050461391556591.5,2035975975975976.0,2022038705527162.5,2008138138138138.2,1993826143570711.5,1980300300300300.5,1967927927927928.0,1954073158372328.0,1940090090090090.2,1927717717717717.8,1915345345345345.5,1902255112486712.5,1888441398528988.5,1876274127651013.5,1862762762762762.8,1851033427644672.5,1838896116056237.2,1825645645645645.8,1813273273273273.5,1800900900900901.0,1788534715081577.2,1778192439129154.5,1766876876876877.0,1754504504504504.5,1744325951750662.8,1732852852852853.0,1722584695231201.8,1711201201201201.2,1701326889218297.8,1689549549549549.8,1680270270270270.2,1670990990990991.0,1661711711711711.8,1649940911002761.8,1640060060060060.2,1630763035764760.0,1622024483364692.5,1615033641444638.5,1606036036036036.0,1596869872515182.8,1590570570570570.8,1582302403211178.8,1575105105105105.5,1567542253468084.0,1560984902007409.5,1554900259799775.5,1548829659647602.5,1543254678211170.0,1539238164346158.0,1534894894894895.0,1530517165194633.8,1526973178176355.8,1523661317803931.5,1520352828288373.8,1518018459269018.0,1516043441220690.2,1513981699857636.2,1512916427935103.0,1512068713745319.0,1511195508605263.0,1510752026137079.0,1510373194682575.8,1510061156256161.8,1509854467751896.5,1509655777806438.8',\n",
              " '1025520294235367.8,1027627627627627.8,1028234073276310.5,1028737856231362.2,1029137418827033.2,1028159164036354.2,1026772823644964.0,1024528858771335.6,1023288936203947.5,1021896774541350.0,1020029003998614.5,1016959467878705.8,1013859326480410.6,1010822376785948.2,1007536356531886.5,1003285470868698.4,999780954448312.8,995575534743847.6,991277807231216.4,986837273467278.8,981364058003389.2,976803045116814.4,971951951951952.0,966636851727121.5,961173417584696.5,955656871123246.8,948907857706828.5,943557556639598.2,937927927927928.0,931792481806409.4,925555555555555.5,919002731970954.9,912787042074879.1,906996996996997.1,900497913329617.4,893830858267394.0,886739260640987.2,879229892979313.6,872972972972972.9,864683859368752.1,857507507507507.5,849668836775331.1,842042042042042.1,834435332066677.6,826576576576576.6,818493656721160.0,810767569067573.5,801831831831832.0,792813347372881.2,784833693286351.9,776601093009587.0,767807807807807.9,758528528528528.6,749249249249249.2,740281894722799.2,730690690690690.8,721411411411411.5,712889175100433.0,704931700549152.5,695389462549796.5,684294294294294.4,675015015015015.0,664862485453438.2,653761766509308.1,644084084084084.1,632890829305246.4,622432432432432.5,610838035194702.1,600780780780780.9,588688984104692.4,577876556880451.8,565980267182913.2,554152861890497.56,542012012012012.1,531820527937712.75,520360360360360.4,504894894894894.9,492522522522522.6,478581507841016.1,464684684684684.7,451380442980942.1,436846846846846.9,424302222238740.06,409009009009009.0,393543543543543.56,378078078078078.1,362612612612612.6,347147147147147.2,328588588588588.6,311553593674674.1,294564564564564.56,276006006006006.0,257447447447447.47,238888888888888.94,220330330330330.38,201771771771771.78,180120120120120.12,161561561561561.56,139909909909909.92,118258258258258.28,96606606606606.61,74954954954954.97,56396396396396.4,34744744744744.746,13093093093093.094')"
            ]
          },
          "metadata": {},
          "execution_count": 57
        }
      ],
      "source": [
        "find_rhos(7)"
      ]
    },
    {
      "cell_type": "code",
      "execution_count": 58,
      "metadata": {
        "id": "RWIWK9SnrB30",
        "colab": {
          "base_uri": "https://localhost:8080/"
        },
        "outputId": "5b35cd9e-a519-490f-9805-f618c8e2d993"
      },
      "outputs": [
        {
          "output_type": "stream",
          "name": "stdout",
          "text": [
            "Calculate properties of sly stars\n",
            "Start at central density 2.7412012012e+15 g/cm^3\n",
            "Done at central density 1.50965577781e+15 g/cm^3\n",
            "Save to /content/macro_contour_mb7sly.csv\n"
          ]
        }
      ],
      "source": [
        "# calculate neutron star observables for a given equation of state\n",
        "\n",
        "%%bash -s '$find_rhos.newrhocs_list' '$find_rhos.newrhocdms_list'\n",
        "# this cell is a separate terminal instance\n",
        "\n",
        "export PATH=$PATH:/opt/bin # the code doesn't need to be reinstalled in each terminal, but we do need to point to the install directory like this each time\n",
        "export PYTHONPATH=$PYTHONPATH:/opt/lib/python2.7/site-packages\n",
        "\n",
        "getnsprops sly.csv -p R,M,Rdm,Mdm,Mb,Md -d /content/ns-struc-dm/ -o /content/ -v -t macro_contour_mb7 -r $1 -n 4 -R $2 # call the executable that computes the neutron star observables\n",
        "# getnsprops [eos table] -p [observables to calculate] -m [mass range to calculate them for] \n",
        "#-d [directory where the eos table lives] -o [directory where the table of observables should be output]"
      ]
    },
    {
      "cell_type": "code",
      "execution_count": 58,
      "metadata": {
        "id": "qTtuY59JrOtq"
      },
      "outputs": [],
      "source": [
        ""
      ]
    },
    {
      "cell_type": "code",
      "execution_count": 59,
      "metadata": {
        "id": "u7SGQZ8feZuy"
      },
      "outputs": [],
      "source": [
        "data_con_mb0 = np.genfromtxt('/content/macro_contour_mb0sly.csv',delimiter=',',names=True,dtype=None)\n",
        "data_con_mb1 = np.genfromtxt('/content/macro_contour_mb1sly.csv',delimiter=',',names=True,dtype=None)\n",
        "data_con_mb2 = np.genfromtxt('/content/macro_contour_mb2sly.csv',delimiter=',',names=True,dtype=None)\n",
        "data_con_mb3 = np.genfromtxt('/content/macro_contour_mb3sly.csv',delimiter=',',names=True,dtype=None)\n",
        "data_con_mb4 = np.genfromtxt('/content/macro_contour_mb4sly.csv',delimiter=',',names=True,dtype=None)\n",
        "data_con_mb5 = np.genfromtxt('/content/macro_contour_mb5sly.csv',delimiter=',',names=True,dtype=None)\n",
        "data_con_mb6 = np.genfromtxt('/content/macro_contour_mb6sly.csv',delimiter=',',names=True,dtype=None)\n",
        "data_con_mb7 = np.genfromtxt('/content/macro_contour_mb7sly.csv',delimiter=',',names=True,dtype=None)\n"
      ]
    },
    {
      "cell_type": "code",
      "execution_count": 60,
      "metadata": {
        "id": "MUTXh6wMe35g",
        "colab": {
          "base_uri": "https://localhost:8080/",
          "height": 289
        },
        "outputId": "e67d3c1d-a305-42ec-84dd-fcb2f9cd9365"
      },
      "outputs": [
        {
          "output_type": "display_data",
          "data": {
            "text/plain": [
              "<Figure size 432x288 with 1 Axes>"
            ],
            "image/png": "[encoded data removed]"
          },
          "metadata": {
            "needs_background": "light"
          }
        }
      ],
      "source": [
        "# plot the interpolated Mb and Md functions\n",
        "\n",
        "plt.pcolormesh(x_grid,y_grid,outdat,cmap='gray_r') # show Mb(rhoc,rhocdm) as a color map (darker = larger Mb)\n",
        "#plt.pcolormesh(x_grid,y_grid,outdat,cmap='gray_r') # show Md(rhoc,rhocdm) as a color map (darker = larger Mb) -- but can't seem to show two colormaps at once\n",
        "\n",
        "num_cs = 11\n",
        "# cs = plt.contour(x_grid,y_grid,outdat,list(np.linspace(1.,3.,num_cs)),colors='r') # plot the contours of constant Mb(rhoc,rhocdm)\n",
        "cs_dm = plt.contour(x_grid,y_grid,outdat_dm,list(np.linspace(1.,3.,num_cs)),colors='g') # plot the contours of constant Md(rhoc,rhocdm)\n"
      ]
    },
    {
      "cell_type": "code",
      "execution_count": 61,
      "metadata": {
        "id": "BgbKf_dwrqrR"
      },
      "outputs": [],
      "source": [
        "contours_dm = []\n",
        "for i in range(num_cs+1):\n",
        "  try: c = cs_dm.allsegs[i][0] # if a contour was plotted, save it\n",
        "  except: continue\n",
        "  contours_dm += [c] # list that stores all the extracted contours\n"
      ]
    },
    {
      "cell_type": "code",
      "execution_count": 62,
      "metadata": {
        "id": "x4EF63Xgt6SV"
      },
      "outputs": [],
      "source": [
        "# downsample the contours to get a list of (rhoc,rhocdm) coordinates to use to generate a constant-fdm sequence of stars\n",
        "\n",
        "num_stars = 100 # how many stars to aim for in the sequence\n",
        "rhocs, rhocdms = [], []\n",
        "\n",
        "for c in contours_dm:\n",
        "  \n",
        "  skip = int(len(c[:,0])/num_stars)\n",
        "  rhocs += [c[::skip,0]]\n",
        "  rhocdms += [c[::skip,1]] # downselect to num_stars (rhoc,rhocdm) points\n",
        "\n",
        "\n",
        "rhomin = 2.8e14 # because some central densities are too small to give physical neutron stars, throw out those below rhomin\n",
        "rhomax = 12*rhomin # because some central densities are too large to give physical neutron stars, throw out those above rhomax\n",
        "rhocs_out, rhocdms_out = [], []\n",
        "\n",
        "for c,cdm in zip(rhocs,rhocdms):\n",
        "  c_out, cdm_out = [], []\n",
        "\n",
        "  for rhoc,rhocdm in zip(c,cdm):\n",
        "    \n",
        "    if (rhoc >= rhomin or rhocdm >= rhomin) and rhoc <= rhomax and rhocdm <=rhomax: # one of rhoc/rhocdm below rhomin is ok, to allow pure regular matter or pure dm star\n",
        "      c_out += [rhoc]\n",
        "      cdm_out += [rhocdm]\n",
        "  rhocs_out += [c_out]\n",
        "  rhocdms_out += [cdm_out]"
      ]
    },
    {
      "cell_type": "code",
      "execution_count": 63,
      "metadata": {
        "id": "NpnBMQvcuRW8",
        "colab": {
          "base_uri": "https://localhost:8080/"
        },
        "outputId": "127a93fc-bd33-4a3e-b57d-f2055ce146b4"
      },
      "outputs": [
        {
          "output_type": "execute_result",
          "data": {
            "text/plain": [
              "('10000000000000.0,54776679163095.53,99699699699699.69,139909909909909.92,181581050475287.28,219592815925718.5,254354354354354.38,291471471471471.5,325495495495495.5,356426426426426.44,387357357357357.4,418288288288288.3,446126126126126.1,477057057057057.06,504894894894894.94,532732732732732.75,560570570570570.6,588408408408408.5,616246246246246.2,643640614619355.2,670657260077619.8,696666666666666.8,724504504504504.5,749249249249249.2,777087087087087.1,802857295369761.9,829669669669669.8,857507507507507.5,882252252252252.2,909969878149010.8,934834834834834.9,960654643848340.8,987417417417417.5,1012162162162162.2,1038513973884245.6,1064744744744744.8,1090035093640874.5,1115751052999025.5,1142072072072072.2,1166816816816817.0,1192075090211740.5,1218191496542511.5,1243647728649674.5,1268888888888889.0,1293633633633633.8,1318378378378378.5,1343123123123123.5,1369191934277265.5,1392612612612612.8,1418157942460757.8,1442359502730336.8,1466846846846847.0,1491591591591591.8,1516336336336336.5,1541081081081081.0,1565825825825826.0,1589933392148207.0,1614259246185845.5,1636966966966967.0,1661711711711711.8,1686456456456456.5,1709847508175637.5,1733122524657087.8,1757570496869388.2,1780299129517760.2,1803993993993994.0,1827769084079362.0,1850390390390390.5,1875029630929499.5,1897141577997485.5,1921078000596143.2,1943183183183183.2,1966460043297344.2,1989579579579579.5,2012454975558713.0,2035975975975976.0,2057627627627627.8,2081080893266577.8,2103367194665030.0,2125675675675676.0,2147327327327327.5,2170535469414546.8,2193434736697881.5,2215375375375375.5,2237027027027027.5,2258678678678679.0,2280376047332608.5,2302635269917169.0,2324912276946731.0,2347119550034398.5,2369330954983142.5,2391248914761631.0,2412677478661621.5,2434122466931032.5,2455517564529341.5,2477405565541133.0,2498304453031501.0,2519866592581357.0,2540931920116114.0,2561801801801802.0,2583453453453453.5',\n",
              " '673308377046742.8,675015015015015.0,677787230014581.5,681766994921235.4,687387387387387.4,696666666666666.8,706791635816806.1,718136149005668.9,730288775174301.9,743080387686206.2,759302900256641.2,776700969746448.5,792992364123396.8,810773911866488.0,827788836180912.8,845585242163609.0,865397370332167.2,884913911967164.0,903578825111256.4,922462462462462.5,941021021021021.1,959709878963586.9,980796867912357.5,999903808173058.8,1020158468206618.4,1040000000000000.0,1059965765013791.8,1080028392301891.4,1099332234071036.2,1120420420420420.5,1141075467264511.0,1160630630630630.8,1182052763774350.8,1201788242863156.5,1222492492492492.5,1242591388437257.0,1262702702702702.8,1284354354354354.5,1304345203036446.5,1326043232385899.0,1346216216216216.2,1367867867867868.0,1389519519519519.5,1410893139122628.5,1431084925528795.5,1451782903283525.5,1473492540890955.5,1494684684684684.8,1516474486332878.5,1537987987987987.8,1559639639639639.8,1582219522546219.8,1603904453818557.8,1625571771258863.5,1647898968182563.2,1670701402988457.2,1692642642642643.0,1714294294294294.5,1736548831043074.8,1758637336904921.5,1782009399723928.0,1803993993993994.0,1825645645645645.8,1850390390390390.5,1872042042042042.0,1895509648984633.5,1918438438438438.5,1940549424439585.2,1964834834834835.0,1986486486486486.5,2011231231231231.2,2033763648332277.0,2057627627627627.8,2081283340546261.5,2104024024024024.5,2128402138132904.5,2150933020311141.0,2175165165165165.2,2199909909909910.0,2223483941498551.8,2246760315490152.8,2271051051051051.0,2295795795795796.0,2319515850365287.5,2343163721081579.5,2367497285532413.5,2391681681681682.0,2416426426426426.5,2441171171171171.5,2465915915915916.0,2490660660660661.0,2515405405405405.5,2540150150150150.5,2564894894894895.0,2589639639639640.0,2614384384384384.5,2639129129129129.0,2663873873873874.0,2688618618618619.0,2713612121410185.0,2739244768563661.5')"
            ]
          },
          "metadata": {},
          "execution_count": 63
        }
      ],
      "source": [
        "find_rhos(0)"
      ]
    },
    {
      "cell_type": "code",
      "execution_count": 64,
      "metadata": {
        "id": "oGEF7fekuT3v",
        "colab": {
          "base_uri": "https://localhost:8080/"
        },
        "outputId": "1b95d20a-8a2c-4624-cdb1-d248f03ad06a"
      },
      "outputs": [
        {
          "output_type": "stream",
          "name": "stdout",
          "text": [
            "Calculate properties of sly stars\n",
            "Start at central density 1e+13 g/cm^3\n",
            "Done at central density 2.58345345345e+15 g/cm^3\n",
            "Save to /content/macro_contour_md0sly.csv\n"
          ]
        }
      ],
      "source": [
        "# calculate neutron star observables for a given equation of state\n",
        "\n",
        "%%bash -s '$find_rhos.newrhocs_list' '$find_rhos.newrhocdms_list'\n",
        "# this cell is a separate terminal instance\n",
        "\n",
        "export PATH=$PATH:/opt/bin # the code doesn't need to be reinstalled in each terminal, but we do need to point to the install directory like this each time\n",
        "export PYTHONPATH=$PYTHONPATH:/opt/lib/python2.7/site-packages\n",
        "\n",
        "getnsprops sly.csv -p R,M,Rdm,Mdm,Mb,Md -d /content/ns-struc-dm/ -o /content/ -v -t macro_contour_md0 -r $1 -n 4 -R $2 # call the executable that computes the neutron star observables\n",
        "# getnsprops [eos table] -p [observables to calculate] -m [mass range to calculate them for] \n",
        "#-d [directory where the eos table lives] -o [directory where the table of observables should be output]"
      ]
    },
    {
      "cell_type": "code",
      "execution_count": 65,
      "metadata": {
        "id": "Z65BxdoFu22P",
        "colab": {
          "base_uri": "https://localhost:8080/"
        },
        "outputId": "c9fb35c2-b84a-411e-fabd-80a6242c4a92"
      },
      "outputs": [
        {
          "output_type": "execute_result",
          "data": {
            "text/plain": [
              "('10000000000000.0,53303303303303.305,93513513513513.52,133723723723723.73,173933933933933.94,210723549404778.62,245075075075075.1,279099099099099.12,310030030030030.06,344054054054054.06,371891891891891.94,399729729729729.75,427900096147588.9,455439885849469.25,483243243243243.25,511081081081081.1,537783476675166.2,563663663663663.8,588408408408408.5,613153153153153.1,637897897897897.9,662651810757768.4,687689054037189.5,712132132132132.1,736876876876876.9,761621621621621.6,786366366366366.4,809447470220094.9,832762762762762.8,857507507507507.5,881304375821993.4,903903903903904.0,928160458087387.2,950300300300300.4,975045045045045.0,998521663249403.5,1021441441441441.5,1044361300823149.1,1067837837837838.0,1089489489489489.5,1113420365012685.2,1135885885885886.0,1158362455510469.0,1182282282282282.2,1203933933933934.0,1226096442583246.0,1249209233707048.8,1271802915981388.2,1293633633633633.8,1315285285285285.2,1337258243501662.0,1360981757884355.0,1382867652200192.0,1404311255136674.5,1426136278502426.5,1447926887100034.2,1469240182116940.2,1491339749028984.8,1512784124864944.8,1534231768063281.2,1555757089389559.2,1576040248394791.2,1596769425690385.5,1618408408408408.5,1640060060060060.2,1661711711711712.0,1681888340332678.0,1702536823790545.5,1723573573573573.8,1744512730619063.0,1764173312405257.5,1785435435435435.5,1805712328965783.0,1825646969616644.2,1847297297297297.5,1866838160836877.5,1887507507507507.5,1907470744528010.2,1927717717717717.5,1947295965076113.0,1967927927927928.0,1986494528123529.2,2008138138138138.5,2026696696696696.5,2046618564011138.5,2066906906906907.0,2085465465465465.5,2104781241538780.5,2125411711253969.0,2144234234234234.2,2162792792792793.0,2182548832975238.2,2202121144486375.0,2221561561561561.8,2240120120120120.2,2258678678678679.0,2277329314905348.5,2296876250184787.5,2315648818517385.0,2334160474081005.0,2353385133384047.5',\n",
              " '752941461885429.5,754172831639416.8,756015735992051.0,758797598317572.4,762897211100507.9,770900900900901.0,778651135448611.0,788562228609333.8,799294051820115.5,810600607457750.2,824513547036024.8,839270013676311.2,854414414414414.5,869879879879879.9,886293836934310.5,902813849640915.1,919369369369369.4,937583107108813.5,955316519968399.8,973049013256972.1,990791605837248.5,1009069069069069.1,1027627627627627.6,1046363856725893.0,1066209563383664.5,1085828726386472.5,1104821509031136.6,1123513513513513.5,1142414742968757.0,1162381390164259.8,1182282282282282.2,1201676387185848.5,1222492492492492.5,1241212650028223.0,1261877020302737.2,1281261261261261.2,1301350301366209.5,1321471471471471.5,1342124855145712.8,1361930086250148.2,1383333333333333.5,1403243301137212.0,1423543543543543.5,1444847138705276.0,1464205279536694.2,1485405405405405.2,1507057057057057.2,1528708708708708.8,1548994617463602.5,1569277657344353.0,1590570570570571.0,1612222222222222.5,1633873873873874.0,1655525525525525.5,1677177177177177.2,1698828828828829.0,1720480480480480.5,1742132132132132.2,1763783783783784.0,1785435435435435.5,1807087087087087.2,1828738738738738.8,1850390390390390.5,1873224731018309.5,1896011267739085.2,1918330424844495.5,1940090090090090.2,1961741741741741.8,1984557953242051.0,2008138138138138.2,2029789789789790.0,2053032644711951.0,2076186186186186.5,2097837837837838.0,2121623684540691.0,2144234234234234.2,2167431521447549.0,2190630630630630.8,2214800791885141.8,2237027027027027.5,2261288694708024.5,2283423423423423.5,2308097449172339.5,2330360618535154.5,2354564564564564.5,2378896453816689.0,2401948866927106.5,2425705705705706.0,2450450450450450.5,2474104558086178.0,2497052382665819.5,2521591591591591.5,2546336336336336.5,2570912023673129.0,2594439212654505.0,2617954012279084.5,2642222222222222.5,2666966966966967.0,2691711711711712.0,2716456456456456.5,2741201201201201.5')"
            ]
          },
          "metadata": {},
          "execution_count": 65
        }
      ],
      "source": [
        "find_rhos(1)"
      ]
    },
    {
      "cell_type": "code",
      "execution_count": 66,
      "metadata": {
        "id": "P09gBjPvu5u2",
        "colab": {
          "base_uri": "https://localhost:8080/"
        },
        "outputId": "491fc86f-1737-4533-d52e-6f043f4707d1"
      },
      "outputs": [
        {
          "output_type": "stream",
          "name": "stdout",
          "text": [
            "Calculate properties of sly stars\n",
            "Start at central density 1e+13 g/cm^3\n",
            "Done at central density 2.35338513338e+15 g/cm^3\n",
            "Save to /content/macro_contour_md1sly.csv\n"
          ]
        }
      ],
      "source": [
        "# calculate neutron star observables for a given equation of state\n",
        "\n",
        "%%bash -s '$find_rhos.newrhocs_list' '$find_rhos.newrhocdms_list'\n",
        "# this cell is a separate terminal instance\n",
        "\n",
        "export PATH=$PATH:/opt/bin # the code doesn't need to be reinstalled in each terminal, but we do need to point to the install directory like this each time\n",
        "export PYTHONPATH=$PYTHONPATH:/opt/lib/python2.7/site-packages\n",
        "\n",
        "getnsprops sly.csv -p R,M,Rdm,Mdm,Mb,Md -d /content/ns-struc-dm/ -o /content/ -v -t macro_contour_md1 -r $1 -n 4 -R $2 # call the executable that computes the neutron star observables\n",
        "# getnsprops [eos table] -p [observables to calculate] -m [mass range to calculate them for] \n",
        "#-d [directory where the eos table lives] -o [directory where the table of observables should be output]"
      ]
    },
    {
      "cell_type": "code",
      "execution_count": 67,
      "metadata": {
        "id": "k1yuGjmNu9KH",
        "colab": {
          "base_uri": "https://localhost:8080/"
        },
        "outputId": "7bac8950-8cc9-4ccf-b3ec-e5b608e38e07"
      },
      "outputs": [
        {
          "output_type": "execute_result",
          "data": {
            "text/plain": [
              "('10000000000000.0,50210210210210.21,87327327327327.33,124444444444444.45,161561561561561.56,198678678678678.7,232702702702702.7,263633633633633.66,294564564564564.56,325495495495495.5,356426426426426.44,381171171171171.2,409009009009009.0,436846846846846.9,461591591591591.6,486336336336336.4,512660767443192.75,536903763550974.0,560570570570570.56,583600441090873.8,606966966966967.0,630458427713816.4,653363363363363.4,676273921070559.6,699759759759759.8,721411411411411.5,743063063063063.1,764714714714714.8,786366366366366.5,808018018018018.0,829669669669669.8,851321321321321.4,872972972972973.0,894624624624624.6,916276276276276.4,936794578773720.8,957389439833147.6,978138138138138.2,999789789789789.9,1020935435389811.2,1040510185089391.8,1061651651651651.8,1082644346459307.5,1101861861861861.8,1123104168824641.6,1142072072072072.2,1163546666381547.8,1182282282282282.2,1203933933933934.0,1222492492492492.5,1243589023514156.0,1262702702702702.8,1281261771072855.8,1302058048803870.0,1321471471471471.5,1340030030030030.0,1360728541533979.0,1380240240240240.5,1398798798798798.8,1417536124384925.0,1436775324255680.2,1455597208710691.8,1475280264000097.5,1494573035958396.8,1513243243243243.2,1531801801801802.0,1550360360360360.5,1568918918918919.0,1587477477477477.5,1606036036036036.0,1624566507188872.5,1642623208760083.8,1661056796499358.5,1679111690876286.0,1696717404182019.0,1714575814315163.0,1732852852852853.0,1751273605613273.0,1768675272180370.0,1785637594349233.5,1803993993993994.0,1822212969968764.2,1839123534198302.2,1856576576576576.8,1874792087267383.5,1891142138083342.8,1909159159159159.2,1925698664425352.5,1943183183183183.5,1960453830980390.0,1977207207207207.2,1994523062081007.8,2011231231231231.2,2028097800429886.0,2045255255255255.0,2061420798610057.0,2079055407671897.8,2094744744744744.5,2111445419240444.8,2128423037767485.5,2144234234234234.2',\n",
              " '837863839921160.2,838887969759906.5,840437263873568.8,842339162342559.2,845601914676077.1,850852075072454.9,857314508512572.0,865204437436756.5,873413658036876.9,883357418606521.2,894550692485982.9,907093091708120.6,919473530759483.1,934117928160277.1,947726122639076.9,962990312608782.8,978138138138138.2,993603603603603.6,1010833915427252.9,1027627627627627.6,1044724978377863.5,1061651651651651.8,1078768600606686.2,1095675675675675.8,1112901531457262.0,1131213525587782.5,1149582287503765.2,1167835080337998.2,1186188929346376.8,1204542778354755.5,1222760810254283.5,1241309021424263.2,1259906201151147.5,1278963217209521.5,1299388228381275.0,1318378378378378.5,1336936936936937.0,1356331046304578.0,1376229122906608.8,1395705705705705.8,1414264264264264.2,1434302377453880.5,1454474474474474.5,1473928005910094.0,1494684684684684.8,1513284252598011.8,1534894894894895.0,1553479087498969.5,1574892679566173.5,1594048078643682.5,1615315315315315.5,1635265783431942.5,1655525525525525.5,1677177177177177.0,1697489375351781.5,1717450836180670.2,1739039039039039.2,1760219774387772.8,1780664007504276.5,1800900900900901.0,1822552552552552.5,1844204204204204.0,1865855855855856.0,1887507507507507.5,1908746250918134.8,1929573304012681.5,1950974661648267.5,1972681059232325.0,1994470799847236.8,2016632136881427.0,2039069069069069.2,2060720720720720.8,2082372372372372.5,2104024024024024.2,2125675675675675.8,2147327327327327.5,2170149726405273.0,2193723723723724.0,2215375375375375.5,2237027027027027.2,2260537171742312.0,2283423423423423.5,2305075075075075.0,2327413026962244.0,2351471471471471.5,2373123123123123.5,2397121078697493.0,2419519519519519.5,2442460330322983.0,2465915915915916.0,2488974208752206.5,2512312312312312.5,2535394211520066.0,2558708708708709.0,2582672534312096.5,2605105105105105.0,2629849849849850.0,2652623268073052.0,2676246246246246.5,2700990990990991.0,2724165573034268.5')"
            ]
          },
          "metadata": {},
          "execution_count": 67
        }
      ],
      "source": [
        "find_rhos(2)"
      ]
    },
    {
      "cell_type": "code",
      "execution_count": 68,
      "metadata": {
        "id": "3dympJyTu_E1",
        "colab": {
          "base_uri": "https://localhost:8080/"
        },
        "outputId": "054106d5-e27a-4c63-ef35-9850c73c271b"
      },
      "outputs": [
        {
          "output_type": "stream",
          "name": "stdout",
          "text": [
            "Calculate properties of sly stars\n",
            "Start at central density 1e+13 g/cm^3\n",
            "Done at central density 2.14423423423e+15 g/cm^3\n",
            "Save to /content/macro_contour_md2sly.csv\n"
          ]
        }
      ],
      "source": [
        "# calculate neutron star observables for a given equation of state\n",
        "\n",
        "%%bash -s '$find_rhos.newrhocs_list' '$find_rhos.newrhocdms_list'\n",
        "# this cell is a separate terminal instance\n",
        "\n",
        "export PATH=$PATH:/opt/bin # the code doesn't need to be reinstalled in each terminal, but we do need to point to the install directory like this each time\n",
        "export PYTHONPATH=$PYTHONPATH:/opt/lib/python2.7/site-packages\n",
        "\n",
        "getnsprops sly.csv -p R,M,Rdm,Mdm,Mb,Md -d /content/ns-struc-dm/ -o /content/ -v -t macro_contour_md2 -r $1 -n 4 -R $2 # call the executable that computes the neutron star observables\n",
        "# getnsprops [eos table] -p [observables to calculate] -m [mass range to calculate them for] \n",
        "#-d [directory where the eos table lives] -o [directory where the table of observables should be output]"
      ]
    },
    {
      "cell_type": "code",
      "execution_count": 69,
      "metadata": {
        "id": "kNbInVluvw4z",
        "colab": {
          "base_uri": "https://localhost:8080/"
        },
        "outputId": "d1785de9-8b35-4827-fcc3-c8f4db91e6a3"
      },
      "outputs": [
        {
          "output_type": "execute_result",
          "data": {
            "text/plain": [
              "('10000000000000.0,47117117117117.12,81141141141141.14,118258258258258.27,152282282282282.28,186306306306306.3,217237237237237.25,248168168168168.2,279099099099099.12,306936936936936.94,336517722902133.1,362612612612612.6,388782834278800.5,414435675738119.4,438173472608041.6,461591591591591.6,486336336336336.44,509469150575461.75,532732732732732.75,554384384384384.4,576036036036036.1,597687687687687.8,618172986299275.2,640177284970007.8,660314113164895.1,681201201201201.2,702852852852852.9,721411411411411.5,741368339379940.2,761621621621621.8,780594760102722.9,801831831831831.9,820390390390390.2,839168602831489.2,860275816123245.4,879159159159159.2,897717717717717.8,916276276276276.4,934834834834834.9,953393393393393.5,971951951951952.0,990510510510510.6,1009069069069069.1,1027627627627627.6,1046186186186186.2,1064744744744744.8,1082584157212262.0,1100089018030785.5,1117327327327327.4,1135885885885886.0,1154444444444444.5,1171697523543551.8,1188518886353316.5,1207027027027027.0,1224199543221509.2,1241051051051051.0,1259411752361493.0,1275104931569013.5,1293633633633633.8,1309960721602645.0,1327657657657657.8,1343573096642713.5,1361502243928893.5,1377147147147147.2,1394818440270201.8,1411171171171171.0,1426818276323212.8,1444486586673926.5,1460660660660660.8,1476126126126126.0,1492992458478724.0,1509534273244748.2,1525615615615616.0,1541081081081081.2,1557197701060612.2,1573434444574022.5,1589584917105109.5,1605306277065059.5,1620956799716172.0,1636468092328329.2,1652432432432432.5,1667897897897898.0,1683363363363363.5,1698828828828828.8,1714215162831806.8,1728798030837857.8,1743928608753240.5,1758590919265653.5,1773137579175792.2,1788528528528528.8,1803993993993994.0,1818965223388660.2,1833642598508917.2,1847804263476043.8,1862762762762762.8,1877685445155069.5,1891544543416078.0,1906066066066066.2,1920989037619970.5,1934784161855031.8,1949369369369369.5,1962939279090381.0',\n",
              " '927472284213708.5,928183998276603.6,929207283980505.0,930501287742230.5,932928376424522.0,936434672344470.0,941631182829263.0,948093957772987.6,955604272588269.5,963276110333663.5,971951951951952.0,981500585429439.6,993603603603603.6,1005975975975976.0,1018348348348348.2,1030994206614189.4,1045363922417592.0,1058558558558558.6,1072990136334586.8,1088063818173833.8,1103137500013080.9,1119721136270622.5,1135885885885886.0,1151351351351351.5,1166816816816817.0,1183414414441854.5,1200826916743699.5,1216887663247857.8,1234864864864865.0,1252196389754229.2,1268888888888889.0,1286767795878241.0,1303813502771822.2,1321471471471471.5,1340030030030030.0,1357831664424767.8,1375947767711475.0,1394063870998182.5,1412541268600669.0,1431025486491055.0,1448675645791018.5,1466888253339175.8,1486248174887507.0,1504994524750703.5,1523838669067036.0,1543850414609959.5,1562732732732732.8,1581291291291291.5,1599863571794643.8,1619425724393450.8,1639575696803926.2,1658618618618618.8,1677177177177177.2,1697802201421818.5,1717387387387387.5,1736665020593960.5,1757597597597597.5,1776156156156156.2,1797606872603019.5,1816366366366366.5,1837551626604561.0,1856576576576576.8,1878228228228228.2,1897430400880847.5,1918438438438438.5,1938796413385651.0,1958648648648648.8,1980300300300300.5,2001360874754345.5,2021158852507747.5,2042162162162162.2,2063813813813814.0,2084418705686289.2,2104182118213957.8,2125675675675675.5,2147327327327327.5,2168978978978979.0,2190630630630630.8,2212282282282282.5,2233933933933934.0,2255535044577264.5,2276606039794852.5,2298657719665390.0,2320247731764382.0,2342192192192192.5,2363843843843844.0,2385495495495495.5,2407147147147148.0,2428798798798799.0,2450801952786128.0,2474412247958432.0,2496846846846847.0,2518498498498498.5,2540150150150150.5,2563049709189441.0,2586546546546546.5,2608198198198198.5,2630626069666982.0,2654594594594594.5,2676246246246246.5,2700404179409928.0,2722642642642643.0')"
            ]
          },
          "metadata": {},
          "execution_count": 69
        }
      ],
      "source": [
        "find_rhos(3)"
      ]
    },
    {
      "cell_type": "code",
      "execution_count": 70,
      "metadata": {
        "id": "X9gNmP1Av98o",
        "colab": {
          "base_uri": "https://localhost:8080/"
        },
        "outputId": "f0d19e95-f7f1-4530-b836-bf8e51d31069"
      },
      "outputs": [
        {
          "output_type": "stream",
          "name": "stdout",
          "text": [
            "Calculate properties of sly stars\n",
            "Start at central density 1e+13 g/cm^3\n",
            "Done at central density 1.96293927909e+15 g/cm^3\n",
            "Save to /content/macro_contour_md3sly.csv\n"
          ]
        }
      ],
      "source": [
        "# calculate neutron star observables for a given equation of state\n",
        "\n",
        "%%bash -s '$find_rhos.newrhocs_list' '$find_rhos.newrhocdms_list'\n",
        "# this cell is a separate terminal instance\n",
        "\n",
        "export PATH=$PATH:/opt/bin # the code doesn't need to be reinstalled in each terminal, but we do need to point to the install directory like this each time\n",
        "export PYTHONPATH=$PYTHONPATH:/opt/lib/python2.7/site-packages\n",
        "\n",
        "getnsprops sly.csv -p R,M,Rdm,Mdm,Mb,Md -d /content/ns-struc-dm/ -o /content/ -v -t macro_contour_md3 -r $1 -n 4 -R $2 # call the executable that computes the neutron star observables\n",
        "# getnsprops [eos table] -p [observables to calculate] -m [mass range to calculate them for] \n",
        "#-d [directory where the eos table lives] -o [directory where the table of observables should be output]"
      ]
    },
    {
      "cell_type": "code",
      "execution_count": 71,
      "metadata": {
        "id": "9FppAMB3wAqw",
        "colab": {
          "base_uri": "https://localhost:8080/"
        },
        "outputId": "2b5ebe4f-c10d-4803-8adf-eb22bd402487"
      },
      "outputs": [
        {
          "output_type": "execute_result",
          "data": {
            "text/plain": [
              "('10000000000000.0,44024024024024.03,74954954954954.97,108978978978978.98,143003003003003.0,173933933933933.94,204864864864864.9,232702702702702.72,260540540540540.56,288724335942578.94,316216216216216.25,344054054054054.1,366749363295954.0,390450450450450.5,415195195195195.2,436846846846846.9,459261475107815.7,480809478934207.8,502150374294019.56,525035927972930.25,545105105105105.1,563663663663663.8,584366221525679.8,603873873873873.9,622432432432432.5,641719782322119.4,659959727446940.4,680779072175641.8,699759759759759.8,716960872953049.8,733802726057244.8,752342342342342.4,769742152510589.2,786366366366366.4,804924924924925.0,823479916482438.9,839527407580080.2,857507507507507.5,874801137283178.2,891310347806530.8,906996996996997.0,923686427487500.0,940925090678715.1,956486486486486.5,972587120921522.1,990443929462249.9,1005975975975976.1,1021441441441441.5,1038261966348629.5,1053967255977887.0,1068989364208999.2,1085435685522401.4,1100855246112683.5,1116131318955413.8,1132158079833207.2,1147787252235272.0,1163080666476214.8,1178221991014475.2,1192949574925861.5,1207304421897534.2,1222592864685743.8,1237957957957958.0,1253423423423423.5,1267806575545763.5,1281555223983200.0,1296726726726726.5,1311814308885419.0,1325926923440707.0,1340030030030030.0,1354864302864103.0,1368586066679675.5,1383333333333333.5,1397364906626223.8,1411171171171171.2,1424318944327958.5,1439009009009009.0,1452339692914616.8,1466528984458135.8,1479296984875594.5,1493962105441828.0,1507057057057057.2,1520859184822741.2,1534876764028829.0,1547267267267267.2,1560410421846762.0,1573661550615817.0,1586672988223510.2,1599849849849850.0,1612222222222222.0,1624764608992865.8,1637795976638910.8,1650310354777110.0,1663871392460675.0,1676525138053772.0,1689066269861352.8,1701480065266797.8,1713190459429689.0,1725812105916014.5,1738208426720903.0,1750012146520552.5,1761914045075661.5,1773107151112350.8,1785435435435435.5',\n",
              " '1029407860156971.2,1029968840565607.1,1030800420585605.6,1031774697824718.5,1033573257333350.5,1035573685507151.5,1039970689540686.5,1043709225576718.1,1049437654923941.9,1055465465465465.5,1062776648675475.6,1070603062027012.6,1080210210210210.2,1090158642332902.6,1100960477117401.5,1111565673052408.9,1123513513513513.6,1135885885885886.0,1148258258258258.2,1160630630630630.8,1175713144870708.2,1190055655904729.2,1203933933933934.0,1218492190557033.0,1232503446657584.2,1247237237237237.0,1262702702702702.8,1278168168168168.2,1293317682424672.5,1309099099099099.2,1324564564564564.8,1341609623344650.8,1358588588588588.8,1374920029733245.0,1391124152202537.0,1408078078078078.2,1423543543543543.5,1440871662301761.0,1457567567567567.8,1476126126126126.2,1493341040833628.0,1510150150150150.5,1528708708708708.8,1546205524457982.8,1562732732732732.8,1581291291291291.5,1599152067952653.8,1616279007099465.2,1633873873873874.0,1652432432432432.5,1670990990990991.0,1689549549549549.8,1708108108108108.2,1726666666666666.8,1745225225225225.2,1763783783783784.0,1782342342342342.5,1800900900900901.0,1819459459459459.5,1838018018018018.0,1856576576576576.8,1876189092400989.5,1896396141837179.0,1915345345345345.5,1933903903903904.0,1954514222560181.5,1974114114114114.2,1992672672672672.8,2012167039520394.5,2032882882882883.0,2051441441441441.5,2072046535089100.5,2091651651651651.8,2111877294360317.5,2131861861861862.0,2152296685343050.5,2172072072072072.2,2193723723723724.0,2212282282282282.5,2233933933933934.0,2253530126951658.0,2274144144144144.0,2295795795795796.0,2315253281613107.5,2336006006006006.0,2357657657657658.0,2379309309309309.5,2400577380534880.5,2421508711925926.0,2441171171171171.5,2462822822822823.0,2484474474474474.5,2506126126126126.5,2527777777777778.0,2549429429429429.5,2571081081081081.0,2592732732732733.0,2614384384384384.5,2636036036036036.0,2657687687687688.0,2679339339339339.5,2700990990990991.0,2724192860948574.0')"
            ]
          },
          "metadata": {},
          "execution_count": 71
        }
      ],
      "source": [
        "find_rhos(4)"
      ]
    },
    {
      "cell_type": "code",
      "execution_count": 72,
      "metadata": {
        "id": "amVsJnktwDj1",
        "colab": {
          "base_uri": "https://localhost:8080/"
        },
        "outputId": "e52213ab-453a-40fb-e43b-dfe045ae956e"
      },
      "outputs": [
        {
          "output_type": "stream",
          "name": "stdout",
          "text": [
            "Calculate properties of sly stars\n",
            "Start at central density 1e+13 g/cm^3\n",
            "Done at central density 1.78543543544e+15 g/cm^3\n",
            "Save to /content/macro_contour_md4sly.csv\n"
          ]
        }
      ],
      "source": [
        "# calculate neutron star observables for a given equation of state\n",
        "\n",
        "%%bash -s '$find_rhos.newrhocs_list' '$find_rhos.newrhocdms_list'\n",
        "# this cell is a separate terminal instance\n",
        "\n",
        "export PATH=$PATH:/opt/bin # the code doesn't need to be reinstalled in each terminal, but we do need to point to the install directory like this each time\n",
        "export PYTHONPATH=$PYTHONPATH:/opt/lib/python2.7/site-packages\n",
        "\n",
        "getnsprops sly.csv -p R,M,Rdm,Mdm,Mb,Md -d /content/ns-struc-dm/ -o /content/ -v -t macro_contour_md4 -r $1 -n 4 -R $2 # call the executable that computes the neutron star observables\n",
        "# getnsprops [eos table] -p [observables to calculate] -m [mass range to calculate them for] \n",
        "#-d [directory where the eos table lives] -o [directory where the table of observables should be output]"
      ]
    },
    {
      "cell_type": "code",
      "execution_count": 73,
      "metadata": {
        "id": "A2kSjPZ5wGqG",
        "colab": {
          "base_uri": "https://localhost:8080/"
        },
        "outputId": "bb5730c2-4d7e-42c0-b4f0-ac52dcf56fd8"
      },
      "outputs": [
        {
          "output_type": "execute_result",
          "data": {
            "text/plain": [
              "('10000000000000.0,40930930930930.94,71861861861861.88,99699699699699.7,130630630630630.62,158468468468468.47,189399399399399.4,216302312790185.7,241981981981982.0,269819819819819.8,294564564564564.6,319309309309309.3,344054054054054.06,365705705705705.75,387357357357357.4,409009009009009.0,430660660660660.7,451852111005707.1,470870870870870.9,489723266437361.94,511081081081081.1,529639639639639.75,548198198198198.25,566756756756756.8,583612542409473.0,600780780780780.9,619339339339339.4,635169871259753.8,652907309731863.6,668828828828828.9,687324292050305.4,702852852852852.9,718318318318318.4,733783783783783.9,750134478922939.8,765563414135224.2,780916070447981.5,796268726760738.6,811307360437001.6,826576576576576.6,842042042042042.1,857507507507507.5,872972972972973.0,886608931481449.2,900810810810810.8,916168973852096.1,928972085742260.0,943819122549769.8,957037256648090.8,971951951951952.0,985820321772396.0,999789789789789.9,1013734136927894.5,1027627627627627.6,1040763160280245.0,1055126041733592.0,1067837837837837.8,1080654765937052.1,1094107656790443.5,1107353887951343.9,1120420420420420.4,1132792792792793.0,1145538094158857.2,1158331376823688.8,1171965261136023.0,1185056499273309.2,1196531215456866.5,1209281697028438.0,1222492492492492.5,1234143810687102.0,1245356434981065.8,1258146232510263.2,1269298994748829.0,1281523617880259.0,1293633633633633.8,1306006006006006.0,1318378378378378.5,1329648755544073.2,1340617442977786.8,1352402402402402.5,1363978558122727.2,1375124910525057.5,1386426426426426.5,1398216170557793.0,1408078078078078.2,1418918066350661.0,1429729729729729.8,1441334143457239.0,1451381381381381.5,1462706048418046.5,1473033033033033.0,1482529964782090.8,1494643623892840.2,1503963963963964.0,1514597026651393.0,1525079907317668.8,1534713130612562.2,1544174174174174.2,1554531902249788.2,1564541059415878.5,1574550392296159.0,1583707171154796.2,1592471381249389.0,1602635906321600.5',\n",
              " '1147031065087160.5,1147455027122162.5,1148052225400155.5,1148721676728119.0,1149927694606726.8,1151367818436795.0,1154344558427745.0,1157537537537537.5,1161326242511949.5,1166392881319535.2,1171514763693206.2,1178370193966220.8,1184781969160716.5,1192504190420322.0,1201376683053786.0,1210871199110500.8,1221499215895196.0,1231771771771771.8,1241789163647671.8,1253423423423423.2,1264830339295387.2,1275269441583016.2,1288672251573845.5,1302568639900865.5,1315285285285285.2,1329429788076713.5,1342876136741348.0,1355495495495495.5,1370960960960961.0,1384545963657763.0,1398798798798798.8,1412553595873936.0,1428701748004469.0,1443192455179095.5,1457567567567567.8,1473033033033033.0,1488498498498498.5,1503963963963964.0,1519429429429429.5,1535157627223857.2,1551440241462669.2,1567722855701481.5,1584294038220420.8,1599849849849850.0,1616179771380331.2,1633873873873874.0,1649339339339339.5,1667897897897898.0,1683363363363363.5,1700579310042150.2,1717387387387387.5,1735024979340299.2,1751411411411411.5,1768900480667928.5,1785435435435435.5,1803993993993994.0,1820671779337487.5,1838018018018018.0,1856576576576576.5,1875135135135135.5,1892979449786850.8,1909921341421573.0,1927717717717718.0,1946276276276276.5,1964834834834835.0,1983393393393393.5,2001951951951952.0,2020510510510510.5,2038888627087672.8,2057627627627627.8,2076186186186186.2,2094744744744744.8,2113303303303303.5,2131861861861862.0,2150676195317223.0,2170445725154754.5,2190502855565642.5,2209189189189189.0,2227747747747747.8,2248727977832728.5,2267957957957958.0,2286516516516516.5,2306196530922133.5,2326726726726727.0,2345420851047626.0,2366936936936937.0,2385881150332069.0,2407147147147147.5,2426053682538365.0,2447357357357357.5,2468244500430521.0,2487567567567567.5,2509219219219219.5,2528001621299981.5,2549429429429429.5,2571081081081081.0,2592732732732733.0,2612217428586492.5,2632942942942943.0,2654594594594594.5,2676246246246246.5,2697897897897898.0,2719549549549549.5,2741201201201201.5')"
            ]
          },
          "metadata": {},
          "execution_count": 73
        }
      ],
      "source": [
        "find_rhos(5)"
      ]
    },
    {
      "cell_type": "code",
      "execution_count": 74,
      "metadata": {
        "id": "ikCzd-ZiwI7Q",
        "colab": {
          "base_uri": "https://localhost:8080/"
        },
        "outputId": "1f299093-7b92-4c77-84ba-0928ec0e3987"
      },
      "outputs": [
        {
          "output_type": "stream",
          "name": "stdout",
          "text": [
            "Calculate properties of sly stars\n",
            "Start at central density 1e+13 g/cm^3\n",
            "Done at central density 1.60263590632e+15 g/cm^3\n",
            "Save to /content/macro_contour_md5sly.csv\n"
          ]
        }
      ],
      "source": [
        "# calculate neutron star observables for a given equation of state\n",
        "\n",
        "%%bash -s '$find_rhos.newrhocs_list' '$find_rhos.newrhocdms_list'\n",
        "# this cell is a separate terminal instance\n",
        "\n",
        "export PATH=$PATH:/opt/bin # the code doesn't need to be reinstalled in each terminal, but we do need to point to the install directory like this each time\n",
        "export PYTHONPATH=$PYTHONPATH:/opt/lib/python2.7/site-packages\n",
        "\n",
        "getnsprops sly.csv -p R,M,Rdm,Mdm,Mb,Md -d /content/ns-struc-dm/ -o /content/ -v -t macro_contour_md5 -r $1 -n 4 -R $2 # call the executable that computes the neutron star observables\n",
        "# getnsprops [eos table] -p [observables to calculate] -m [mass range to calculate them for] \n",
        "#-d [directory where the eos table lives] -o [directory where the table of observables should be output]"
      ]
    },
    {
      "cell_type": "code",
      "execution_count": 75,
      "metadata": {
        "id": "dlg8IrPYwLVF",
        "colab": {
          "base_uri": "https://localhost:8080/"
        },
        "outputId": "ed1d1977-5562-4086-8e0d-29191e78386e"
      },
      "outputs": [
        {
          "output_type": "execute_result",
          "data": {
            "text/plain": [
              "('10000000000000.0,37837837837837.84,65675675675675.68,93513513513513.52,118258258258258.27,146096096096096.12,173933933933933.94,198678678678678.7,223423423423423.47,248168168168168.2,269819819819819.88,294564564564564.56,316216216216216.25,337867867867867.9,359519519519519.56,381171171171171.2,399729729729729.75,418288288288288.3,436965667231548.25,455405405405405.44,473963963963964.0,492522522522522.56,509842214447912.4,526546546546546.56,542984994671636.2,559803235642398.25,576036036036036.1,591501501501501.5,606841134592267.2,621515424008954.0,636187888763870.0,650351879033073.5,665735735735735.8,680608573448587.2,694045724891539.9,709039039039039.1,721411411411411.5,733783783783783.8,749249249249249.2,761780610437804.9,774785514195747.0,787048438451239.4,801583851174469.2,814204204204204.2,826576576576576.8,838948948948949.0,851321321321321.2,864877913203504.4,877001697867599.4,888438438438438.5,900810810810811.0,913183183183183.2,923901409347135.2,935473902430135.0,947207207207207.2,959579579579579.6,970707760280816.5,981588533665119.0,993603603603603.8,1003558546716732.5,1014795964676918.2,1026026475685335.5,1036906906906907.0,1047643342357103.0,1058558558558558.5,1067907705549742.5,1077566043946021.9,1088800634482536.5,1098768768768768.9,1109118540270009.0,1119465095431154.2,1129699699699699.8,1138951877281176.2,1148258258258258.2,1157745417250410.2,1167828581646308.0,1176464054226954.5,1185508700733745.8,1195295070858023.0,1203933933933934.0,1213213213213213.2,1222652582752041.8,1231621767307783.5,1239153655087011.5,1248186241725581.5,1256516516516516.5,1265658894849418.8,1273048703705917.0,1281261261261261.2,1289099785425572.8,1296726726726726.8,1303509794627024.0,1311914044257374.2,1318852932706041.5,1326307551049258.2,1333843843843844.0,1341278752583535.5,1348251185617640.5,1355147347253563.2,1361681681681681.5,1367867867867868.0',\n",
              " '1294814355250149.2,1295167886658786.5,1295604617395422.8,1296264176137193.5,1296826569566273.2,1298154903004079.0,1299576397078063.0,1302529113962950.8,1305342115539063.5,1308832857048776.8,1312623959776663.5,1317501493882899.5,1323017395749925.2,1327828402639801.8,1334260346972833.2,1342833077643165.8,1350573878846025.0,1358880335918053.5,1367867867867868.0,1377176968608632.5,1387489261246032.2,1397558573358127.5,1408078078078078.2,1417636752718571.2,1429729729729729.8,1442102102102102.2,1454043793951187.5,1466314032842106.8,1479219219219219.2,1491591591591591.8,1503963963963964.0,1516336336336336.5,1530479881362302.2,1544174174174174.0,1556546546546547.0,1571413247263864.5,1585603976035347.8,1600187761525774.2,1615167696040795.2,1627687687687687.8,1643153153153153.5,1658618618618618.8,1674084084084084.2,1687160889674181.0,1702661108579819.8,1719114353260992.5,1733490217887835.5,1748318318318318.5,1763783783783783.8,1780581144676560.5,1797002618728583.5,1813148725839676.5,1828738738738738.8,1844204204204204.0,1861004607064058.5,1877876574059832.2,1893693693693693.8,1909159159159159.2,1926541058572175.5,1943183183183183.2,1961741741741741.8,1977207207207207.2,1995170923719921.2,2011231231231231.2,2029098471849096.5,2045255255255255.5,2063813813813814.2,2082372372372372.5,2097938371986709.5,2116396396396396.5,2134954954954955.0,2153310445004845.5,2172072072072072.2,2189815229207275.2,2206096096096096.5,2224654654654655.0,2243213213213213.2,2261771771771772.0,2280330330330330.5,2300086558845504.5,2317665076925887.5,2336006006006006.0,2357657657657658.0,2376216216216216.5,2394774774774775.0,2413739679608847.0,2434984984984985.0,2453543543543543.5,2474197678624689.5,2493753753753754.0,2513676131241655.0,2533963963963964.0,2555615615615616.0,2574174174174174.5,2595825825825826.0,2614986661704256.5,2636036036036036.0,2657687687687688.0,2679339339339339.5,2699644989403529.0,2721155481898020.0')"
            ]
          },
          "metadata": {},
          "execution_count": 75
        }
      ],
      "source": [
        "find_rhos(6)"
      ]
    },
    {
      "cell_type": "code",
      "execution_count": 76,
      "metadata": {
        "id": "TYTIuckIwNem",
        "colab": {
          "base_uri": "https://localhost:8080/"
        },
        "outputId": "9cf554dc-53e9-4cde-d513-95e79f03581a"
      },
      "outputs": [
        {
          "output_type": "stream",
          "name": "stdout",
          "text": [
            "Calculate properties of sly stars\n",
            "Start at central density 1e+13 g/cm^3\n",
            "Done at central density 1.36786786787e+15 g/cm^3\n",
            "Save to /content/macro_contour_md6sly.csv\n"
          ]
        }
      ],
      "source": [
        "# calculate neutron star observables for a given equation of state\n",
        "\n",
        "%%bash -s '$find_rhos.newrhocs_list' '$find_rhos.newrhocdms_list'\n",
        "# this cell is a separate terminal instance\n",
        "\n",
        "export PATH=$PATH:/opt/bin # the code doesn't need to be reinstalled in each terminal, but we do need to point to the install directory like this each time\n",
        "export PYTHONPATH=$PYTHONPATH:/opt/lib/python2.7/site-packages\n",
        "\n",
        "getnsprops sly.csv -p R,M,Rdm,Mdm,Mb,Md -d /content/ns-struc-dm/ -o /content/ -v -t macro_contour_md6 -r $1 -n 4 -R $2 # call the executable that computes the neutron star observables\n",
        "# getnsprops [eos table] -p [observables to calculate] -m [mass range to calculate them for] \n",
        "#-d [directory where the eos table lives] -o [directory where the table of observables should be output]"
      ]
    },
    {
      "cell_type": "code",
      "execution_count": 77,
      "metadata": {
        "id": "42zCwaPCwT8y",
        "colab": {
          "base_uri": "https://localhost:8080/"
        },
        "outputId": "7e788869-6d91-4cac-99f9-7f008ff295d3"
      },
      "outputs": [
        {
          "output_type": "execute_result",
          "data": {
            "text/plain": [
              "('10000000000000.0,31651651651651.65,53303303303303.305,71861861861861.88,93513513513513.52,115165165165165.19,136816816816816.81,158468468468468.47,177027027027027.0,198678678678678.7,217237237237237.25,235795795795795.8,254354354354354.38,272912912912912.94,291471471471471.5,310030030030030.06,326463673976432.4,344054054054054.06,359519519519519.56,374984984984985.0,390450450450450.5,405915915915915.94,421381381381381.4,435097642248700.9,449219219219219.25,464437650518093.25,477057057057057.0,489429429429429.5,503965060408275.9,517267267267267.4,529639639639639.7,541413363563870.25,551291291291291.3,563663663663663.8,576036036036036.1,588408408408408.5,597687687687687.8,608756476207583.2,619339339339339.4,631711711711711.8,642226208632479.5,653363363363363.4,662642642642642.6,673171690751127.0,684265586428712.5,693573573573573.6,703111270433500.6,712132132132132.1,721411411411411.5,730690690690690.8,739969969969970.0,748481633140028.8,757830785056321.2,766218688417972.5,774527032504164.1,783273273273273.2,791389132318991.2,799173078246917.2,808018018018018.0,817297297297297.5,825938055562789.2,832762762762762.8,841204479003328.5,848228228228228.2,855747235278330.1,863668097376740.8,870974766023892.8,878851943723429.4,885345345345345.4,892496152475548.0,899166381806699.5,905836597190589.8,912423122736127.8,918927184910974.5,925431247085821.2,931741741741741.8,937416075879048.4,942533351840605.0,947662915326368.4,954493607821617.2,960066102163312.0,965765765765765.9,971301572821269.1,975398580704144.1,980451883108670.0,985422264311942.8,990510510510510.6,994874660824513.4,999077064075911.2,1002882882882882.9,1006019925830418.9,1009069069069069.0,1012366029718358.2,1016421437800073.0,1019575338186179.1,1021591570732690.1,1023822487201395.2,1025871142042025.0,1027287317407354.4,1027254826728088.6,1027360577807380.2,1028290422367258.5,1028319148624314.1,1027832887637401.6,1025848759686749.5',\n",
              " '1509626117341794.0,1509822044132217.0,1510021097075491.0,1510333794963674.5,1510712301544423.2,1511090808125172.2,1511911986299152.5,1512765847887439.5,1513638912291612.5,1515744583883354.5,1517719361057247.0,1519845930789932.5,1523122330980045.0,1526419043081333.5,1529715755182622.2,1533889120955503.5,1537987987987988.0,1542375367270645.5,1548142285978020.0,1554806051872191.5,1560551702070319.5,1566297352268446.5,1573641397947664.2,1581291291291291.5,1589395500934949.2,1596756756756756.8,1604990047312062.0,1613292149185925.5,1621501501501501.5,1629014247445523.0,1637936797720805.5,1649339339339339.5,1658905852257566.2,1669164543391957.8,1678831302661816.5,1689293185567992.5,1699081871998618.2,1711201201201201.2,1721852612822213.0,1732719221757057.5,1742132132132132.0,1754065088271822.2,1764413725209380.5,1776156156156156.2,1788528528528528.8,1798909181667907.8,1810180180180180.2,1822675138463082.2,1835702482955079.0,1848729827447076.0,1861757171939073.8,1875135135135135.2,1887507507507507.5,1899879879879880.0,1912252252252252.2,1925409163930618.0,1940090090090090.2,1952462462462462.5,1964898915163744.5,1978105782194697.0,1992672672672672.8,2005082987365016.0,2020510510510510.5,2033346650774805.8,2048348348348348.5,2063813813813814.0,2076186186186186.2,2091651651651652.0,2104219687408882.2,2119489489489489.5,2134954954954955.0,2150420420420420.5,2165885885885886.0,2181351351351351.5,2196816816816817.0,2211822014268427.0,2227747747747747.8,2243213213213213.0,2258678678678679.0,2274144144144144.5,2289609609609609.5,2305631099647528.0,2323633633633634.0,2339099099099099.0,2357657657657658.0,2373123123123123.5,2388964115055709.5,2407147147147147.5,2425705705705706.0,2442512876975844.5,2459729729729730.0,2480019675450510.0,2496846846846847.0,2515405405405405.5,2533963963963964.0,2552522522522522.5,2574174174174174.5,2592732732732733.0,2614384384384384.5,2636036036036036.0,2657687687687688.0,2676246246246246.5,2697897897897898.0,2719549549549550.0,2738108108108108.5')"
            ]
          },
          "metadata": {},
          "execution_count": 77
        }
      ],
      "source": [
        "find_rhos(7)"
      ]
    },
    {
      "cell_type": "code",
      "execution_count": 78,
      "metadata": {
        "id": "3qWHUJHswVaY",
        "colab": {
          "base_uri": "https://localhost:8080/"
        },
        "outputId": "7a3aeede-47be-4fbc-e3cc-953a66f8daf5"
      },
      "outputs": [
        {
          "output_type": "stream",
          "name": "stdout",
          "text": [
            "Calculate properties of sly stars\n",
            "Start at central density 1e+13 g/cm^3\n",
            "Done at central density 1.02584875969e+15 g/cm^3\n",
            "Save to /content/macro_contour_md7sly.csv\n"
          ]
        }
      ],
      "source": [
        "# calculate neutron star observables for a given equation of state\n",
        "\n",
        "%%bash -s '$find_rhos.newrhocs_list' '$find_rhos.newrhocdms_list'\n",
        "# this cell is a separate terminal instance\n",
        "\n",
        "export PATH=$PATH:/opt/bin # the code doesn't need to be reinstalled in each terminal, but we do need to point to the install directory like this each time\n",
        "export PYTHONPATH=$PYTHONPATH:/opt/lib/python2.7/site-packages\n",
        "\n",
        "getnsprops sly.csv -p R,M,Rdm,Mdm,Mb,Md -d /content/ns-struc-dm/ -o /content/ -v -t macro_contour_md7 -r $1 -n 4 -R $2 # call the executable that computes the neutron star observables\n",
        "# getnsprops [eos table] -p [observables to calculate] -m [mass range to calculate them for] \n",
        "#-d [directory where the eos table lives] -o [directory where the table of observables should be output]"
      ]
    },
    {
      "cell_type": "code",
      "execution_count": 79,
      "metadata": {
        "id": "W1LLmpyOuXUF"
      },
      "outputs": [],
      "source": [
        "data_con_md0 = np.genfromtxt('/content/macro_contour_md0sly.csv',delimiter=',',names=True,dtype=None)\n",
        "data_con_md1 = np.genfromtxt('/content/macro_contour_md1sly.csv',delimiter=',',names=True,dtype=None)\n",
        "data_con_md2 = np.genfromtxt('/content/macro_contour_md2sly.csv',delimiter=',',names=True,dtype=None)\n",
        "data_con_md3 = np.genfromtxt('/content/macro_contour_md3sly.csv',delimiter=',',names=True,dtype=None)\n",
        "data_con_md4 = np.genfromtxt('/content/macro_contour_md4sly.csv',delimiter=',',names=True,dtype=None)\n",
        "data_con_md5 = np.genfromtxt('/content/macro_contour_md5sly.csv',delimiter=',',names=True,dtype=None)\n",
        "data_con_md6 = np.genfromtxt('/content/macro_contour_md6sly.csv',delimiter=',',names=True,dtype=None)\n",
        "data_con_md7 = np.genfromtxt('/content/macro_contour_md7sly.csv',delimiter=',',names=True,dtype=None)\n"
      ]
    },
    {
      "cell_type": "code",
      "execution_count": 80,
      "metadata": {
        "id": "Xe-LIiaXcysb"
      },
      "outputs": [],
      "source": [
        "def find_max(file):\n",
        "  l = np.argmax((file['Mg']))\n",
        "  R, M, rho_c, rho_cdm = file['R'][l], file['Mg'][l], file['rhoc'][l], file['rhocdm'][l]\n",
        "  return R,M, rho_c, rho_cdm"
      ]
    },
    {
      "cell_type": "code",
      "source": [
        "stable_md = []\n"
      ],
      "metadata": {
        "id": "cfPmhlDf3es6"
      },
      "execution_count": 81,
      "outputs": []
    },
    {
      "cell_type": "code",
      "source": [
        "stable_md.append(find_max(data_con_md0))\n",
        "stable_md.append(find_max(data_con_md1))\n",
        "stable_md.append(find_max(data_con_md2))\n",
        "stable_md.append(find_max(data_con_md3))\n",
        "stable_md.append(find_max(data_con_md4))\n",
        "stable_md.append(find_max(data_con_md5))\n",
        "stable_md.append(find_max(data_con_md6))\n",
        "stable_md.append(find_max(data_con_md7))\n"
      ],
      "metadata": {
        "id": "98zSpJxU4U5R"
      },
      "execution_count": 82,
      "outputs": []
    },
    {
      "cell_type": "code",
      "source": [
        "stable_mb = []\n"
      ],
      "metadata": {
        "id": "ohx1LyVy6xTk"
      },
      "execution_count": 83,
      "outputs": []
    },
    {
      "cell_type": "code",
      "source": [
        "stable_mb.append(find_max(data_con_mb0))\n",
        "stable_mb.append(find_max(data_con_mb2))\n",
        "stable_mb.append(find_max(data_con_mb3))\n",
        "stable_mb.append(find_max(data_con_mb4))\n",
        "stable_mb.append(find_max(data_con_mb5))\n",
        "stable_mb.append(find_max(data_con_mb6))\n",
        "stable_mb.append(find_max(data_con_mb7))\n"
      ],
      "metadata": {
        "id": "ZJkYcLLP8JV1"
      },
      "execution_count": 84,
      "outputs": []
    },
    {
      "cell_type": "code",
      "source": [
        "stable = stable_mb + stable_md\n"
      ],
      "metadata": {
        "id": "7l7Djk6u8aaF"
      },
      "execution_count": 85,
      "outputs": []
    },
    {
      "cell_type": "code",
      "source": [
        "stable_sort = np.sort(stable, axis = 0)"
      ],
      "metadata": {
        "id": "brFT8BtA8hwP"
      },
      "execution_count": 86,
      "outputs": []
    },
    {
      "cell_type": "code",
      "source": [
        "xdata = np.array([x[0] for x in stable])\n",
        "ydata = np.array([x[1] for x in stable])\n",
        "x,y = zip(*sorted(zip(xdata,ydata),key=lambda xdata: xdata[0]))\n",
        "\n",
        "\n",
        "\n",
        "# stable_line = np.polyfit(x,y,8)\n",
        "x1,y1 = np.array(list(x)), np.array(list(y))\n",
        "x2,y2 = x1.tolist(), y1.tolist()\n",
        "xnew = np.linspace(0,20, 60, endpoint = True)\n",
        "xnew2 =np.linspace(4.4,10.3, 60, endpoint = True)"
      ],
      "metadata": {
        "id": "NrZvoR7k8sr9"
      },
      "execution_count": 164,
      "outputs": []
    },
    {
      "cell_type": "code",
      "source": [
        "def func(x, a, b,c,d,e):\n",
        "    return a*np.power(x,4) + b*np.power(x,3) + c*np.power(x,2) + d*x + e\n",
        "popt, pcov = curve_fit(func, x1, y1)\n",
        "func(x1, *popt)\n",
        "\n",
        "def func_new(x, a,b,c,d,e):\n",
        "\n",
        "  return np.piecewise(x, [x < min(x1), (x>= min(x1)) & (x< 1.1*max(x1)), x >= 1.1*max(x1)], [2.5,lambda x: func(x,a,b,c,d,e), 2.5])"
      ],
      "metadata": {
        "id": "yLoQIt_ZBHum"
      },
      "execution_count": 88,
      "outputs": []
    },
    {
      "cell_type": "code",
      "source": [
        "plt.scatter([ x[0] for x in stable], [ x[1] for x in stable])\n",
        "plt.plot(xnew, func_new(xnew, *popt), 'r-')"
      ],
      "metadata": {
        "id": "7qq3Uop7Beoq",
        "colab": {
          "base_uri": "https://localhost:8080/",
          "height": 282
        },
        "outputId": "a0da8d66-0816-4857-fd33-058539c9a465"
      },
      "execution_count": 89,
      "outputs": [
        {
          "output_type": "execute_result",
          "data": {
            "text/plain": [
              "[<matplotlib.lines.Line2D at 0x7f6311fc2310>]"
            ]
          },
          "metadata": {},
          "execution_count": 89
        },
        {
          "output_type": "display_data",
          "data": {
            "text/plain": [
              "<Figure size 432x288 with 1 Axes>"
            ],
            "image/png": "[encoded data removed]"
          },
          "metadata": {
            "needs_background": "light"
          }
        }
      ]
    },
    {
      "cell_type": "code",
      "source": [
        "def stable_crop(file,col,frac, a,b,c,d,e):\n",
        "  boolean_array = file['Mg'] < func_new(file['R'],a,b,c,d,e)\n",
        "  # print(boolean_array)\n",
        "  boolean_new = []\n",
        "  boolean_element = boolean_array[0]\n",
        "  # print(boolean_array)\n",
        "  i=0\n",
        "  while boolean_element == True and i<len(boolean_array):\n",
        "    boolean_element = boolean_array[i]\n",
        "    boolean_new.append(boolean_element)\n",
        "    i=i+1\n",
        "  while i < len(boolean_array):\n",
        "    boolean_new.append(False)\n",
        "    i = i+1\n",
        "  boolean_array = boolean_new\n",
        "  # print(boolean_array)\n",
        "\n",
        "  for i in range(len(boolean_array)):\n",
        "\n",
        "    if boolean_array[i] == True:\n",
        "      R,M = file['R'][i], file['Mg'][i]\n",
        "      # print(R,M)\n",
        "      plt.scatter(file['R'][i], file['Mg'][i],marker='.',s=3, c = col,label = '{}%'.format(frac) if i == 0 else \"\" )\n",
        "\n",
        "    elif boolean_array[i] == False:\n",
        "      R,M = file['R'][i], file['Mg'][i]\n",
        "      # print(R, M, func(file['R'][i],a,b,c,d,e))\n",
        "      \n",
        "\n",
        "    # if file['M'] < func(file['R'], a,b,c,d,e):\n",
        "    #   plt.scatter(file['R'], file['Mg'],marker='.',s=3, c = 'b' )\n",
        "    # else:\n",
        "    #   plt.scatter(file['R'], file['Mg'],marker='.',s=3, c = 'r' )\n",
        "  \n",
        "\n",
        "  return\n"
      ],
      "metadata": {
        "id": "0YpK4tVurfZg"
      },
      "execution_count": 142,
      "outputs": []
    },
    {
      "cell_type": "code",
      "source": [
        "data_con = [data_con0,data_con1,data_con2, data_con3,data_con4, data_con5, data_con6, data_con7, data_con8,data_con9,data_con10]\n",
        "data_frac = [1,10,20,30,40,50,60,70,80,90,99 ]\n",
        "data_colours = ['b','g','r','c','m','y','indigo','pink','lime','brown','orange']"
      ],
      "metadata": {
        "id": "qmNRThU4C2h5"
      },
      "execution_count": 174,
      "outputs": []
    },
    {
      "cell_type": "code",
      "source": [
        "# for i in data_con:\n",
        "#   stable_crop(i,*popt)"
      ],
      "metadata": {
        "id": "zb2E01cED9WG"
      },
      "execution_count": 148,
      "outputs": []
    },
    {
      "cell_type": "code",
      "source": [
        "plt.figure(figsize= (11,7))\n",
        "for i,j,k in zip(data_con,data_frac,data_colours):\n",
        "  stable_crop(i,k,j,*popt)\n",
        "# stable_crop(data_con5,*popt)\n",
        "\n",
        "plt.xlabel(r'$R$ [km]', size = 16) # add plot labels, etc.\n",
        "plt.ylabel(r'$M+M_{DM}$ [$M_\\odot$]', size = 16)\n",
        "plt.plot(xnew2, func(xnew2, *popt), 'k-',label = 'Stability curve')\n",
        "# plt.scatter(mrl_data_sly['R'][0::48],(mrl_data_sly['Mg'])[0::48], label = '{} R0'.format('sly'), marker = 'o', color = 'k', s = 10)\n",
        "# plt.scatter(dat['R'],dat['Mg'],marker='.',s=2,c='k')\n",
        "\n",
        "\n",
        "plt.xticks(fontsize=16)\n",
        "plt.yticks(fontsize=16)\n",
        "plt.legend(bbox_to_anchor=(1.35, 1), fontsize = 16, title='Dark matter fraction',title_fontsize=18 )\n",
        "plt.xlim(2,15)\n",
        "plt.ylim(0,2.1)\n",
        "plt.show()\n"
      ],
      "metadata": {
        "colab": {
          "base_uri": "https://localhost:8080/",
          "height": 455
        },
        "id": "dkFhZB75tYqP",
        "outputId": "8f615c38-6f7f-4ea1-f6a2-4459378decfe"
      },
      "execution_count": 175,
      "outputs": [
        {
          "output_type": "display_data",
          "data": {
            "text/plain": [
              "<Figure size 792x504 with 1 Axes>"
            ],
            "image/png": "[encoded data removed]"
          },
          "metadata": {
            "needs_background": "light"
          }
        }
      ]
    },
    {
      "cell_type": "code",
      "source": [
        "xdata_rho = np.array([x[2] for x in stable])\n",
        "ydata_rho = np.array([x[3] for x in stable])\n",
        "xr,yr = zip(*sorted(zip(xdata_rho,ydata_rho),key=lambda xdata_rho: xdata_rho[0]))\n",
        "\n",
        "# stable_line = np.polyfit(x,y,8)\n",
        "x1r,y1r = np.array(list(xr)), np.array(list(yr))\n",
        "x2r,y2r = x1r.tolist(), y1r.tolist()"
      ],
      "metadata": {
        "id": "KRvXu59eoPeg"
      },
      "execution_count": 176,
      "outputs": []
    },
    {
      "cell_type": "code",
      "source": [
        "poptr, pcovr = curve_fit(func, x1r, y1r)\n",
        "func(x1r, *poptr)"
      ],
      "metadata": {
        "colab": {
          "base_uri": "https://localhost:8080/"
        },
        "id": "sQLM2UmbpoA6",
        "outputId": "6b7d90bd-db74-4752-ed19-36f28637a603"
      },
      "execution_count": 177,
      "outputs": [
        {
          "output_type": "stream",
          "name": "stderr",
          "text": [
            "/usr/local/lib/python3.7/dist-packages/scipy/optimize/minpack.py:808: OptimizeWarning: Covariance of the parameters could not be estimated\n",
            "  category=OptimizeWarning)\n"
          ]
        },
        {
          "output_type": "execute_result",
          "data": {
            "text/plain": [
              "array([2.10529151e+15, 2.34926520e+15, 2.47734115e+15, 2.44085843e+15,\n",
              "       2.30699760e+15, 2.22003226e+15, 2.11017812e+15, 1.89417454e+15,\n",
              "       1.76978065e+15, 1.75058643e+15, 1.65941516e+15, 1.61152206e+15,\n",
              "       1.57361276e+15, 1.45322722e+15, 1.44063575e+15])"
            ]
          },
          "metadata": {},
          "execution_count": 177
        }
      ]
    },
    {
      "cell_type": "code",
      "source": [
        "plt.scatter([ xr[2] for xr in stable], [ xr[3] for xr in stable], marker = '.')\n",
        "plt.plot(x1r, func(x1r, *poptr), 'r-')\n",
        "\n",
        "plt.scatter(dat['rhoc'],dat['rhocdm'],s=3)\n",
        "\n",
        "plt.xlabel('\\rho_c [g/cm^3]')\n",
        "plt.ylabel('\\rho_c^DM [g/cm^3]')\n",
        "plt.show()"
      ],
      "metadata": {
        "colab": {
          "base_uri": "https://localhost:8080/",
          "height": 361
        },
        "id": "ZHE9pIkGpwMn",
        "outputId": "3cb96bfb-0161-4a6c-8491-192e1185d851"
      },
      "execution_count": 179,
      "outputs": [
        {
          "output_type": "stream",
          "name": "stderr",
          "text": [
            "/usr/local/lib/python3.7/dist-packages/matplotlib/backends/backend_agg.py:214: RuntimeWarning: Glyph 13 missing from current font.\n",
            "  font.set_text(s, 0.0, flags=flags)\n",
            "/usr/local/lib/python3.7/dist-packages/matplotlib/backends/backend_agg.py:183: RuntimeWarning: Glyph 13 missing from current font.\n",
            "  font.set_text(s, 0, flags=flags)\n"
          ]
        },
        {
          "output_type": "display_data",
          "data": {
            "text/plain": [
              "<Figure size 432x288 with 1 Axes>"
            ],
            "image/png": "[encoded data removed]"
          },
          "metadata": {
            "needs_background": "light"
          }
        }
      ]
    },
    {
      "cell_type": "code",
      "source": [
        ""
      ],
      "metadata": {
        "id": "SGboGWnmp4qu"
      },
      "execution_count": null,
      "outputs": []
    }
  ],
  "metadata": {
    "colab": {
      "collapsed_sections": [],
      "name": "Two fluid code clean",
      "provenance": [],
      "include_colab_link": true
    },
    "kernelspec": {
      "display_name": "Python 3",
      "language": "python",
      "name": "python3"
    },
    "language_info": {
      "codemirror_mode": {
        "name": "ipython",
        "version": 3
      },
      "file_extension": ".py",
      "mimetype": "text/x-python",
      "name": "python",
      "nbconvert_exporter": "python",
      "pygments_lexer": "ipython3",
      "version": "3.7.4"
    }
  },
  "nbformat": 4,
  "nbformat_minor": 0
}